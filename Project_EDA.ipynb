{
  "nbformat": 4,
  "nbformat_minor": 0,
  "metadata": {
    "colab": {
      "provenance": [],
      "authorship_tag": "ABX9TyOPMH6u+ZnFYjn42brzUON8",
      "include_colab_link": true
    },
    "kernelspec": {
      "name": "python3",
      "display_name": "Python 3"
    },
    "language_info": {
      "name": "python"
    }
  },
  "cells": [
    {
      "cell_type": "markdown",
      "metadata": {
        "id": "view-in-github",
        "colab_type": "text"
      },
      "source": [
        "<a href=\"https://colab.research.google.com/github/jamesbconner/mads_593/blob/main/Project_EDA.ipynb\" target=\"_parent\"><img src=\"https://colab.research.google.com/assets/colab-badge.svg\" alt=\"Open In Colab\"/></a>"
      ]
    },
    {
      "cell_type": "code",
      "execution_count": 2,
      "metadata": {
        "id": "kPQG-eTAmqXv"
      },
      "outputs": [],
      "source": [
        "import os\n",
        "import pandas as pd\n",
        "import numpy as np\n",
        "import matplotlib as plt\n",
        "import seaborn as sns\n",
        "from collections import Counter, defaultdict\n",
        "from tqdm import tqdm"
      ]
    },
    {
      "cell_type": "markdown",
      "source": [
        "# Data Resources\n",
        "\n",
        "### Housing Data\n",
        "https://www.zillow.com/research/data/\n",
        "\n",
        "### Mortgage Industry\n",
        "https://www-statista-com.proxy.lib.umich.edu/topics/1685/mortgage-industry-of-the-united-states/#topicHeader__wrapper\n",
        "\n",
        "### FRED Economic Indicators\n",
        "https://fred.stlouisfed.org/\n",
        "\n",
        "* Median Consumer Price Index: https://fred.stlouisfed.org/series/MEDCPIM158SFRBCLE\n",
        "* Median Sales Price of Houses Sold for the United States https://fred.stlouisfed.org/series/MSPUS\n",
        "* Consumer Price Index for All Urban Consumers: Housing in US City Average: https://fred.stlouisfed.org/series/CPIHOSSL\n",
        "* 15-YR Fixed Rate Mortgage Avg in the US: https://fred.stlouisfed.org/series/MORTGAGE15US\n",
        "* 30-YR Fixed Rate Mortgage Avg in the US: https://fred.stlouisfed.org/series/MORTGAGE30US\n",
        "* Housing Inventory Estimate: Vacant Housing Units in the United States: https://fred.stlouisfed.org/series/EVACANTUSQ176N\n",
        "* Monthly Supply of New Houses in the United States https://fred.stlouisfed.org/series/MSACSR\n",
        "* New Privately-Owned Housing Units Started: Total Units https://fred.stlouisfed.org/series/HOUST\n",
        "* All-Transactions House Price Index for California https://fred.stlouisfed.org/series/CASTHPI\n",
        "* Housing Inventory: Active Listing Count in the United States https://fred.stlouisfed.org/series/ACTLISCOUUS\n",
        "* All-Transactions House Price Index for Florida https://fred.stlouisfed.org/series/FLSTHPI\n",
        "* S&P/Case-Shiller U.S. National Home Price Index https://fred.stlouisfed.org/series/CSUSHPISA\n",
        "* New One Family Houses Sold: United States https://fred.stlouisfed.org/series/HSN1F\n",
        "* Real Residential Property Prices for United States https://fred.stlouisfed.org/series/QUSR368BIS (percentage change per quarter)\n",
        "* Homeownership Rate in the United States https://fred.stlouisfed.org/series/RHORUSQ156N\n",
        "* Large Bank Consumer Mortgage Balances: 90 or More Days Past Due: Including Foreclosures Rates: Accounts Based https://fred.stlouisfed.org/series/RCMFLBACTDPDPCT90P\n",
        "* Large Bank Consumer Mortgage Balances: 30 or More Days Past Due: Including Foreclosures Rates: Accounts Based https://fred.stlouisfed.org/series/RCMFLBACTDPDPCT30P\n",
        "* Households; Owners' Equity in Real Estate, Level https://fred.stlouisfed.org/series/OEHRENWBSHNO (highly inflated last 10 years)\n",
        "* Real Estate Loans: Residential Real Estate Loans, All Commercial Banks https://fred.stlouisfed.org/series/RREACBW027SBOG\n",
        "\n",
        "\n",
        "### Electricity Costs\n",
        "https://www.eia.gov/electricity/state/\n",
        "\n",
        "https://www.eia.gov/electricity/data.php\n",
        "\n",
        "* Total Electric Power Industry Summary Stats: https://www.eia.gov/electricity/annual/xls/epa_01_02.xlsx\n",
        "* \"Monthly Retail Price by Sector,State\" (only includes Oct2021/Oct2022):  https://www.eia.gov/electricity/monthly/xls/table_5_06_a.xlsx\n",
        "* *** Annual Retail Price by sector, state, provider: https://www.eia.gov/electricity/data/state/sales_annual_a.xlsx\n",
        "* Average Sales Price of Houses Sold for the United States:  https://fred.stlouisfed.org/series/ASPUS"
      ],
      "metadata": {
        "id": "6aSE7UPAoY3n"
      }
    },
    {
      "cell_type": "markdown",
      "source": [
        "# Load Data Assets"
      ],
      "metadata": {
        "id": "pKF9OS3Dm1Lp"
      }
    },
    {
      "cell_type": "code",
      "source": [],
      "metadata": {
        "id": "3eJ7RN_mokO_"
      },
      "execution_count": null,
      "outputs": []
    }
  ]
}