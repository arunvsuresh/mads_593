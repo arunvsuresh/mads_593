{
 "cells": [
  {
   "cell_type": "markdown",
   "metadata": {
    "cell_id": "05de53abd6904ae585d82840b365e4c5",
    "deepnote_cell_type": "markdown",
    "tags": []
   },
   "source": [
    "# Analysis Notebook\n",
    "by Arun Suresh, Nick Wheatley and James Conner"
   ]
  },
  {
   "cell_type": "markdown",
   "metadata": {
    "cell_id": "5946d523dda7409aa7a9c2b2d3b17f70",
    "deepnote_cell_type": "markdown",
    "tags": []
   },
   "source": [
    "<hr style=\"border:2px solid gray\">"
   ]
  },
  {
   "cell_type": "markdown",
   "metadata": {
    "cell_id": "8baacd45261e4626af4fe9acb4f629bb",
    "deepnote_cell_type": "markdown",
    "tags": []
   },
   "source": [
    "## Subject of Analysis:\n",
    "\n",
    "**Problem Statement**\n",
    "While remote work has been a feature of  corporate workplaces for decades, it has not been exceptionally common.  The COVID-19 pandemic dramatically changed the face of remote work in the United States within a few short months, due to prohibitions placed on gathering in public spaces.  \n",
    "\n",
    "As companies and the workforce adapted to remote work as a primary mechanism of employment between 2020 and 2022, many well paid professionals were no longer tied to short commutes to the office (Coate 2021).\n",
    "\n",
    "This led to an exodus from the high home value city centers to the more reasonably\n",
    "\n",
    "Info on analysis purpose priced suburbs exurbs, which has had a side effect of increasing exurb median home values due to surging market demand (Markarian 2021).\n",
    "\n",
    "**Motivation**\n",
    "The purpose of this report is to analyze the effect on affordability caused by this migration from city center to exurb counties between 2020 and 2022.  We will demonstrate this effect using an Affordability Index, comprised of income, home values, and utility costs per county in the United States.  This index will then be used to create a national analysis, as well as a regional analysis for two large city centers.\n",
    "\n",
    "The value of this analysis is in identifying the trend that remote work and the resulting metro center exodus has had on exurb communities and city cores, from the perspective of a potential home buyer.  Using the data, notebooks, indexes and methods of analysis we have comprised in this project, readers can analyze any county of interest for their own needs.\n",
    "\n",
    "**Regional Concentration**\n",
    "The two regions that have been selected for our analysis are the San Francisco Bay area, and the New York City metropolitan area. These two metropolitan areas are classic examples of high cost city centers with a high concentration of professionals, and exhibit the “donut effect” (Ramani & Bloom 2021).\n",
    "<br>\n",
    "<hr>\n",
    "<br>\n",
    "\n",
    "_Coate, Patrick. “Remote Work before, during, and after the Pandemic Quarterly Economics Briefing–Q4 2020.” Remote Work Before, During, and After the Pandemic, National Council on Compensation Insurance, 25 Jan. 2021, https://www.ncci.com/SecureDocuments/QEB/QEB_Q4_2020_RemoteWork.html_\n",
    "\n",
    "_Markarian, Kevin. “Council Post: The Effects of Remote Work on Real Estate across the U.S.” Forbes, Forbes Magazine, 23 Apr. 2021, https://www.forbes.com/sites/forbesrealestatecouncil/2021/04/23/the-effects-of-remote-work-on-real-estate-across-the-us/_\n",
    "\n",
    "_Ramani, Arjun, and Nicholas Bloom. “The Donut Effect: How Covid-19 Shapes Real Estate.” Stanford Institute for Economic Policy Research, Stanford University, Jan. 2021, https://siepr.stanford.edu/publications/policy-brief/donut-effect-how-covid-19-shapes-real-estate_\n",
    "\n"
   ]
  },
  {
   "cell_type": "markdown",
   "metadata": {
    "cell_id": "b8db652f033b458687c4e5a00862905a",
    "deepnote_cell_type": "markdown",
    "tags": []
   },
   "source": [
    "<hr style=\"border:1px solid gray\">"
   ]
  },
  {
   "cell_type": "markdown",
   "metadata": {
    "cell_id": "fa9b128274f9453fa832e90e8f69c483",
    "deepnote_cell_type": "markdown",
    "tags": []
   },
   "source": [
    "## Additional Notebooks\n",
    "\n",
    "**[Data Manipulation](01_Data_Manipulation.ipynb)**\n",
    "\n",
    "**[Data Merging and Index Creation](02_Data_Merging_and_Index_Creation.ipynb)**"
   ]
  },
  {
   "cell_type": "markdown",
   "metadata": {
    "cell_id": "bc667c06dcf34948a2bfe92f7ea8da74",
    "deepnote_cell_type": "markdown",
    "tags": []
   },
   "source": [
    "<hr style=\"border:1px solid gray\">"
   ]
  },
  {
   "cell_type": "markdown",
   "metadata": {
    "cell_id": "7becb5b217144b60b92457980c102860",
    "deepnote_cell_type": "markdown",
    "tags": []
   },
   "source": [
    "## Notebook Setup"
   ]
  },
  {
   "cell_type": "markdown",
   "metadata": {
    "cell_id": "67dab841347341c4aafd8c80d00ab659",
    "deepnote_cell_type": "markdown",
    "tags": []
   },
   "source": [
    "### Set Up the Environment\n",
    "\n",
    "Ensure that the environment has consistent versions of the required libraries."
   ]
  },
  {
   "cell_type": "code",
   "execution_count": null,
   "metadata": {
    "cell_id": "3365ed4a7fe344f98caf7e99af430c77",
    "deepnote_cell_type": "code",
    "deepnote_to_be_reexecuted": false,
    "execution_millis": 1260,
    "execution_start": 1676947857360,
    "source_hash": "63f5801e",
    "tags": []
   },
   "outputs": [],
   "source": [
    "import sys\n",
    "# Plotly is required for the graphs\n",
    "# Kaleido is required to export graph images\n",
    "# Pandas required for dataframes\n",
    "# Numpy required for pandas\n",
    "# Pyarrow installed to write/read parquet files\n",
    "# Pip upgrade required due to pandas wheel build issues\n",
    "# Statsmodels required for plotly trendlines\n",
    "\n",
    "required_libs = ['pandas==1.2.5', 'numpy==1.23.4', 'plotly==5.10.0', 'pyarrow==9.0.0', 'kaleido==0.2.1', 'statsmodels==0.13.5']\n",
    "required_libs_str = \" \".join(required_libs)\n",
    "\n",
    "current_libs = !{sys.executable} -m pip freeze\n",
    "                    \n",
    "if len(set(required_libs) - set(current_libs)) != 0:\n",
    "    print(\"Missing or different libraries.\")\n",
    "    print(\"Installing required libraries/versions.\")\n",
    "    !{sys.executable} -m pip install --upgrade pip -q \n",
    "    !{sys.executable} -m pip install -q {required_libs_str}\n",
    "else:\n",
    "    print(\"Libraries and versions match.\")"
   ]
  },
  {
   "cell_type": "markdown",
   "metadata": {
    "cell_id": "2eb6d2466713479195d1b287f4f8a2cc",
    "deepnote_cell_type": "markdown",
    "deepnote_to_be_reexecuted": false,
    "execution_millis": 1,
    "execution_start": 1676557164754,
    "source_hash": "b327fd8",
    "tags": []
   },
   "source": [
    "### Import Libraries/Modules"
   ]
  },
  {
   "cell_type": "code",
   "execution_count": null,
   "metadata": {
    "cell_id": "6be298d609dd48298d018f7ae544ca4a",
    "deepnote_cell_type": "code",
    "deepnote_to_be_reexecuted": false,
    "execution_millis": 984,
    "execution_start": 1676947857665,
    "source_hash": "b650f78d",
    "tags": []
   },
   "outputs": [],
   "source": [
    "import os\n",
    "import json\n",
    "import pandas as pd\n",
    "import numpy as np\n",
    "import plotly.express as px\n",
    "import plotly.io as pio\n",
    "import kaleido\n",
    "from urllib.request import urlopen"
   ]
  },
  {
   "cell_type": "markdown",
   "metadata": {
    "cell_id": "dac05f341fe84db1bcc124578a339e60",
    "deepnote_cell_type": "markdown",
    "tags": []
   },
   "source": [
    "### Load Data\n",
    "\n",
    "The next step is to load the data, and make any slight modifications to the data that we might need for the analysis, such as changing the format of a column, or adding a convenience column.  Any serious modifications of the data should occur within the previous data manipulation or merging notebooks."
   ]
  },
  {
   "cell_type": "code",
   "execution_count": null,
   "metadata": {
    "cell_id": "740a3ddd484e42e9b7c8cfa53ff93ae5",
    "deepnote_cell_type": "code",
    "deepnote_to_be_reexecuted": false,
    "execution_millis": 0,
    "execution_start": 1676947858650,
    "source_hash": "8fdf6d98",
    "tags": []
   },
   "outputs": [],
   "source": [
    "# Path to data file\n",
    "data_path = \"data/\"\n",
    "\n",
    "# The list of files for this notebook\n",
    "file_list = ['merged_dataframe.parquet']\n",
    "\n",
    "# If the data_path var is set, create a list of files in the data_path\n",
    "if data_path:\n",
    "    dir_list = os.listdir(data_path)\n",
    "else:\n",
    "    print(\"Error: The data path variable does not exist!\")\n",
    "\n",
    "# Verify all of the files from the file_list exist inside the directory list\n",
    "if set(file_list).intersection(set(dir_list)):\n",
    "    # Import the merged data\n",
    "    # This dataframe is the result of the data manipulation and index creation stages\n",
    "    df = pd.read_parquet(os.path.join(data_path,file_list[0]))\n",
    "\n",
    "    # Add a column which concats County & State for convenience\n",
    "    # This variable is used for the hover name in the choropleth maps\n",
    "    df['CountyState'] = df['County'] + \", \" + df['State']\n",
    "\n",
    "    # Multiply the percentages by 100 for easier graphing\n",
    "    df['median_home_value_2yr_change_perc'] = df['median_home_value_2yr_change_perc']*100\n",
    "    df['median_income_2yr_change_perc'] = df['median_income_2yr_change_perc']*100\n",
    "else:\n",
    "    print(\"Error:  Not all data from the file list is available.\")"
   ]
  },
  {
   "cell_type": "code",
   "execution_count": null,
   "metadata": {
    "cell_id": "3da0598531064be5b2f3de73342dcd66",
    "deepnote_cell_type": "code",
    "deepnote_to_be_reexecuted": false,
    "execution_millis": 196,
    "execution_start": 1676947858650,
    "source_hash": "322783a9",
    "tags": []
   },
   "outputs": [],
   "source": [
    "# Validate the data loaded successfully\n",
    "df[df.Year == 2022].head(5)"
   ]
  },
  {
   "cell_type": "markdown",
   "metadata": {
    "cell_id": "677688612f414d4eb8edab3ca0ece029",
    "deepnote_cell_type": "markdown",
    "deepnote_to_be_reexecuted": false,
    "execution_millis": 1,
    "execution_start": 1676557560527,
    "source_hash": "9edb5afc",
    "tags": []
   },
   "source": [
    "### Functions"
   ]
  },
  {
   "cell_type": "markdown",
   "metadata": {
    "cell_id": "616a50b5e8194b57ba73836c29142a7b",
    "deepnote_cell_type": "markdown",
    "deepnote_to_be_reexecuted": false,
    "execution_millis": 1,
    "execution_start": 1676557575326,
    "source_hash": "68ff472c",
    "tags": []
   },
   "source": [
    "#### Helper Functions"
   ]
  },
  {
   "cell_type": "markdown",
   "metadata": {
    "cell_id": "acafd05969fd4a2fa73daf691d3cda84",
    "deepnote_cell_type": "markdown",
    "tags": []
   },
   "source": [
    "These functions will be used to help create some of the variables needed for the analysis."
   ]
  },
  {
   "cell_type": "code",
   "execution_count": null,
   "metadata": {
    "cell_id": "65a5311eda7a4ca7a3e41935d340ead3",
    "deepnote_cell_type": "code",
    "deepnote_to_be_reexecuted": false,
    "execution_millis": 0,
    "execution_start": 1676947858651,
    "source_hash": "bf56b941",
    "tags": []
   },
   "outputs": [],
   "source": [
    "def create_range(s):\n",
    "    \"\"\"\n",
    "    Creates a min/max tuple from a dataframe series\n",
    "\n",
    "    s: dataframe series\n",
    "    returns: (min,max)\n",
    "    \"\"\"\n",
    "    return (np.floor(s.min()), np.ceil(s.max()))\n",
    "\n",
    "def create_center_point(r,pm=0.2):\n",
    "    \"\"\"\n",
    "    Takes a (min,max) range, and finds the centerpoint.\n",
    "    Also creates plus/minus variables off the centerpoint,\n",
    "    which can be used in creating color ranges for the maps.\n",
    "\n",
    "    r: (min,max) tuple\n",
    "    pm: Plus Minus\n",
    "\n",
    "    returns: c, centerpoint\n",
    "    returns: cp, centerpoint plus the pm float\n",
    "    returns: cm, centerpoint minus the pm float\n",
    "    \"\"\"\n",
    "    c = np.abs(r[0])/(r[1]-r[0])\n",
    "    cp = c+pm\n",
    "    cm = c-pm\n",
    "\n",
    "    return c,cp,cm"
   ]
  },
  {
   "cell_type": "markdown",
   "metadata": {
    "cell_id": "621836d7b37f424482f4b2cd6cfd964f",
    "deepnote_cell_type": "markdown",
    "tags": []
   },
   "source": [
    "#### Visualization Functions"
   ]
  },
  {
   "cell_type": "markdown",
   "metadata": {
    "cell_id": "b8f94a3a4c5143ed93c18dc05d549a16",
    "deepnote_cell_type": "markdown",
    "tags": []
   },
   "source": [
    "The chart functions below are used to reduce the amount of redundant and repeatative code in the notebook."
   ]
  },
  {
   "cell_type": "code",
   "execution_count": null,
   "metadata": {
    "cell_id": "35869414080c4f3eb04bbffedae9660c",
    "deepnote_cell_type": "code",
    "deepnote_to_be_reexecuted": false,
    "execution_millis": 0,
    "execution_start": 1676947858652,
    "source_hash": "d67926e0",
    "tags": []
   },
   "outputs": [],
   "source": [
    "# These functions are meant to be used in series, and are not independent.\n",
    "# The correct order of operations for the functions are as follows:\n",
    "\n",
    "# fig = create_<chart_tye>(dataframe, ... )\n",
    "# fig = update_lo(fig, ... )\n",
    "# fig = add_anno(fig, ... )\n",
    "# fig.show()\n",
    "\n",
    "def create_choropleth(df, c, lab, ttl, h=\"\", locs='FIPS', c_scale=\"\", r_scale=(0,100), h_name=\"CountyState\", bm=False, fb=\"locations\"):\n",
    "    \"\"\"\n",
    "    Creates the base figure for the choropleth map.\n",
    "\n",
    "    df:  Pandas Dataframe\n",
    "    c:   Color variable, a Column of the df\n",
    "    h:   Hover data as a dictionary\n",
    "    lab: The Labels variable, a Dictionary of \"column name\":\"renamed\"\n",
    "    ttl: Title variable\n",
    "    bm:  Show or Hide the \"base map\"\n",
    "    fb:  Set the fit boundary for the map. Set to False for national map\n",
    "    c_scale:  The color scale to be used, if different from default\n",
    "    r_scale:  The range_color variable, a Tuple of (min,max)\n",
    "    h_name:   The hover_name variable, a Column of the df\n",
    "\n",
    "    returns: The map figure\n",
    "    \"\"\"\n",
    "    if c_scale == \"\":\n",
    "        c_scale = color_scale\n",
    "    \n",
    "    if h == \"\":\n",
    "        h = hover_basic\n",
    "    \n",
    "    f = px.choropleth(df, \n",
    "        geojson=counties, \n",
    "        locations='FIPS', \n",
    "        color=c,\n",
    "        color_continuous_scale=c_scale,\n",
    "        range_color=r_scale,\n",
    "        scope=\"usa\",\n",
    "        hover_name='CountyState',\n",
    "        hover_data=h,\n",
    "        labels=lab,\n",
    "        basemap_visible=bm,\n",
    "        fitbounds=fb,\n",
    "        title=ttl\n",
    "    )\n",
    "\n",
    "    return f\n",
    "\n",
    "\n",
    "def create_scatter(df, c, x, y, lab, ttl, h=\"\", c_scale=\"\", h_name=\"CountyState\", **kwargs):\n",
    "    \"\"\"\n",
    "    Creates the base figure for the scatterplot.\n",
    "\n",
    "    df:  Pandas Dataframe\n",
    "    x:   The x axis variable\n",
    "    y:   The y axis variable\n",
    "    c:   Color variable, a Column of the df\n",
    "    h:   Hover data as a dictionary\n",
    "    lab: The Labels variable, a Dictionary of \"column name\":\"renamed\"\n",
    "    ttl: Title variable\n",
    "    h_name:   The hover_name variable, a Column of the df\n",
    "\n",
    "    returns: The scatterplot figure\n",
    "    \"\"\"\n",
    "    if c_scale == \"\":\n",
    "        c_scale = color_scale\n",
    "    \n",
    "    if h == \"\":\n",
    "        h = hover_basic\n",
    "\n",
    "    f = px.scatter(df, x=x, y=y, color=c, color_continuous_scale=c_scale, hover_name='CountyState',\n",
    "        hover_data=h, labels=lab, title=ttl, **kwargs)\n",
    "\n",
    "    return f"
   ]
  },
  {
   "cell_type": "markdown",
   "metadata": {
    "cell_id": "96ca80b1742a4a2693118ba85c2f770a",
    "deepnote_cell_type": "markdown",
    "tags": []
   },
   "source": [
    "The update functions below are used to reduce the amount of redundant and repeatative code in the notebook."
   ]
  },
  {
   "cell_type": "code",
   "execution_count": null,
   "metadata": {
    "cell_id": "33ab08a558a249f680ce4cd37c0b9b4f",
    "deepnote_cell_type": "code",
    "deepnote_to_be_reexecuted": false,
    "execution_millis": 1,
    "execution_start": 1676947858652,
    "source_hash": "18f083e",
    "tags": []
   },
   "outputs": [],
   "source": [
    "def update_lo(f, dt=10, ts=\" %\", tp=\"\", tx=0.5, ty=0.9, y=0.8, x=0.7):\n",
    "    \"\"\"\n",
    "    Updates various items of the base plotly fig, including\n",
    "    the legend, font, and title centering.\n",
    "\n",
    "    f:  The figure, from create_<function>()\n",
    "    dt: The dtick variable, float or int\n",
    "    tx: Title X location\n",
    "    ty: Title Y location\n",
    "    ts: Tick suffix\n",
    "    x:  The x position for the legend\n",
    "    y:  The y position for the legend\n",
    "\n",
    "    returns: The plotly figure\n",
    "    \"\"\"\n",
    "\n",
    "    color_text = '#57677B'\n",
    "\n",
    "    # Update the Base Map\n",
    "    f.update_layout(\n",
    "        # Establish the image margins    \n",
    "        margin={\"r\":0,\"t\":0,\"l\":0,\"b\":0, \"pad\":0},\n",
    "\n",
    "        # Improve the legend\n",
    "        coloraxis_colorbar=dict(\n",
    "        thicknessmode=\"pixels\", thickness=10,\n",
    "        lenmode=\"pixels\", len=300,\n",
    "        yanchor=\"top\", y=y,\n",
    "        xanchor=\"left\", x=x,\n",
    "        ticks=\"outside\", \n",
    "        ticksuffix=ts,\n",
    "        tickprefix=tp,\n",
    "        dtick=dt),\n",
    "\n",
    "        # Set background Transparency\n",
    "        plot_bgcolor='rgba(0,0,0,0)',\n",
    "        paper_bgcolor='rgba(0,0,0,0)',\n",
    "        geo_bgcolor='rgba(0,0,0,0)',\n",
    "\n",
    "        # Center the Title\n",
    "        title_x = tx,\n",
    "        title_y = ty,\n",
    "\n",
    "        # Update Font\n",
    "        font=dict(color=color_text)\n",
    "    )\n",
    "\n",
    "    return f\n",
    "\n",
    "def add_anno(f, t, x=0.25, y=0.0):\n",
    "    \"\"\"\n",
    "    Adds an annotation to the figure.\n",
    "\n",
    "    f: The figure, from update_lo()\n",
    "    t: The text of the annotation, as an f-string \n",
    "    x: The xshift for the anno\n",
    "    y: The yshift for the anno \n",
    "\n",
    "    returns: The plotly figure\n",
    "    \"\"\"\n",
    "    # Add sourcing annotation\n",
    "    f.add_annotation(\n",
    "        text = (t), \n",
    "        showarrow=False, x = x, y = y , xref='paper', yref='paper', \n",
    "        xanchor='left', yanchor='bottom', xshift=0, yshift=0, \n",
    "        font=dict(size=10, color=\"grey\"), align=\"center\")\n",
    "    \n",
    "    return f"
   ]
  },
  {
   "cell_type": "markdown",
   "metadata": {
    "cell_id": "f4d29d02fcda4447b2735ae473ea5c50",
    "deepnote_cell_type": "markdown",
    "deepnote_to_be_reexecuted": false,
    "execution_millis": 0,
    "execution_start": 1676557242072,
    "source_hash": "2ea4b49a",
    "tags": []
   },
   "source": [
    "### Create Common Variables, Objects and Dataframes"
   ]
  },
  {
   "cell_type": "markdown",
   "metadata": {
    "cell_id": "231ef162314a40799562e0b12d58401d",
    "deepnote_cell_type": "markdown",
    "deepnote_to_be_reexecuted": false,
    "execution_millis": 4,
    "execution_start": 1676560149926,
    "source_hash": "46440089",
    "tags": []
   },
   "source": [
    "**Counties GeoJSON**\n",
    "\n",
    "This object contains the polygon boundaries of the counties.  It is passed into the Plotly Express Choropleth maps function to satisfy the requirement for the \"geojson\" variable."
   ]
  },
  {
   "cell_type": "code",
   "execution_count": null,
   "metadata": {
    "cell_id": "93777810282543149e6089176d01d6fb",
    "deepnote_cell_type": "code",
    "deepnote_to_be_reexecuted": false,
    "execution_millis": 1,
    "execution_start": 1676947858653,
    "source_hash": "4ce96135",
    "tags": []
   },
   "outputs": [],
   "source": [
    "### Download a copy of the geojson counties boundary file\n",
    "# This file is used for the geojson variable in the choropleths\n",
    "# It provides the polygon data for the counties in the USA\n",
    "with urlopen('https://raw.githubusercontent.com/plotly/datasets/master/geojson-counties-fips.json') as response:\n",
    "    counties = json.load(response)"
   ]
  },
  {
   "cell_type": "markdown",
   "metadata": {
    "cell_id": "877d140e450a4d098c1feea54f1f52ee",
    "deepnote_cell_type": "markdown",
    "tags": []
   },
   "source": [
    "**FIPS Variables**\n",
    "\n",
    "Per the [FCC](https://transition.fcc.gov/oet/info/maps/census/fips/fips.txt):  _The Federal Information Processing System (FIPS) codes are numbers which uniquely identify geographic areas.  The number of digits in FIPS codes vary depending on the level of geography.  State-level FIPS codes have two digits, county-level FIPS codes have five digits of which the  first two are the FIPS code of the state to which the county belongs._\n",
    "\n",
    "We have created 2 lists of FIPS codes below, one for each of the specific regions in our analysis."
   ]
  },
  {
   "cell_type": "code",
   "execution_count": null,
   "metadata": {
    "cell_id": "c484255de9014b14a28c2a676634a7f5",
    "deepnote_cell_type": "code",
    "deepnote_to_be_reexecuted": false,
    "execution_millis": 0,
    "execution_start": 1676947858654,
    "source_hash": "b84c2fbc",
    "tags": []
   },
   "outputs": [],
   "source": [
    "### Define FIPS codes\n",
    "# NYC\n",
    "# Individually list FIPS codes due to crossing 4 state boundaries\n",
    "nyc_fips = [\"36103\",\"36059\",\"36081\",\"36047\",\"36061\",\"36005\",\"36085\",\n",
    "\"36071\",\"36079\",\"36119\",\"36087\",\"36079\",\"36111\",\"36027\",\"36105\",\n",
    "\"34031\",\"34021\",\"34029\",\"34003\",\"34039\",\"34017\",\"34025\",\"34023\",\n",
    "\"34035\",\"34019\",\"34041\",\"34037\",\"42103\",\"09001\",\"09005\",\"09009\",\n",
    "\"34013\",\"42089\",\"42095\",\"42017\",\"34005\",\"34027\"]\n",
    "\n",
    "# SF\n",
    "sf_counties = ['Alameda','Butte','Calaveras','Colusa',\n",
    "'Contra Costa','El Dorado','Fresno','Lake','Marin','Mendocino',\n",
    "'Merced','Monterey','Napa','Sacramento','San Benito',\n",
    "'San Francisco','San Joaquin','San Mateo','Santa Clara',\n",
    "'Santa Cruz','Solano','Sonoma','Stanislaus','Sutter','Yolo','Yuba']\n",
    "sf_fips = list(df.loc[(df.State == 'California') & (df.County.isin(sf_counties)),'FIPS'].unique())"
   ]
  },
  {
   "cell_type": "markdown",
   "metadata": {
    "cell_id": "f53d18ac9efd4eb480ed1572de5cb042",
    "deepnote_cell_type": "markdown",
    "tags": []
   },
   "source": [
    "**Additional Dataframes**\n",
    "\n",
    "These dataframes aren't required, but they are used for convenience, reduction in duplicated code, and readability of the notebook.  The first step is to identify the columns we want the focused dataframes to have."
   ]
  },
  {
   "cell_type": "code",
   "execution_count": null,
   "metadata": {
    "cell_id": "6f592357a1364112b4e180ac2f35e1e8",
    "deepnote_cell_type": "code",
    "deepnote_to_be_reexecuted": false,
    "execution_millis": 0,
    "execution_start": 1676947858655,
    "source_hash": "e3df9f4",
    "tags": []
   },
   "outputs": [],
   "source": [
    "# Since we have additional columns in the source data that were created and used in the\n",
    "# intermediate data processing stages, let's reduce the additional dataframes to just\n",
    "# the columns that we need in the analysis.\n",
    "cols = ['County','State','CountyState','Median Household Income','Median Home Value',\n",
    "        'FIPS','Total Utility Costs','income_index','home_price_index',\n",
    "        'utility_cost_index','afi','afi_growth','total_cost_index']"
   ]
  },
  {
   "cell_type": "markdown",
   "metadata": {
    "cell_id": "5d0f12095dfb41afb55bcabbfd5e6b45",
    "deepnote_cell_type": "markdown",
    "tags": []
   },
   "source": [
    "2022 Dataframes"
   ]
  },
  {
   "cell_type": "code",
   "execution_count": null,
   "metadata": {
    "cell_id": "1aa8dda4a3ea4449a41b18c57cfeec33",
    "deepnote_cell_type": "code",
    "deepnote_to_be_reexecuted": false,
    "execution_millis": 1,
    "execution_start": 1676947858655,
    "source_hash": "73120e7a",
    "tags": []
   },
   "outputs": [],
   "source": [
    "### Create dataframes that limit the data to just 2022 and desired columns\n",
    "# 3 dataframes created: National, NYC, and SF\n",
    "# NYC and SF are based on the National 2022 df\n",
    "nat_2022_df = df[df.Year == 2022][cols]\n",
    "nyc_2022_df = nat_2022_df[nat_2022_df.FIPS.isin(nyc_fips)]\n",
    "sf_2022_df = nat_2022_df[nat_2022_df.FIPS.isin(sf_fips)]"
   ]
  },
  {
   "cell_type": "markdown",
   "metadata": {
    "cell_id": "94c3650b929148c8b09aab780981fb1e",
    "deepnote_cell_type": "markdown",
    "tags": []
   },
   "source": [
    "2020 Dataframes"
   ]
  },
  {
   "cell_type": "code",
   "execution_count": null,
   "metadata": {
    "allow_embed": false,
    "cell_id": "c26fbe25138a4a0085368a4bce684489",
    "deepnote_cell_type": "code",
    "deepnote_to_be_reexecuted": false,
    "execution_millis": 2,
    "execution_start": 1676947858656,
    "source_hash": "25b5b6b9",
    "tags": []
   },
   "outputs": [],
   "source": [
    "### Create dataframes that limit the data to just 2020 and desired columns\n",
    "# 3 dataframes created: National, NYC, and SF\n",
    "# NYC and SF are based on the National 2022 df\n",
    "nat_2020_df = df[df.Year == 2020][cols]\n",
    "nyc_2020_df = nat_2020_df[nat_2020_df.FIPS.isin(nyc_fips)]\n",
    "sf_2020_df = nat_2020_df[nat_2020_df.FIPS.isin(sf_fips)]"
   ]
  },
  {
   "cell_type": "markdown",
   "metadata": {
    "cell_id": "5acc07b96bf848fa871309afc3ae86da",
    "deepnote_cell_type": "markdown",
    "tags": []
   },
   "source": [
    "2 Year Differences Dataframes"
   ]
  },
  {
   "cell_type": "code",
   "execution_count": null,
   "metadata": {
    "cell_id": "33783a454c2e4610b1e767bc79e95f6b",
    "deepnote_cell_type": "code",
    "deepnote_to_be_reexecuted": false,
    "execution_millis": 0,
    "execution_start": 1676947858658,
    "source_hash": "b034cbf8",
    "tags": []
   },
   "outputs": [],
   "source": [
    "### First establish the limited columns we want to utilize for the diff\n",
    "# We will add the County and State information back with a merge after the diff\n",
    "diff_cols = ['Median Household Income','Median Home Value','FIPS','Total Utility Costs',\n",
    "            'income_index','home_price_index','utility_cost_index','afi','total_cost_index']\n",
    "\n",
    "### Create dataframes which contains the differences between 2022-2020\n",
    "# Create the national dataframe\n",
    "diff_2yr = pd.DataFrame.round(\n",
    "df[(df.Year == 2022)][diff_cols].set_index('FIPS').sort_index() - \\\n",
    "df[(df.Year == 2020)][diff_cols].set_index('FIPS').sort_index(), 2).reset_index()\n",
    "\n",
    "# Merge the County and State columns into the dataframe based on the FIPS code\n",
    "diff_2yr = diff_2yr.merge(df[['County','State','CountyState','FIPS']], how='left', on='FIPS').drop_duplicates()\n",
    "\n",
    "# Create the regional diff dataframes, using the national dataframe and their respective FIPS lists\n",
    "# New York and San Fran Diffs\n",
    "nyc_diff_2yr = diff_2yr[diff_2yr.FIPS.isin(nyc_fips)]\n",
    "sf_diff_2yr = diff_2yr[diff_2yr.FIPS.isin(sf_fips)]"
   ]
  },
  {
   "cell_type": "markdown",
   "metadata": {
    "cell_id": "7c89d0b812ec42c4b75f0a726574855f",
    "deepnote_cell_type": "markdown",
    "deepnote_to_be_reexecuted": false,
    "execution_millis": 4,
    "execution_start": 1676559515184,
    "source_hash": "9c21813b",
    "tags": []
   },
   "source": [
    "**Min/Max Range Variables**\n",
    "\n",
    "These variables help create readable graphs by limiting the color scale to only the range of numbers observed in the dataset's variable of interest.  For example, when viewing the a regional map which does not contain values lower `20` and higher than `80`, the range of the variable would be `20-80`, instead of `0-100`."
   ]
  },
  {
   "cell_type": "code",
   "execution_count": null,
   "metadata": {
    "cell_id": "dc396468878b457e815ef475e7adec52",
    "deepnote_cell_type": "code",
    "deepnote_to_be_reexecuted": false,
    "execution_millis": 1,
    "execution_start": 1676947858659,
    "source_hash": "15e2651e",
    "tags": []
   },
   "outputs": [],
   "source": [
    "### Define FIPS Min/Max values of interest\n",
    "# National Ranges\n",
    "nat_median_home_value_2yr_change_perc = create_range(s=df[(df.Year == 2022)][\"median_home_value_2yr_change_perc\"])\n",
    "nat_afi_growth = create_range(s=df[(df.Year == 2022)][\"afi_growth\"])\n",
    "nat_afi = create_range(s=df[(df.Year == 2022)][\"afi\"])\n",
    "nat_median_home_value = create_range(s=df[(df.Year == 2022)][\"Median Home Value\"])\n",
    "\n",
    "# National Diffs\n",
    "nat_afi_diff = create_range(diff_2yr.afi)\n",
    "nat_median_home_value_diff = create_range(diff_2yr[\"Median Home Value\"])\n",
    "\n",
    "###\n",
    "\n",
    "# NYC Ranges\n",
    "nyc_median_home_value_2yr_change_perc = create_range(s=df[(df.Year == 2022) & (df.FIPS.isin(nyc_fips))][\"median_home_value_2yr_change_perc\"])\n",
    "nyc_afi_growth = create_range(s=df[(df.Year == 2022) & (df.FIPS.isin(nyc_fips))][\"afi_growth\"])\n",
    "nyc_afi = create_range(s=df[(df.Year == 2022) & (df.FIPS.isin(nyc_fips))][\"afi\"])\n",
    "nyc_median_home_value = create_range(s=df[(df.Year == 2022) & (df.FIPS.isin(nyc_fips))][\"Median Home Value\"])\n",
    "\n",
    "# NYC Diff Ranges\n",
    "nyc_afi_diff = create_range(nyc_diff_2yr.afi)\n",
    "nyc_median_home_value_diff = create_range(nyc_diff_2yr[\"Median Home Value\"])\n",
    "\n",
    "###\n",
    "\n",
    "# SF\n",
    "sf_median_home_value_2yr_change_perc = create_range(s=df[(df.Year == 2022) & (df.FIPS.isin(sf_fips))][\"median_home_value_2yr_change_perc\"])\n",
    "sf_afi_growth = create_range(s=df[(df.Year == 2022) & (df.FIPS.isin(sf_fips))][\"afi_growth\"])\n",
    "sf_afi = create_range(s=df[(df.Year == 2022) & (df.FIPS.isin(sf_fips))][\"afi\"])\n",
    "sf_median_home_value = create_range(s=df[(df.Year == 2022) & (df.FIPS.isin(sf_fips))][\"Median Home Value\"])\n",
    "\n",
    "# SF Diff Ranges\n",
    "sf_afi_diff = create_range(sf_diff_2yr.afi)\n",
    "sf_median_home_value_diff = create_range(sf_diff_2yr[\"Median Home Value\"])\n"
   ]
  },
  {
   "cell_type": "markdown",
   "metadata": {
    "cell_id": "9606fd17399b4104b27e7781ca06cefb",
    "deepnote_cell_type": "markdown",
    "tags": []
   },
   "source": [
    "**Centerpoint Ranges**\n",
    "\n",
    "Centerpoint ranges take the Min/Max tuple and identifies the center of that range, along with values $\\pm$ a given float number.  This is used when wanting to make adjustments to the color scale used in the choropleth maps, by using explicit colors attached to these specific points. "
   ]
  },
  {
   "cell_type": "code",
   "execution_count": null,
   "metadata": {
    "cell_id": "5391f73a510c49348c669e789180baa4",
    "deepnote_cell_type": "code",
    "deepnote_to_be_reexecuted": false,
    "execution_millis": 0,
    "execution_start": 1676947858660,
    "source_hash": "b267472a",
    "tags": []
   },
   "outputs": [],
   "source": [
    "### Create the centerpointranges\n",
    "# National\n",
    "cpr_nat_afi_diff = create_center_point(nat_afi_diff)\n",
    "cpr_nat_mhv_diff = create_center_point(nat_median_home_value_diff)\n",
    "\n",
    "# New York\n",
    "cpr_nyc_afi = create_center_point(nyc_afi)\n",
    "cpr_nyc_afi_diff = create_center_point(nyc_afi_diff)\n",
    "cpr_nyc_mhv_diff = create_center_point(nyc_median_home_value_diff)\n",
    "\n",
    "# San Francisco\n",
    "cpr_sf_afi = create_center_point(sf_afi)\n",
    "cpr_sf_afi_diff = create_center_point(sf_afi_diff)\n",
    "cpr_sf_mhv_diff = create_center_point(sf_median_home_value_diff)"
   ]
  },
  {
   "cell_type": "markdown",
   "metadata": {
    "cell_id": "4493f0695f1643a7b1380ef670a3c7d6",
    "deepnote_cell_type": "markdown",
    "tags": []
   },
   "source": [
    "**Color Variables**\n",
    "\n",
    "The color variables are created to ensure the consistency of the color palette between the diagrams and the report."
   ]
  },
  {
   "cell_type": "code",
   "execution_count": null,
   "metadata": {
    "cell_id": "d1e9a52c62514f038e23c2b0fc99f91d",
    "deepnote_cell_type": "code",
    "deepnote_to_be_reexecuted": false,
    "execution_millis": 0,
    "execution_start": 1676947858661,
    "source_hash": "c58d94db",
    "tags": []
   },
   "outputs": [],
   "source": [
    "color_scale = [\"#57677b\", \"#359cdb\", \"#f4ab17\"]\n",
    "color_text = \"#57677B\""
   ]
  },
  {
   "cell_type": "markdown",
   "metadata": {
    "cell_id": "1e0461e420f64faf87de63184ff81d18",
    "deepnote_cell_type": "markdown",
    "tags": []
   },
   "source": [
    "**Hover Variables**\n",
    "\n",
    "These are convience variables to be used to reduce the duplication of code.  These are commonly used groups of column names that we would want to see when hovering over plotly visualizations."
   ]
  },
  {
   "cell_type": "code",
   "execution_count": null,
   "metadata": {
    "cell_id": "a79d9f93b5d94dcd92bbe20b7c8599ad",
    "deepnote_cell_type": "code",
    "deepnote_to_be_reexecuted": false,
    "execution_millis": 0,
    "execution_start": 1676947858662,
    "source_hash": "d2ff4013",
    "tags": []
   },
   "outputs": [],
   "source": [
    "# Basic columns\n",
    "hover_basic= {'FIPS':True,\n",
    "             'Median Household Income':':,.0f',\n",
    "             'Median Home Value':':,.0f',\n",
    "             'afi':':.2f'}"
   ]
  },
  {
   "cell_type": "markdown",
   "metadata": {
    "cell_id": "abfe1d66f40042128d74d65d86a52efd",
    "deepnote_cell_type": "markdown",
    "tags": []
   },
   "source": [
    "**Plotly Image Download Config**\n",
    "\n",
    "This configuration can be used with the fig.show() function for plotly, changing the scaling, resolution, and format of the downloaded file."
   ]
  },
  {
   "cell_type": "code",
   "execution_count": null,
   "metadata": {
    "cell_id": "a9ee5285771847fab8aba4025cf7b38d",
    "deepnote_cell_type": "code",
    "deepnote_to_be_reexecuted": false,
    "execution_millis": 0,
    "execution_start": 1676947858663,
    "source_hash": "e091ac1b",
    "tags": []
   },
   "outputs": [],
   "source": [
    "px_config = {\n",
    "  'toImageButtonOptions': {\n",
    "    'format': 'png', # one of png, svg, jpeg, webp\n",
    "    'filename': 'new_image',\n",
    "    'scale': 4 # Multiply title/legend/axis/canvas sizes by this factor\n",
    "  }\n",
    "}"
   ]
  },
  {
   "cell_type": "markdown",
   "metadata": {
    "cell_id": "cb383d0d343046029f3d7205f538e36f",
    "deepnote_cell_type": "markdown",
    "tags": []
   },
   "source": [
    "---------------------------------------"
   ]
  },
  {
   "cell_type": "markdown",
   "metadata": {
    "cell_id": "2bccb16a35974085b3132c14ada7d7f5",
    "deepnote_cell_type": "markdown",
    "tags": []
   },
   "source": [
    "## Analysis"
   ]
  },
  {
   "cell_type": "markdown",
   "metadata": {
    "cell_id": "feb6d6a9418341a7ae2b8295ef3fe94b",
    "deepnote_cell_type": "markdown",
    "tags": []
   },
   "source": [
    "<hr style=\"border:1px solid gray\">"
   ]
  },
  {
   "cell_type": "markdown",
   "metadata": {
    "cell_id": "603375c6d3e24f2f85f422420514560e",
    "deepnote_cell_type": "markdown",
    "tags": []
   },
   "source": [
    "### National Region"
   ]
  },
  {
   "cell_type": "markdown",
   "metadata": {
    "cell_id": "cb0d3007bea945888155dcdfe5257c55",
    "deepnote_cell_type": "markdown",
    "tags": []
   },
   "source": [
    "Begin by taking a look at the Affordability Index, since much of our analysis is based on it."
   ]
  },
  {
   "cell_type": "code",
   "execution_count": null,
   "metadata": {
    "cell_id": "19512a52dcdc4a8db0f07f991014dd21",
    "deepnote_cell_type": "code",
    "deepnote_to_be_reexecuted": false,
    "execution_millis": 2606,
    "execution_start": 1676947858664,
    "source_hash": "f2189021",
    "tags": []
   },
   "outputs": [],
   "source": [
    "# Establish data for scatterplot\n",
    "sp_data = df.loc[df.Year == 2022,[\n",
    "    'CountyState','State','County','Median Home Value','Median Household Income','afi']]\n",
    "\n",
    "# Create scatterplot scaling median income by median home value\n",
    "fig = px.scatter(sp_data, color='afi',\n",
    "    x='Median Home Value',\n",
    "    y='Median Household Income',\n",
    "    color_continuous_scale=color_scale,\n",
    "    hover_name=\"CountyState\",\n",
    "    hover_data=['State','County','afi'],\n",
    "    labels = {'afi':'Affordability'},\n",
    "    title='US County Affordability in 2022')\n",
    "\n",
    "# Improve scatterplot layout\n",
    "fig.update_layout(\n",
    "    coloraxis_colorbar=dict(thicknessmode=\"pixels\", thickness=10,\n",
    "        lenmode=\"pixels\", len=200, yanchor=\"top\", y=1, ticks=\"outside\", dtick=10),\n",
    "    margin={\"r\":0,\"t\":25,\"l\":0,\"b\":125},\n",
    "    xaxis=dict(showgrid=False, zeroline=False),\n",
    "    yaxis=dict(showgrid=False, zeroline=False),\n",
    "    plot_bgcolor='rgba(0,0,0,0)',\n",
    "    paper_bgcolor='rgba(0,0,0,0)',\n",
    "    title_x = 0.5,\n",
    "    font=dict(color=color_text),\n",
    "    width=400, height = 360)\n",
    "\n",
    "fig.add_annotation(text = (f\"\"\"\n",
    "Data Sources: Equifax Utilities from Gale Business DemographicsNow,<br>\n",
    "ACS 5 Yr from Census.gov, Zillow Home Index Value from Zillow.com<br>\n",
    "Data Collected in Jan 2023 | Visualizations via Plotly 5.10.0 in Feb 2023\"\"\"), \n",
    "        showarrow=False, x = -.25, y = -0.5 , xref='paper', yref='paper', \n",
    "        xanchor='left', yanchor='bottom', xshift=-0, yshift=0, \n",
    "        font=dict(size=10, color=\"grey\"), align=\"center\")\n",
    "\n",
    "fig.show(config=px_config)"
   ]
  },
  {
   "cell_type": "markdown",
   "metadata": {
    "cell_id": "08bf66cdd0c24ea98173850a3c860d09",
    "deepnote_cell_type": "markdown",
    "tags": []
   },
   "source": [
    "We can make several interesting observations based on this scatterplot.\n",
    "\n",
    "* The index is non-linear.  Though it is Min/Max limited between 0 and 100, the data is not evenly scaled between those numbers.\n",
    "* The curve of the data resembles a logarithmic growth curve.  The data is skewed towards the high side of affordability, which is reasonable after consideration.  The amount of rural territory in the National Region compared to urban territory would almost automatically guarentee a skew to affordabilty, when predominately looking at housing and income as the drivers.\n",
    "* There are some extreme outliers in the data, such as Nantucket, MA (`afi` value of 0), which has a Median Home Value of \\\\$2.3M, but a Median Household Income of \\\\$93k.  In general, outliers on the x-axis (Median Home Value) have lower affordability scores.  When the outliers move towards the upper left corner in the diagram, they have higher affordability scores.  Locations like Los Alamos, NM and Kendall, Il (`afi` value of 100) are outliers on the other side of the spectrum, with very high income and moderately priced housing.\n",
    "* The county with the lowest median income (at \\\\$74k) to have a home value of over \\\\$1M is Maui, Hawaii."
   ]
  },
  {
   "cell_type": "markdown",
   "metadata": {
    "cell_id": "3ae25994d60042eaa4eecdda3a3d0946",
    "deepnote_cell_type": "markdown",
    "tags": []
   },
   "source": [
    "Let's take a look at some of the differences between the 2020 and 2022 data. Since we already built a dataframe that contains the differences, we'll utilize that dataframe instead of the basic one.\n",
    "\n",
    "We'll start by asking an easy question:  How many counties experienced a loss in Median Home Value in that time range?"
   ]
  },
  {
   "cell_type": "code",
   "execution_count": null,
   "metadata": {
    "cell_id": "888a118ad594492fafb1af17a4921132",
    "deepnote_cell_type": "code",
    "deepnote_to_be_reexecuted": false,
    "execution_millis": 878,
    "execution_start": 1676947860394,
    "source_hash": "5a5a1eb2",
    "tags": []
   },
   "outputs": [],
   "source": [
    "# Counties with Negative MHV between 2020 and 2022\n",
    "# Only 6 counties in the entire US decreased in Median Home Values!\n",
    "diff_2yr[diff_2yr['Median Home Value'] < 0][['State','County','Median Home Value']].dropna()"
   ]
  },
  {
   "cell_type": "markdown",
   "metadata": {
    "cell_id": "6d29d3623f0744f6bd63eae0e03eecd8",
    "deepnote_cell_type": "markdown",
    "tags": []
   },
   "source": [
    "Only 6 counties had a loss"
   ]
  },
  {
   "cell_type": "code",
   "execution_count": null,
   "metadata": {
    "cell_id": "6b74126b45b74556a03164ec045f508b",
    "deepnote_cell_type": "code",
    "deepnote_to_be_reexecuted": false,
    "execution_millis": 861,
    "execution_start": 1676947860412,
    "source_hash": "1e9d158a",
    "tags": []
   },
   "outputs": [],
   "source": [
    "print(\"How many counties are in the dataset?  \",len(diff_2yr.FIPS.dropna()))"
   ]
  },
  {
   "cell_type": "code",
   "execution_count": null,
   "metadata": {
    "cell_id": "75ed1021401746bcb08ac900acdce46c",
    "deepnote_cell_type": "code",
    "deepnote_table_invalid": false,
    "deepnote_table_loading": false,
    "deepnote_table_state": {
     "filters": [],
     "pageIndex": 1,
     "pageSize": 10,
     "sortBy": [
      {
       "id": "Median Home Value",
       "type": "desc"
      }
     ]
    },
    "deepnote_to_be_reexecuted": false,
    "execution_millis": 849,
    "execution_start": 1676947860424,
    "source_hash": "87ce5cfb",
    "tags": []
   },
   "outputs": [],
   "source": [
    "# Counties with more than 250,000 increase in MHV\n",
    "nat_mhv_incr_250k = diff_2yr[diff_2yr['Median Home Value'] > 250000][['State','County','Median Home Value']].dropna()\n",
    "print(\"Number of counties with an increase of more than 250k in Median Home Value: \",len(nat_mhv_incr_250k))"
   ]
  },
  {
   "cell_type": "code",
   "execution_count": null,
   "metadata": {
    "cell_id": "321c80eab0654b9abe9108b84f07c373",
    "deepnote_cell_type": "code",
    "deepnote_table_loading": true,
    "deepnote_table_state": {
     "filters": [],
     "pageIndex": 0,
     "pageSize": 10,
     "sortBy": []
    },
    "deepnote_to_be_reexecuted": false,
    "execution_millis": 1059,
    "execution_start": 1676947860425,
    "source_hash": "e3f9f7d",
    "tags": []
   },
   "outputs": [],
   "source": [
    "# Top 5 Counties that increased in Median Home Value within the National Region\n",
    "nat_mhv_incr_250k.sort_values(['Median Home Value'], ascending=False).head(5)"
   ]
  },
  {
   "cell_type": "code",
   "execution_count": null,
   "metadata": {
    "cell_id": "084e3ab422664513ab2f3c05917bdd8a",
    "deepnote_cell_type": "code",
    "deepnote_table_loading": false,
    "deepnote_table_state": {
     "filters": [],
     "pageIndex": 1,
     "pageSize": 10,
     "sortBy": []
    },
    "deepnote_to_be_reexecuted": false,
    "execution_millis": 207,
    "execution_start": 1676947861277,
    "source_hash": "64caeb4b",
    "tags": []
   },
   "outputs": [],
   "source": [
    "# Are the counties which had the highest increases in MHV grouped at all?\n",
    "nat_mhv_incr_250k.groupby(['State'])['County'].count().sort_values(ascending=False)"
   ]
  },
  {
   "cell_type": "markdown",
   "metadata": {
    "cell_id": "6507a37bd4704f99acf639c4d4fa08ef",
    "deepnote_cell_type": "markdown",
    "tags": []
   },
   "source": [
    "---------------------------------------"
   ]
  },
  {
   "cell_type": "markdown",
   "metadata": {
    "cell_id": "3624bce3febf46e191691889a6fe9f11",
    "deepnote_cell_type": "markdown",
    "tags": []
   },
   "source": [
    "Let's take a look at a choropleth map of the National region.  Based on the scatterplot above, we should see quite a bit yellow/orange (ie: high affordability) across the map, but there's an expectation that several of the western states such as California and Colorado will have a significant amount of blue (ie: low affordability) due to the Median Home Value increases noted in the previous cell.\n",
    "\n",
    "There are interesting outliers in that cell above as well, such as Montana, Idaho, and Wyoming, which do not normally have a reputation of high land costs except for vacation/retirement areas."
   ]
  },
  {
   "cell_type": "code",
   "execution_count": null,
   "metadata": {
    "cell_id": "7d182317088d4dfca27c38f23dad3d7d",
    "deepnote_cell_type": "code",
    "deepnote_to_be_reexecuted": false,
    "execution_millis": 3027,
    "execution_start": 1676947861278,
    "source_hash": "b75cb08",
    "tags": []
   },
   "outputs": [],
   "source": [
    "# National Choropleth\n",
    "# AFI 2022\n",
    "# Scale modified to reflect non-linear index\n",
    "\n",
    "cs = [(0, color_scale[0]), \n",
    "      (0.35, '#7287a1'), \n",
    "      (0.75, color_scale[1]), \n",
    "      (0.9, '#ffd118'), \n",
    "      (1, color_scale[2])]\n",
    "\n",
    "fig = create_choropleth(df=nat_2022_df, \n",
    "                        c=\"afi\",\n",
    "                        bm=True,\n",
    "                        fb=False,\n",
    "                        ttl=\"National Affordability Index for 2022\",\n",
    "                        lab={'afi':'Affordability<br>Index'}, \n",
    "                        c_scale=cs,\n",
    "                        r_scale=(0,100))\n",
    "\n",
    "fig = update_lo(fig, dt=10, ts=\" pts\", tx=0.3, ty=0.9, x=0.9, y=0.8)\n",
    "fig = add_anno(fig,y=0.03,x=0.14,t=f\"\"\"Data Sources: ACS 5 Yr from Census.gov, Equifax Utilities from Gale Business DemographicsNow,<br>and Zillow Home Index Value from Zillow.com | Data Collected in Jan 2023 | Visualizations via Plotly 5.10.0 in Feb 2023\"\"\")\n",
    "fig.show(config=px_config)"
   ]
  },
  {
   "cell_type": "markdown",
   "metadata": {
    "cell_id": "25dc634236a84cfbbff9b4f604435a8a",
    "deepnote_cell_type": "markdown",
    "tags": []
   },
   "source": [
    "Since the `afi` metric is non-linear and is skewed towards affordability, we modified the color scale here to be more right skewed, so that the more affordable locations are in a smaller colorband. \n",
    "\n",
    "As expected, many western states are colored blue (ie: less affordable) in this diagram.  There are a few reasons for this, the first and most obvious is that some counties are extremely expensive, such as the 9 counties in California that gained more than \\\\$250k in Median Home Value in the past 2 years.\n",
    "\n",
    "Another thing to note is the extremely large county sizes in the western portion of the United States, as compared to the generally much smaller county sizes in the eastern states. This would have the potential ability to affect median values simply due to the overall land area.  Future analysis should probably consider going with a more fine grained approach, such as zip code instead of FIPS.\n",
    "\n",
    "It is easy to pick out concentrations of unaffordable locations, and they are largely where we expect, gathered around cities and coastlines.  Cities such as San Frandisco, Denver, Dallas, Miami, Boston, New York, Seattle, Nashville, and Phoenix are easily located with shades of blue/green, and most of the southern Florida coastline is also blue/green."
   ]
  },
  {
   "cell_type": "markdown",
   "metadata": {
    "cell_id": "f925609bd74941608b49272cf4691898",
    "deepnote_cell_type": "markdown",
    "tags": []
   },
   "source": [
    "Since we've looked at the `afi` choropleth on a non-linear scale, let's also take a look at how the `afi` has changed in the past two years.  There are two ways we can look at this:\n",
    "\n",
    "* A simple difference of `afi` points from 2022-2020.  The `afi` is calculated independently for each year, so this is a comparison of the affordability of the county, but the difference output is independent of all other counties.  This gives a difference in points.\n",
    "\n",
    "* A complex difference is to take the `afi` points from 2022-2020, and then put it back through the non-linear indexing algorithm so the metric is rescaled in relation to all other counties in the United States.  This effectively produces a percentile metric for affordability.\n",
    "\n",
    "Let's take a look at the complex method first ..."
   ]
  },
  {
   "cell_type": "code",
   "execution_count": null,
   "metadata": {
    "cell_id": "de70313c610e468da9bdc6ae652d8b33",
    "deepnote_cell_type": "code",
    "deepnote_to_be_reexecuted": false,
    "execution_millis": 3263,
    "execution_start": 1676947864022,
    "source_hash": "b87863cb",
    "tags": []
   },
   "outputs": [],
   "source": [
    "# National Choropleth\n",
    "# AFI Difference Between 2022-2020\n",
    "# The results indicate the percentile of change for the county, with respect to all USA counties\n",
    "\n",
    "fig = create_choropleth(df=nat_2022_df, \n",
    "                        c=\"afi_growth\",\n",
    "                        bm=True,\n",
    "                        fb=False,\n",
    "                        ttl=\"National Affordability Index Change<br>As Percentiles from 2020 to 2022\",\n",
    "                        lab={'afi_growth':'Affordability<br>Index Change<br>Percentiles'}, \n",
    "                        c_scale=color_scale,\n",
    "                        r_scale=(0,100))\n",
    "\n",
    "fig = update_lo(fig, dt=10, ts=\"%\", tx=0.3, ty=0.9, x=0.9, y=0.8)\n",
    "fig = add_anno(fig,y=0.03,x=0.14,t=f\"\"\"Data Sources: ACS 5 Yr from Census.gov, Equifax Utilities from Gale Business DemographicsNow,<br>and Zillow Home Index Value from Zillow.com | Data Collected in Jan 2023 | Visualizations via Plotly 5.10.0 in Feb 2023\"\"\")\n",
    "fig.show(config=px_config)"
   ]
  },
  {
   "cell_type": "markdown",
   "metadata": {
    "cell_id": "8f06e7a81f7b49caabbacb1b5ad2479a",
    "deepnote_cell_type": "markdown",
    "tags": []
   },
   "source": [
    "This is interesting because you're effectively looking at change.  Flathead, MT changed the most, so its metric is `0` on this scale.  Locations like Natchitoches, LA experienced minimal change, so its metric is `100` on this map.  Let's look at the numbers for those two locations."
   ]
  },
  {
   "cell_type": "code",
   "execution_count": null,
   "metadata": {
    "cell_id": "9b0c8ed1604f450d82c2cf9dd8dd2402",
    "deepnote_cell_type": "code",
    "deepnote_to_be_reexecuted": false,
    "execution_millis": 1451195,
    "execution_start": 1676947865976,
    "source_hash": "b1d39151",
    "tags": []
   },
   "outputs": [],
   "source": [
    "# First we'll take a look at the results of differences 2022-2020\n",
    "diff_2yr[diff_2yr.CountyState.isin(['Natchitoches, Louisiana','Flathead, Montana'])][['CountyState', 'Median Home Value', 'Median Household Income', 'afi']]"
   ]
  },
  {
   "cell_type": "code",
   "execution_count": null,
   "metadata": {
    "cell_id": "80b5005e124942319249d67cc8c4834f",
    "deepnote_cell_type": "code",
    "deepnote_to_be_reexecuted": false,
    "execution_millis": 1451195,
    "execution_start": 1676947865977,
    "source_hash": "7d17c9ae",
    "tags": []
   },
   "outputs": [],
   "source": [
    "# Then let's determine the percentage of change those numbers represent\n",
    "df[(df.CountyState.isin(['Natchitoches, Louisiana','Flathead, Montana'])) & (df.Year == 2022)][['CountyState','median_home_value_2yr_change_perc','median_income_2yr_change_perc']]"
   ]
  },
  {
   "cell_type": "markdown",
   "metadata": {
    "cell_id": "89d51c459c78439a8805945c4345ba98",
    "deepnote_cell_type": "markdown",
    "tags": []
   },
   "source": [
    "The source of the change for Flathead, MT is rather obvious, it's one of the counties that gained more than \\\\$250k in Median Home Value between 2020 and 2022.  Not only did it gain \\\\$321k in MHV, but that number represents a 87.66% change in MHV!  The cost of housing in Flathead, MT nearly doubled in two years, while the Median Income increased by less than \\\\$5K.\n",
    "\n",
    "The numbers for Natchitoches, LA are also very interesting.  It did actually have some change, but ultimately that change leveled out.  It gained \\\\$23.5k in Median Home Value, but that increase was offset by a substantial increase to the Median Income, coming in at \\\\$21k.  So to summarize, Natchitoches home values increased by 13%, but the county's median income increased by 68.8%.\n",
    "\n",
    "Since the Affordability index is weighted with .7 on median home value, and .25 on median income, this balances out from the index's perspective.\n",
    "\n",
    "Next let's take a look at the simplier to understand method of calculating affordability change between 2020 and 2022, using a simple difference between `afi` scores."
   ]
  },
  {
   "cell_type": "code",
   "execution_count": null,
   "metadata": {
    "cell_id": "b755050232f5479e949dabb9498b4660",
    "deepnote_cell_type": "code",
    "deepnote_to_be_reexecuted": false,
    "execution_millis": 3614,
    "execution_start": 1676947865977,
    "source_hash": "ca38c1bb",
    "tags": []
   },
   "outputs": [],
   "source": [
    "# National Choropleth\n",
    "# AFI Difference Between 2022-2020\n",
    "# The results indicate the points of change for the county\n",
    "\n",
    "cs = [(0, color_scale[0]), \n",
    "      (cpr_nat_afi_diff[2]-.15, '#7287a1'), \n",
    "      (cpr_nat_afi_diff[0], color_scale[1]), \n",
    "      (cpr_nat_afi_diff[1]-.1, '#ffd118'), \n",
    "      (1, color_scale[2])]\n",
    "\n",
    "fig = create_choropleth(df=diff_2yr, \n",
    "                        c=\"afi\",\n",
    "                        bm=True,\n",
    "                        fb=False,\n",
    "                        ttl=\"National Affordability Index Change<br>As Points from 2020 to 2022\",\n",
    "                        lab={'afi':'Affordability<br>Index Change<br>as Points'}, \n",
    "                        c_scale=cs,\n",
    "                        r_scale=nat_afi_diff)\n",
    "\n",
    "fig = update_lo(fig, dt=2, ts=\" pts\", tx=0.5, ty=0.9, x=0.9, y=0.8)\n",
    "fig = add_anno(fig,x=0.14,y=0.03, t=f\"\"\"Data Sources: ACS 5 Yr from Census.gov, Equifax Utilities from Gale Business DemographicsNow,<br>and Zillow Home Index Value from Zillow.com | Data Collected in Jan 2023 | Visualizations via Plotly 5.10.0 in Feb 2023\"\"\")\n",
    "fig.show(config=px_config)"
   ]
  },
  {
   "cell_type": "markdown",
   "metadata": {
    "cell_id": "7b52c3a7b31f4b4883f247e5138295bc",
    "deepnote_cell_type": "markdown",
    "deepnote_to_be_reexecuted": true,
    "source_hash": "b474931a",
    "tags": []
   },
   "source": [
    "This view of the data makes it easy to understand where things improved from an affordability perspective.  Scores below `0` indicate affordability decreased, while scores above `0` indicate affordablity increased.\n",
    "\n",
    "Note that this doesn't mean these locations are expensive or inexpensive as a whole, only that the affordability of the county increased or decreased in 2022 when compared to its `afi` score from 2020.\n",
    "\n",
    "The hotspots in yellow are areas that have improved in affordability.  What's notable is the yellow/orange associated some some cities in the US, such as New York and San Francisco.  This is where we will be concentrating our analysis on next."
   ]
  },
  {
   "cell_type": "markdown",
   "metadata": {
    "cell_id": "c50ca27a7b774b5ea0978e485d11d4ab",
    "deepnote_cell_type": "markdown",
    "tags": []
   },
   "source": [
    "---------------------------------------"
   ]
  },
  {
   "cell_type": "markdown",
   "metadata": {
    "cell_id": "113c88bd50ec47039604ff58a2dccbcb",
    "deepnote_cell_type": "markdown",
    "tags": []
   },
   "source": [
    "### New York Region"
   ]
  },
  {
   "cell_type": "code",
   "execution_count": null,
   "metadata": {
    "cell_id": "be617feff9f848b2884cd7f241c77766",
    "deepnote_cell_type": "code",
    "deepnote_to_be_reexecuted": false,
    "execution_millis": 1452308,
    "execution_start": 1676947869340,
    "source_hash": "e85a89eb",
    "tags": []
   },
   "outputs": [],
   "source": [
    "# Add the percentage of change to Income and Home Value to the diff dataframe\n",
    "pcts_df = df[(df.Year == 2022) & df.FIPS.isin(nyc_fips)][['FIPS','median_income_2yr_change_perc','median_home_value_2yr_change_perc']].rename({'median_income_2yr_change_perc':'MHI_pct','median_home_value_2yr_change_perc':'MHV_pct'}, axis=1)\n",
    "nyc_diff_2yr = pd.merge(nyc_diff_2yr,pcts_df, on='FIPS', how='left')"
   ]
  },
  {
   "cell_type": "markdown",
   "metadata": {
    "cell_id": "9ddecd8876384091a44b9780587f35a2",
    "deepnote_cell_type": "markdown",
    "tags": []
   },
   "source": [
    "We'll start off by taking a look at some of the basic information from the `nyc_2022_df` and `nyc_diff_2yr` dataframes, looking for any interesting trends, outliers, or notable metrics."
   ]
  },
  {
   "cell_type": "code",
   "execution_count": null,
   "metadata": {
    "cell_id": "bb7776667bf5493c8cb1b83749955591",
    "deepnote_cell_type": "code",
    "deepnote_to_be_reexecuted": false,
    "execution_millis": 1452309,
    "execution_start": 1676947869342,
    "source_hash": "801e1096",
    "tags": []
   },
   "outputs": [],
   "source": [
    "nyc_diff_2yr[['State', 'County', 'afi', 'Median Home Value', 'Median Household Income', 'MHV_pct', 'MHI_pct']] \\\n",
    "    .sort_values(['afi'], ascending=False).head(5)"
   ]
  },
  {
   "cell_type": "code",
   "execution_count": null,
   "metadata": {
    "cell_id": "33ff439830904fdb8f7a0064ab035989",
    "deepnote_cell_type": "code",
    "deepnote_table_invalid": false,
    "deepnote_table_loading": false,
    "deepnote_table_state": {
     "filters": [],
     "pageIndex": 0,
     "pageSize": 10,
     "sortBy": [
      {
       "id": "Median Household Income",
       "type": "desc"
      }
     ]
    },
    "deepnote_to_be_reexecuted": false,
    "execution_millis": 1452304,
    "execution_start": 1676947869343,
    "source_hash": "d09977c8",
    "tags": []
   },
   "outputs": [],
   "source": [
    "### Print out some basic information\n",
    "# How many counties decreased in affordability between 2020 and 2022?\n",
    "print(\"NYC Counties decreased in affordability: {} of {} total\".format(nyc_diff_2yr[nyc_diff_2yr.afi < 0]['afi'].count(), len(nyc_diff_2yr)))\n",
    "\n",
    "# Are there any counties which experienced a loss in the `Median Home Value` between 2020 and 2022?\n",
    "print(\"NYC Counties which had a decrease in Median Home Value: {} of {} total\".format(nyc_diff_2yr[nyc_diff_2yr['Median Home Value'] < 0]['Median Home Value'].count(), len(nyc_diff_2yr)))\n",
    "\n",
    "# How many counties decreased in income between 2020 and 2022?\n",
    "print(\"NYC Counties had a decreased in income: {} of {} total\".format(nyc_diff_2yr[nyc_diff_2yr['Median Household Income'] < 0]['Median Household Income'].count(), len(nyc_diff_2yr)))"
   ]
  },
  {
   "cell_type": "markdown",
   "metadata": {
    "cell_id": "1e3a3d218c894303892335211307b558",
    "deepnote_cell_type": "markdown",
    "tags": []
   },
   "source": [
    "This is quite interesting.  No county in the NYC region experienced a loss of median home value between 2020 and 2022, but 7 out of the 36 counties did experience a loss of median income.  \n",
    "\n",
    "The Affordability Index (`afi`) is a composite index whose primary weights are `Median Household Income` (.7) and `Median Home Value` (.25), the expectation is that Median Home Value (MHV) will be the primary driver of the `afi` decrease, but `Median Household Income` (MHI) will certainly be a significant factor as well, especially if it doesn't keep pace with MHV."
   ]
  },
  {
   "cell_type": "markdown",
   "metadata": {
    "cell_id": "cd8e4d8a2c7049179d7ea75d8c2296bc",
    "deepnote_cell_type": "markdown",
    "tags": []
   },
   "source": [
    "Let's take a look at a scatterplot to see Household Incomes by Home Values to see if anything stands out.  Two versions of the scatterplot are provided, one which uses symbols for the states, and another that breaks the states out into a faceted graph.  Both encode the same information, but viewers may prefer one over the other."
   ]
  },
  {
   "cell_type": "code",
   "execution_count": null,
   "metadata": {
    "cell_id": "e37dc88a25d2487c992435c1b6519c06",
    "deepnote_cell_type": "code",
    "deepnote_to_be_reexecuted": false,
    "execution_millis": 255,
    "execution_start": 1676947869343,
    "source_hash": "cc8ba94f",
    "tags": []
   },
   "outputs": [],
   "source": [
    "fig = create_scatter(df=nyc_2022_df,c='afi',x='Median Household Income', y='Median Home Value', symbol='State',\n",
    "                     ttl='NYC Home Value by Household Income in 2022', lab={'afi':'Affordability<br>Index'})\n",
    "fig.update_layout(\n",
    "    coloraxis_colorbar=dict(dtick=5, ticksuffix=\" pts\", len=.7, y=.32, x=1.01), \n",
    "    title_x=0.5, title_y=0.87)\n",
    "fig.update_traces(marker=dict(size=8))\n",
    "fig = add_anno(fig, x=0.02, y=-0.21, t=f\"\"\"\n",
    "Data Sources: ACS 5 Yr from Census.gov, Equifax Utilities from Gale Business DemographicsNow,<br>\n",
    "and Zillow Home Index Value from Zillow.com | Data Collected in Jan 2023 | Visualizations via Plotly 5.10.0 in Feb 2023\"\"\")\n",
    "fig.show(config=px_config)"
   ]
  },
  {
   "cell_type": "code",
   "execution_count": null,
   "metadata": {
    "cell_id": "9fff93941e854924957e4ed77b158b46",
    "deepnote_cell_type": "code",
    "deepnote_to_be_reexecuted": false,
    "execution_millis": 255,
    "execution_start": 1676947869345,
    "source_hash": "822f02c9",
    "tags": []
   },
   "outputs": [],
   "source": [
    "fig = create_scatter(df=nyc_2022_df,c='afi',x='Median Household Income', y='Median Home Value',\n",
    "                    facet_col='State', facet_col_wrap=2,\n",
    "                    ttl='NYC Home Value by Household Income in 2022', lab={'afi':'Affordability<br>Index'})\n",
    "\n",
    "fig.update_layout(coloraxis_colorbar=dict(dtick=5, ticksuffix=\" pts\"), title_x=0.5, title_y=0.88)\n",
    "fig.for_each_annotation(lambda a: a.update(text=a.text.split(\"=\")[-1]))\n",
    "fig.update_traces(textposition='top center', marker=dict(size=12))\n",
    "fig = add_anno(fig, x=0.02, y=-0.21, t=f\"\"\"\n",
    "Data Sources: ACS 5 Yr from Census.gov, Equifax Utilities from Gale Business DemographicsNow,<br>\n",
    "and Zillow Home Index Value from Zillow.com | Data Collected in Jan 2023 | Visualizations via Plotly 5.10.0 in Feb 2023\"\"\")\n",
    "fig.show(config=px_config)"
   ]
  },
  {
   "cell_type": "markdown",
   "metadata": {
    "cell_id": "aca671efdad54dd98035ae20d29168c5",
    "deepnote_cell_type": "markdown",
    "tags": []
   },
   "source": [
    "New York county is a significant outlier, with a home value of \\$1.3M in 2022!  What's interesting about this is that while New York county has the highest Home Value, it doesn't have the highest Income, which is just to the east in Nassau, NY.  Since the income doesn't track with the home value, the `afi` score for New York is only `48.05`!  Meanwhile, other locations such as Middelsex, NJ, which has a similar Income, has an affordability index score of `86.23`, due to a much lower median home value of \\$451k."
   ]
  },
  {
   "cell_type": "markdown",
   "metadata": {
    "cell_id": "7089d7cfcce44f85bb91f1d0f810ab03",
    "deepnote_cell_type": "markdown",
    "tags": []
   },
   "source": [
    "Next let's take a look at some of the highs and lows in these 36 counties to see if anything sticks out.  We'll start by looking at income."
   ]
  },
  {
   "cell_type": "code",
   "execution_count": null,
   "metadata": {
    "cell_id": "0b9194ae9fec463fbc9a79e5d8229c1d",
    "deepnote_cell_type": "code",
    "deepnote_to_be_reexecuted": false,
    "execution_millis": 254,
    "execution_start": 1676947869346,
    "source_hash": "4e734c2c",
    "tags": []
   },
   "outputs": [],
   "source": [
    "# Print out some basic high/low numbers for Median Household Income for 2022\n",
    "tmhhi22 = nyc_2022_df.sort_values(['Median Household Income'], ascending=False)[['County','State','Median Household Income']].head(1).to_numpy()[0].tolist()\n",
    "tmhhi20 = nyc_2020_df.sort_values(['Median Household Income'], ascending=False)[['County','State','Median Household Income']].head(1).to_numpy()[0].tolist()\n",
    "lmhhi22 = nyc_2022_df.sort_values(['Median Household Income'], ascending=True)[['County','State','Median Household Income']].head(1).to_numpy()[0].tolist()\n",
    "lmhhi20 = nyc_2020_df.sort_values(['Median Household Income'], ascending=True)[['County','State','Median Household Income']].head(1).to_numpy()[0].tolist()\n",
    "\n",
    "tmhhidiff_usd = nyc_diff_2yr.sort_values(['Median Household Income'], ascending=False)[['County','State','Median Household Income']].head(1).to_numpy()[0].tolist()\n",
    "tmhhidiff_pct = nyc_diff_2yr.sort_values(['MHI_pct'], ascending=False)[['County','State','MHI_pct']].head(1).to_numpy()[0].tolist()\n",
    "lmhhidiff_usd = nyc_diff_2yr.sort_values(['Median Household Income'], ascending=True)[['County','State','Median Household Income']].head(1).to_numpy()[0].tolist()\n",
    "lmhhidiff_pct = nyc_diff_2yr.sort_values(['MHI_pct'], ascending=True)[['County','State','MHI_pct']].head(1).to_numpy()[0].tolist()\n",
    "\n",
    "print(\"NYC 2022 Mean HH Inc: $\",int(nyc_2022_df['Median Household Income'].agg('mean')))\n",
    "print(\"NYC 2022 Mean HH Inc Change from 2020: $\", int(nyc_diff_2yr['Median Household Income'].agg('mean')))\n",
    "print(\"-----\")\n",
    "print(\"NYC 2022 Top Median HH Inc: {}, {}: ${}\".format(tmhhi22[0],tmhhi22[1],tmhhi22[2]))\n",
    "print(\"NYC 2020 Top Median HH Inc: {}, {}: ${}\".format(tmhhi20[0],tmhhi20[1],tmhhi20[2]))\n",
    "print(\"NYC 2022 Bottom Median HH Inc: {}, {}: ${}\".format(lmhhi22[0],lmhhi22[1],lmhhi22[2]))\n",
    "print(\"NYC 2020 Bottom Median HH Inc: {}, {}: ${}\".format(lmhhi20[0],lmhhi20[1],lmhhi20[2]))\n",
    "print(\"-----\")\n",
    "print(\"NYC Largest Increase HH Inc Change by USD:  {}, {}: ${}\".format(tmhhidiff_usd[0],tmhhidiff_usd[1],tmhhidiff_usd[2]))\n",
    "print(\"NYC Largest Increase HH Inc Change by %:  {}, {}: {}%\".format(tmhhidiff_pct[0],tmhhidiff_pct[1],np.round(tmhhidiff_pct[2])))\n",
    "print(\"NYC Largest Decrease HH Inc Change by USD:  {}, {}: ${}\".format(lmhhidiff_usd[0],lmhhidiff_usd[1],lmhhidiff_usd[2]))\n",
    "print(\"NYC Largest Decrease HH Inc Change by %:  {}, {}: {}%\".format(lmhhidiff_pct[0],lmhhidiff_pct[1],np.round(lmhhidiff_pct[2])))"
   ]
  },
  {
   "cell_type": "markdown",
   "metadata": {
    "cell_id": "7baa468b9c104de7a45ba0c6cb77f27f",
    "deepnote_cell_type": "markdown",
    "tags": []
   },
   "source": [
    "The mean household income for all counties was just shy of \\\\$88k, which was a \\\\$2k increase from 2020, a 2.3% overall change in income.  On average, it doesn't look like income was a primary driver of `afi` change in this location.  But there are a couple of outliers in that statement on both the high side and the low side of the numbers.  On the high side, Rockland, NY, just to the northwest of New York,NY, experienced a 9% improvment to median income.  On the other end of the spectrum, Monroe, PA (75 miles West of NY, NY) experienced a 10% loss of income.  The cause of this change is not immediately obvious, despite checking other data source aggregators, such as https://datacommons.org/place/geoId/42089?utm_medium=explore&mprop=income&popt=Person&cpv=age%2CYears15Onwards&hl=en.  This warrants more investigation at a later time to discern the cause of this.\n",
    "\n"
   ]
  },
  {
   "cell_type": "markdown",
   "metadata": {
    "cell_id": "682ed892e0e44316b02b9993920abb59",
    "deepnote_cell_type": "markdown",
    "tags": []
   },
   "source": [
    "Next let's move on to Median Home Vale (MHV)."
   ]
  },
  {
   "cell_type": "code",
   "execution_count": null,
   "metadata": {
    "cell_id": "4d97091cd1104beb9b5744a745ae2624",
    "deepnote_cell_type": "code",
    "deepnote_to_be_reexecuted": false,
    "execution_millis": 252,
    "execution_start": 1676947869348,
    "source_hash": "5d6ee6be",
    "tags": []
   },
   "outputs": [],
   "source": [
    "# Print out some basic high/low numbers for Median Home Value for 2022\n",
    "tmhv22 = nyc_2022_df.sort_values(['Median Home Value'], ascending=False)[['County','State','Median Home Value']].head(1).to_numpy()[0].tolist()\n",
    "tmhv20 = nyc_2020_df.sort_values(['Median Home Value'], ascending=False)[['County','State','Median Home Value']].head(1).to_numpy()[0].tolist()\n",
    "lmhv22 = nyc_2022_df.sort_values(['Median Home Value'], ascending=True)[['County','State','Median Home Value']].head(1).to_numpy()[0].tolist()\n",
    "lmhv20 = nyc_2020_df.sort_values(['Median Home Value'], ascending=True)[['County','State','Median Home Value']].head(1).to_numpy()[0].tolist()\n",
    "\n",
    "tmhvdiff_usd = nyc_diff_2yr.sort_values(['Median Home Value'], ascending=False)[['County','State','Median Home Value']].head(1).to_numpy()[0].tolist()\n",
    "tmhvdiff_pct = nyc_diff_2yr.sort_values(['MHV_pct'], ascending=False)[['County','State','MHV_pct']].head(1).to_numpy()[0].tolist()\n",
    "lmhvdiff_usd = nyc_diff_2yr.sort_values(['Median Home Value'], ascending=True)[['County','State','Median Home Value']].head(1).to_numpy()[0].tolist()\n",
    "lmhvdiff_pct = nyc_diff_2yr.sort_values(['MHV_pct'], ascending=True)[['County','State','MHV_pct']].head(1).to_numpy()[0].tolist()\n",
    "\n",
    "print(\"NYC 2022 Mean Home Val: $\",int(nyc_2022_df['Median Home Value'].agg('mean')))\n",
    "print(\"NYC 2022 Mean Home Val Change from 2020: $\", int(nyc_diff_2yr['Median Home Value'].agg('mean')))\n",
    "print(\"-----\")\n",
    "print(\"NYC 2022 Top Median Home Val: {}, {}: ${}\".format(tmhv22[0],tmhv22[1],tmhv22[2]))\n",
    "print(\"NYC 2020 Top Median Home Val: {}, {}: ${}\".format(tmhv20[0],tmhv20[1],tmhv20[2]))\n",
    "print(\"NYC 2022 Bottom Median Home Val: {}, {}: ${}\".format(lmhv22[0],lmhv22[1],lmhv22[2]))\n",
    "print(\"NYC 2020 Bottom Median Home Val: {}, {}: ${}\".format(lmhv20[0],lmhv20[1],lmhv20[2]))\n",
    "print(\"-----\")\n",
    "print(\"NYC Largest Increase Home Val Change by USD:  {}, {}: ${}\".format(tmhvdiff_usd[0],tmhvdiff_usd[1],tmhvdiff_usd[2]))\n",
    "print(\"NYC Largest Increase Home Val Change by %:  {}, {}: {}%\".format(tmhvdiff_pct[0],tmhvdiff_pct[1],np.round(tmhvdiff_pct[2])))\n",
    "print(\"NYC Smallest Increase Home Val Change by USD:  {}, {}: ${}\".format(lmhvdiff_usd[0],lmhvdiff_usd[1],lmhvdiff_usd[2]))\n",
    "print(\"NYC Smallest Increase Home Val Change by %:  {}, {}: {}%\".format(lmhvdiff_pct[0],lmhvdiff_pct[1],np.round(lmhvdiff_pct[2])))"
   ]
  },
  {
   "cell_type": "code",
   "execution_count": null,
   "metadata": {
    "cell_id": "db2fafb0ddd34c3ab00773a838382d8b",
    "deepnote_cell_type": "code",
    "deepnote_to_be_reexecuted": false,
    "execution_millis": 251,
    "execution_start": 1676947869349,
    "source_hash": "2b236489",
    "tags": []
   },
   "outputs": [],
   "source": [
    "nyc_diff_2yr[nyc_diff_2yr.County=='New York'][['County','State','Median Home Value']]"
   ]
  },
  {
   "cell_type": "markdown",
   "metadata": {
    "cell_id": "f782ed4216d84f18bee3977bae4e3e9e",
    "deepnote_cell_type": "markdown",
    "tags": []
   },
   "source": [
    "The Median Home Value (MHV) changes are much more dramatic than the changes to income for the NYC area between 2020 and 2022.  \n",
    "\n",
    "The mean home value change from 2020 was \\\\$110k, representing a 27% mean increase to the homes in the region, increasing the overall mean to \\\\$518k!  Naturally, this mean is somewhat skewed due to the presence of New York county and its \\\\$1.22M 2020 MHV.  But to look a little deeper at NY county, it only increased by the almost exactly the mean improvment of all of the counties in this region, with \\\\$111.5k added in MHV between 2020 and 2022.  That level of increase is only 9% to the MHV, whereas the other counties experinced a mean increase of 27% to the MHV.\n",
    "\n",
    "This is part of the \"donut effect\", outlined by Arjun Ramani and Nicholas Bloom at https://siepr.stanford.edu/publications/policy-brief/donut-effect-how-covid-19-shapes-real-estate.  Essentially, the city core is decreasing, or not increasing as fast as the exurb counties.  This is driven by the increase to remote work from 6% of the workforce to 35% of the workforce (and 57% of all professionals and managers) (Lund, https://www.mckinsey.com/featured-insights/future-of-work/whats-next-for-remote-work-an-analysis-of-2000-tasks-800-jobs-and-nine-countries).\n",
    "\n"
   ]
  },
  {
   "cell_type": "markdown",
   "metadata": {
    "cell_id": "cb38f98a5ea7471f8dfd2a0b772d1217",
    "deepnote_cell_type": "markdown",
    "tags": []
   },
   "source": [
    "Let's take a look at the MHV choropleth graphs, one for 2022, and one for the difference in MHV per county."
   ]
  },
  {
   "cell_type": "code",
   "execution_count": null,
   "metadata": {
    "cell_id": "f0be387709084d5480c48221e44fee81",
    "deepnote_cell_type": "code",
    "deepnote_to_be_reexecuted": false,
    "execution_millis": 3677,
    "execution_start": 1676947869350,
    "source_hash": "910249a0",
    "tags": []
   },
   "outputs": [],
   "source": [
    "# Regional Choropleth\n",
    "# Median Home Value 2022\n",
    "\n",
    "cs = [(0, color_scale[0]), \n",
    "      (0.05, '#7287a1'), \n",
    "      (0.2, color_scale[1]), \n",
    "      (0.5, '#ffd118'), \n",
    "      (1, color_scale[2])]\n",
    "\n",
    "fig = create_choropleth(nyc_2022_df, \n",
    "                        c=\"Median Home Value\",\n",
    "                        h=hover_basic,\n",
    "                        bm=False,\n",
    "                        ttl=\"NYC Median Home Value in 2022\",\n",
    "                        lab={'Median Home Value':'Median<br>Home Value'}, \n",
    "                        c_scale=cs,\n",
    "                        r_scale=nyc_median_home_value)\n",
    "\n",
    "fig = update_lo(fig, dt=100000, ts=\"\", tp=\"$\", tx=0.54, ty=0.86)\n",
    "fig = add_anno(fig, x=0.3, y=0.1, t=f\"\"\"\n",
    "Data Sources: Zillow Home Index Value from Zillow.com<br>\n",
    "Data Collected in Jan 2023 | Visualizations via Plotly 5.10.0 in Feb 2023\"\"\")\n",
    "fig.show(config=px_config)"
   ]
  },
  {
   "cell_type": "code",
   "execution_count": null,
   "metadata": {
    "cell_id": "3f275af360ba4419b2b9c3d422d884fb",
    "deepnote_cell_type": "code",
    "deepnote_to_be_reexecuted": false,
    "execution_millis": 3461,
    "execution_start": 1676947871399,
    "source_hash": "957f6945",
    "tags": []
   },
   "outputs": [],
   "source": [
    "# Regional Choropleth\n",
    "# Change in Median Home Value from 2020 to 2022\n",
    "\n",
    "fig = create_choropleth(nyc_diff_2yr, \n",
    "                        c=\"Median Home Value\",\n",
    "                        h=hover_basic,\n",
    "                        bm=False,\n",
    "                        ttl=\"NYC Change in Median Home Value<br>From 2020 to 2022\",\n",
    "                        lab={'Median Home Value':'Changes to Median<br>Home Value in USD'}, \n",
    "                        c_scale=color_scale,\n",
    "                        r_scale=nyc_median_home_value_diff)\n",
    "\n",
    "fig = update_lo(fig, dt=15000, ts=\"\", tp=\"$\", tx=0.54, ty=0.87)\n",
    "fig = add_anno(fig, x=0.3, y=0.1, t=f\"\"\"\n",
    "Data Sources: Zillow Home Index Value from Zillow.com<br>\n",
    "Data Collected in Jan 2023 | Visualizations via Plotly 5.10.0 in Feb 2023\"\"\")\n",
    "fig.show(config=px_config)"
   ]
  },
  {
   "cell_type": "markdown",
   "metadata": {
    "cell_id": "4271aa83515844cfa74765c02dbc2c10",
    "deepnote_cell_type": "markdown",
    "tags": []
   },
   "source": [
    "The lack of significant increase to the MHV of the city core counties is evident in these graphs.  The MHV 2022 graph clearly indicates the city core and the directly connected counties to it are the most expensive, but the \"NYC Change in Median Home Value\" graph shows those the city core had the lowest amount of MHV growth, and the exurb counties like Suffolk, NY and Monmouth, NJ gained \\\\$180k and \\\\$170k, respectively.\n",
    "\n",
    "That percentage of increase is very interesting for New York county, so let's look at which counties gainst the most MHV increase in this two year time span.  The `MHV_pct` variable in the `nyc_diff_2yr` dataframe is already precalculated with that information, so let's sort by that variable descending and get the top 10."
   ]
  },
  {
   "cell_type": "code",
   "execution_count": null,
   "metadata": {
    "cell_id": "23f14e82ae4b4c9dbe2d265b4ff5ebad",
    "deepnote_cell_type": "code",
    "deepnote_table_loading": false,
    "deepnote_table_state": {
     "filters": [],
     "pageIndex": 0,
     "pageSize": 10,
     "sortBy": []
    },
    "deepnote_to_be_reexecuted": false,
    "execution_millis": 1452040,
    "execution_start": 1676947874618,
    "source_hash": "425efe47",
    "tags": []
   },
   "outputs": [],
   "source": [
    "nyc_diff_2yr.sort_values(['MHV_pct'], ascending=False).head(10)"
   ]
  },
  {
   "cell_type": "markdown",
   "metadata": {
    "cell_id": "e6f3cac26edd40a49f8b90657320461f",
    "deepnote_cell_type": "markdown",
    "tags": []
   },
   "source": [
    "Out of the top 10 counties with MVH increases, none are in the core of the NYC metro area (New York, Queens, Bronx, Kings), instead they're all in the exurb \"donut\" area.  Of course, the MHV in USD is lower in those locations, so there's headroom for the prices to increase as people from the \"hole\" of the donut sell expensive homes and take the equity from those sales and drive up costs in the more remote locations.\n",
    "\n",
    "Based on this information, if we were to perform a choropleth using the `afi` variable, we should see that the city center should have lower scores, because though they haven't seen the type of growth in the past two years that the exurbs have due to the donut effect, the city core is still more expensive than the exurbs.\n",
    "\n",
    "If we then perform a comparison of the differrence between the 2020 and 2022 `afi` scores, that map should be mostly inverted, with the city cores seeing the most improvmement in the past two years in terms of affordability, while the exurbs have been decreasing in affordability.  Let's take a look at those choropleth maps!"
   ]
  },
  {
   "cell_type": "code",
   "execution_count": null,
   "metadata": {
    "cell_id": "6ea5f6add2f24d6e8c5a8eace488cb35",
    "deepnote_cell_type": "code",
    "deepnote_to_be_reexecuted": false,
    "execution_millis": 1884,
    "execution_start": 1676947874618,
    "source_hash": "5cd42e2a",
    "tags": []
   },
   "outputs": [],
   "source": [
    "# Regional Choropleth\n",
    "# AFI 2022\n",
    "\n",
    "cs = [(0, color_scale[0]), \n",
    "      (.4, '#7287a1'), \n",
    "      (.65, color_scale[1]), \n",
    "      (.85, '#ffd118'), \n",
    "      (1, color_scale[2])]\n",
    "\n",
    "fig = create_choropleth(nyc_2022_df, \n",
    "                        c=\"afi\",\n",
    "                        h=hover_basic,\n",
    "                        bm=False,\n",
    "                        ttl=\"NYC Affordability Index 2022\",\n",
    "                        lab={'afi':'Affordability<br>Index'}, \n",
    "                        c_scale=cs,\n",
    "                        r_scale=nyc_afi)\n",
    "\n",
    "fig = update_lo(fig, dt=5, ts=\" pts\", tx=0.54, ty=0.85)\n",
    "fig = add_anno(fig, x=0.3, y=0.08, t=f\"\"\"\n",
    "Data Sources: Equifax Utilities from Gale Business DemographicsNow,<br>\n",
    "ACS 5 Yr from Census.gov, Zillow Home Index Value from Zillow.com<br>\n",
    "Data Collected in Jan 2023 | Visualizations via Plotly 5.10.0 in Feb 2023\"\"\")\n",
    "fig.show(config=px_config)"
   ]
  },
  {
   "cell_type": "markdown",
   "metadata": {
    "cell_id": "20fbafa558fa4c1b87265f962213af23",
    "deepnote_cell_type": "markdown",
    "tags": []
   },
   "source": [
    "With the darker colors indicating low affordability, and yellow/orange indicating higher affordability, there is a clear ring surrounding the city core of more afforable locations.  Historically, it has always been the case that exurbs and surburbs were cheaper than city centers due to the availability of land and the density of the population.  With the changes to remote work instigated by the COVID-19 pandemic, the increase in remote work opportunities has created the situation of an exodus of highly paid professionals moving out of the city core to the more reasonably priced exurbs.  This means if we look at the affordability from a time perspective, we should see the outer ring of the exurbs decreasing in affordability, while the inner core increases in affordability."
   ]
  },
  {
   "cell_type": "code",
   "execution_count": null,
   "metadata": {
    "cell_id": "e8e06c0492a0474f8d3de21e41c35d40",
    "deepnote_cell_type": "code",
    "deepnote_to_be_reexecuted": false,
    "execution_millis": 2690,
    "execution_start": 1676947876244,
    "source_hash": "949e54ea",
    "tags": []
   },
   "outputs": [],
   "source": [
    "# Regional Choropleth\n",
    "# AFI Difference Between 2022-2020\n",
    "# The results are the points difference between 2022 - 2020\n",
    "\n",
    "cs = [(0, color_scale[0]), \n",
    "      (cpr_nyc_afi_diff[2], '#7287a1'), \n",
    "      (cpr_nyc_afi_diff[0], color_scale[1]), \n",
    "      (cpr_nyc_afi_diff[1], '#ffd118'), \n",
    "      (1, color_scale[2])]\n",
    "\n",
    "fig = create_choropleth(nyc_diff_2yr, \n",
    "                        c=\"afi\",\n",
    "                        h=hover_basic,\n",
    "                        bm=False,\n",
    "                        ttl=\"NYC Affordability Index Change<br>As Points from 2020 to 2022\",\n",
    "                        lab={'afi':'Affordability<br>Index Change<br>Points'}, \n",
    "                        c_scale=cs,\n",
    "                        r_scale=nyc_afi_diff)\n",
    "\n",
    "fig = update_lo(fig, dt=2, ts=\" pts\", tx=0.54, ty=0.88)\n",
    "fig = add_anno(fig, x=0.3, y=0.08, t=f\"\"\"\n",
    "Data Sources: Equifax Utilities from Gale Business DemographicsNow,<br>\n",
    "ACS 5 Yr from Census.gov, Zillow Home Index Value from Zillow.com<br>\n",
    "Data Collected in Jan 2023 | Visualizations via Plotly 5.10.0 in Feb 2023\"\"\")\n",
    "fig.show(config=px_config)"
   ]
  },
  {
   "cell_type": "markdown",
   "metadata": {
    "cell_id": "7e6d3e3e15194d9c80c93aab884e22b2",
    "deepnote_cell_type": "markdown",
    "tags": []
   },
   "source": [
    "This graph is looking at the `afi` score across two dimensions of time, taking the difference of 2020 from 2022.  This graph clearly shows that the affordability of the counties that make up the city core is increasing, while the exurb counties are decreasing in affordability.  This is aforementioned \"donut effect\" in action.  Does viewing the data without the geospatial context provide any value?"
   ]
  },
  {
   "cell_type": "code",
   "execution_count": null,
   "metadata": {
    "allow_embed": false,
    "cell_id": "b1cc2e69c13541ae9803c7d716afd0f7",
    "deepnote_cell_type": "code",
    "deepnote_to_be_reexecuted": false,
    "execution_millis": 1574,
    "execution_start": 1676947878696,
    "source_hash": "dbc2536d",
    "tags": []
   },
   "outputs": [],
   "source": [
    "cs = [(0, color_scale[0]), \n",
    "      (cpr_nyc_afi_diff[2], '#7287a1'), \n",
    "      (cpr_nyc_afi_diff[0], color_scale[1]), \n",
    "      (cpr_nyc_afi_diff[1], '#ffd118'), \n",
    "      (1, color_scale[2])]\n",
    "\n",
    "fig = create_scatter(df=nyc_diff_2yr,c='afi',x='Median Household Income', y='Median Home Value', c_scale=cs, \n",
    "                     symbol='State', trendline='ols', trendline_scope=\"overall\",\n",
    "                     ttl='NYC Home Value by Household Income<br>2 Year Difference (2020 to 2022)', lab={'afi':'Affordability<br>Index'})\n",
    "fig.update_layout(\n",
    "    coloraxis_colorbar=dict(dtick=2, ticksuffix=\" pts\", len=.7, y=.32, x=1.01), \n",
    "    title_x=0.5, title_y=0.87)\n",
    "fig.update_traces(marker=dict(size=8))\n",
    "fig = add_anno(fig, x=0.00, y=-0.21, t=f\"\"\"\n",
    "Data Sources: ACS 5 Yr from Census.gov, Equifax Utilities from Gale Business DemographicsNow,<br>\n",
    "and Zillow Home Index Value from Zillow.com | Data Collected in Jan 2023 | Visualizations via Plotly 5.10.0 in Feb 2023\"\"\")\n",
    "fig.show(config=px_config)"
   ]
  },
  {
   "cell_type": "markdown",
   "metadata": {
    "cell_id": "b31766e5945a4df0af1618c064e30c8a",
    "deepnote_cell_type": "markdown",
    "tags": []
   },
   "source": [
    "Without the geospatial encoding, the information is interesting, but not as informative.  Observing the trendline does give us the general relationship between MHV and MHI, but the correlation is weak at best."
   ]
  },
  {
   "cell_type": "markdown",
   "metadata": {
    "cell_id": "d98449d2d6f945a292751149f7cdb2f8",
    "deepnote_cell_type": "markdown",
    "tags": []
   },
   "source": [
    "---------------------------------------"
   ]
  },
  {
   "cell_type": "markdown",
   "metadata": {
    "cell_id": "912eb82bc4fc4b5baeaf00af05e10c70",
    "deepnote_cell_type": "markdown",
    "tags": []
   },
   "source": [
    "### San Francisco Region\n",
    "\n",
    "We will now conduct this same analysis in the San Francisco Bay Metropolitan Area to see if this *Donut Effect* replicated elsewhere.\n",
    "\n",
    "To permit full analysis, we will first calculate the change from 2020 to 2022:"
   ]
  },
  {
   "cell_type": "code",
   "execution_count": null,
   "metadata": {
    "cell_id": "a3c7d1104f2f4d5bb2ae1bcb23e8fa5b",
    "deepnote_cell_type": "code",
    "deepnote_to_be_reexecuted": false,
    "execution_millis": 0,
    "execution_start": 1676947879330,
    "source_hash": "dcb52cba",
    "tags": []
   },
   "outputs": [],
   "source": [
    "# Add the percentage of change to Income and Home Value to the diff dataframe\n",
    "pcts_df = df[(df.Year == 2022) & df.FIPS.isin(sf_fips)][['FIPS','median_income_2yr_change_perc','median_home_value_2yr_change_perc']].rename({'median_income_2yr_change_perc':'MHI_pct','median_home_value_2yr_change_perc':'MHV_pct'}, axis=1)\n",
    "sf_diff_2yr = pd.merge(sf_diff_2yr,pcts_df, on='FIPS', how='left')"
   ]
  },
  {
   "cell_type": "code",
   "execution_count": null,
   "metadata": {
    "cell_id": "2e393be90651418e83b13b6b9f947d5b",
    "deepnote_cell_type": "code",
    "deepnote_to_be_reexecuted": false,
    "execution_millis": 941,
    "execution_start": 1676947879331,
    "source_hash": "e295db50",
    "tags": []
   },
   "outputs": [],
   "source": [
    "sf_diff_2yr[['State', 'County', 'afi', 'Median Home Value', 'Median Household Income', 'MHV_pct', 'MHI_pct']] \\\n",
    "    .sort_values(['afi'], ascending=False).head(5)"
   ]
  },
  {
   "cell_type": "markdown",
   "metadata": {
    "cell_id": "a6d73171f7ed4a028cc6b7e64f7d4ddc",
    "deepnote_cell_type": "markdown",
    "tags": []
   },
   "source": [
    "Now let's observe how affordability changed from 2020 to 2022:"
   ]
  },
  {
   "cell_type": "code",
   "execution_count": null,
   "metadata": {
    "allow_embed": false,
    "cell_id": "70f5ba01678b4c749fcf3f75345e0b64",
    "deepnote_cell_type": "code",
    "deepnote_table_invalid": false,
    "deepnote_table_loading": false,
    "deepnote_table_state": {
     "filters": [],
     "pageIndex": 0,
     "pageSize": 10,
     "sortBy": [
      {
       "id": "Median Household Income",
       "type": "desc"
      }
     ]
    },
    "deepnote_to_be_reexecuted": false,
    "execution_millis": 867,
    "execution_start": 1676947879406,
    "source_hash": "638d21ca",
    "tags": []
   },
   "outputs": [],
   "source": [
    "### Print out some basic information\n",
    "# How many counties decreased in affordability between 2020 and 2022?\n",
    "print(\"SF Counties decreased in affordability: {} of {} total\".format(sf_diff_2yr[sf_diff_2yr.afi < 0]['afi'].count(), len(sf_diff_2yr)))\n",
    "\n",
    "# Are there any counties which experienced a loss in the `Median Home Value` between 2020 and 2022?\n",
    "print(\"SF Counties which had a decrease in Median Home Value (MHV): {} of {} total\".format(sf_diff_2yr[sf_diff_2yr['Median Home Value'] < 0]['Median Home Value'].count(), len(sf_diff_2yr)))\n",
    "\n",
    "# How many counties decreased in income between 2020 and 2022?\n",
    "print(\"SF Counties had a decreased in income (MHI): {} of {} total\".format(sf_diff_2yr[sf_diff_2yr['Median Household Income'] < 0]['Median Household Income'].count(), len(sf_diff_2yr)))"
   ]
  },
  {
   "cell_type": "markdown",
   "metadata": {
    "cell_id": "b04d8a9bde2144a0a77b2e4e5bc5c27b",
    "deepnote_cell_type": "markdown",
    "tags": []
   },
   "source": [
    "Interesting! Out of the 26 counties in the Bay Area, 20 of them decreased in affordability with only 5 counties dropping in MHI and all countries increasing in MHV. Given the fall in affordability, this indicates that home values increased at a rate disproportionate to income in most counties.\n",
    "\n",
    "Let's take a closer look at SF MHI and MHV to be sure:"
   ]
  },
  {
   "cell_type": "code",
   "execution_count": null,
   "metadata": {
    "cell_id": "02f35a79c0884a15bf9b051cfbeb5322",
    "deepnote_cell_type": "code",
    "deepnote_to_be_reexecuted": false,
    "execution_millis": 866,
    "execution_start": 1676947879407,
    "source_hash": "2b4a8742",
    "tags": []
   },
   "outputs": [],
   "source": [
    "# Print out some basic high/low numbers for Median Household Income for 2022\n",
    "tmhhi22 = sf_2022_df.sort_values(['Median Household Income'], ascending=False)[['County','State','Median Household Income']].head(1).to_numpy()[0].tolist()\n",
    "tmhhi20 = sf_2020_df.sort_values(['Median Household Income'], ascending=False)[['County','State','Median Household Income']].head(1).to_numpy()[0].tolist()\n",
    "lmhhi22 = sf_2022_df.sort_values(['Median Household Income'], ascending=True)[['County','State','Median Household Income']].head(1).to_numpy()[0].tolist()\n",
    "lmhhi20 = sf_2020_df.sort_values(['Median Household Income'], ascending=True)[['County','State','Median Household Income']].head(1).to_numpy()[0].tolist()\n",
    "\n",
    "tmhhidiff_usd = sf_diff_2yr.sort_values(['Median Household Income'], ascending=False)[['County','State','Median Household Income']].head(1).to_numpy()[0].tolist()\n",
    "tmhhidiff_pct = sf_diff_2yr.sort_values(['MHI_pct'], ascending=False)[['County','State','MHI_pct']].head(1).to_numpy()[0].tolist()\n",
    "lmhhidiff_usd = sf_diff_2yr.sort_values(['Median Household Income'], ascending=True)[['County','State','Median Household Income']].head(1).to_numpy()[0].tolist()\n",
    "lmhhidiff_pct = sf_diff_2yr.sort_values(['MHI_pct'], ascending=True)[['County','State','MHI_pct']].head(1).to_numpy()[0].tolist()\n",
    "\n",
    "print(\"SF 2022 Mean HH Inc: $\",int(sf_2022_df['Median Household Income'].agg('mean')))\n",
    "print(\"SF 2022 Mean HH Inc Change from 2020: $\", int(sf_diff_2yr['Median Household Income'].agg('mean')))\n",
    "print(\"-----\")\n",
    "print(\"SF 2022 Top Median HH Inc: {}, {}: ${}\".format(tmhhi22[0],tmhhi22[1],tmhhi22[2]))\n",
    "print(\"SF 2020 Top Median HH Inc: {}, {}: ${}\".format(tmhhi20[0],tmhhi20[1],tmhhi20[2]))\n",
    "print(\"SF 2022 Bottom Median HH Inc: {}, {}: ${}\".format(lmhhi22[0],lmhhi22[1],lmhhi22[2]))\n",
    "print(\"SF 2020 Bottom Median HH Inc: {}, {}: ${}\".format(lmhhi20[0],lmhhi20[1],lmhhi20[2]))\n",
    "print(\"-----\")\n",
    "print(\"SF Largest Increase HH Inc Change by USD:  {}, {}: ${}\".format(tmhhidiff_usd[0],tmhhidiff_usd[1],tmhhidiff_usd[2]))\n",
    "print(\"SF Largest Increase HH Inc Change by %:  {}, {}: {}%\".format(tmhhidiff_pct[0],tmhhidiff_pct[1],np.round(tmhhidiff_pct[2])))\n",
    "print(\"SF Largest Decrease HH Inc Change by USD:  {}, {}: ${}\".format(lmhhidiff_usd[0],lmhhidiff_usd[1],lmhhidiff_usd[2]))\n",
    "print(\"SF Largest Decrease HH Inc Change by %:  {}, {}: {}%\".format(lmhhidiff_pct[0],lmhhidiff_pct[1],np.round(lmhhidiff_pct[2])))"
   ]
  },
  {
   "cell_type": "code",
   "execution_count": null,
   "metadata": {
    "cell_id": "73d597a7fa534f21988bc96f32c5a248",
    "deepnote_cell_type": "code",
    "deepnote_to_be_reexecuted": false,
    "execution_millis": 852,
    "execution_start": 1676947879421,
    "source_hash": "3f7468d3",
    "tags": []
   },
   "outputs": [],
   "source": [
    "# Print out some basic high/low numbers for Median Home Value for 2022\n",
    "tmhv22 = sf_2022_df.sort_values(['Median Home Value'], ascending=False)[['County','State','Median Home Value']].head(1).to_numpy()[0].tolist()\n",
    "tmhv20 = sf_2020_df.sort_values(['Median Home Value'], ascending=False)[['County','State','Median Home Value']].head(1).to_numpy()[0].tolist()\n",
    "lmhv22 = sf_2022_df.sort_values(['Median Home Value'], ascending=True)[['County','State','Median Home Value']].head(1).to_numpy()[0].tolist()\n",
    "lmhv20 = sf_2020_df.sort_values(['Median Home Value'], ascending=True)[['County','State','Median Home Value']].head(1).to_numpy()[0].tolist()\n",
    "\n",
    "tmhvdiff_usd = sf_diff_2yr.sort_values(['Median Home Value'], ascending=False)[['County','State','Median Home Value']].head(1).to_numpy()[0].tolist()\n",
    "tmhvdiff_pct = sf_diff_2yr.sort_values(['MHV_pct'], ascending=False)[['County','State','MHV_pct']].head(1).to_numpy()[0].tolist()\n",
    "lmhvdiff_usd = sf_diff_2yr.sort_values(['Median Home Value'], ascending=True)[['County','State','Median Home Value']].head(1).to_numpy()[0].tolist()\n",
    "lmhvdiff_pct = sf_diff_2yr.sort_values(['MHV_pct'], ascending=True)[['County','State','MHV_pct']].head(1).to_numpy()[0].tolist()\n",
    "\n",
    "print(\"SF 2022 Mean Home Val: $\",int(sf_2022_df['Median Home Value'].agg('mean')))\n",
    "print(\"SF 2022 Mean Home Val Change from 2020: $\", int(sf_diff_2yr['Median Home Value'].agg('mean')))\n",
    "print(\"-----\")\n",
    "print(\"SF 2022 Top Median Home Val: {}, {}: ${}\".format(tmhv22[0],tmhv22[1],tmhv22[2]))\n",
    "print(\"SF 2020 Top Median Home Val: {}, {}: ${}\".format(tmhv20[0],tmhv20[1],tmhv20[2]))\n",
    "print(\"SF 2022 Bottom Median Home Val: {}, {}: ${}\".format(lmhv22[0],lmhv22[1],lmhv22[2]))\n",
    "print(\"SF 2020 Bottom Median Home Val: {}, {}: ${}\".format(lmhv20[0],lmhv20[1],lmhv20[2]))\n",
    "print(\"-----\")\n",
    "print(\"SF Largest Increase Home Val Change by USD:  {}, {}: ${}\".format(tmhvdiff_usd[0],tmhvdiff_usd[1],tmhvdiff_usd[2]))\n",
    "print(\"SF Largest Increase Home Val Change by %:  {}, {}: {}%\".format(tmhvdiff_pct[0],tmhvdiff_pct[1],np.round(tmhvdiff_pct[2])))\n",
    "print(\"SF Smallest Increase Home Val Change by USD:  {}, {}: ${}\".format(lmhvdiff_usd[0],lmhvdiff_usd[1],lmhvdiff_usd[2]))\n",
    "print(\"SF Smallest Increase Home Val Change by %:  {}, {}: {}%\".format(lmhvdiff_pct[0],lmhvdiff_pct[1],np.round(lmhvdiff_pct[2])))"
   ]
  },
  {
   "cell_type": "markdown",
   "metadata": {
    "cell_id": "d45501392eba4c238ed8271a1e7d1538",
    "deepnote_cell_type": "markdown",
    "tags": []
   },
   "source": [
    "Both incomes and home values grew from 2020-2022, however home values grew at a far greater pace than income. Averaged across all Bay Area counties, home prices grew \\\\$189k (32%) while incomes only grew \\\\$3k (4%). Given the greater weight given to home values in the affordability index, this would result in a large shift downwards in affordability.\n",
    "\n",
    "This is not true for all counties, however. San Mateo MHI increased 10% while its MHV increased at a slower rate than the region leading to improved affordability performance during that time period. Marin county on the other hand increased home values 34% (\\\\$410k) while income decreased 4% (\\\\$4k). Marin's change suggests lower-paid individuals likely seeking cheaper housing, or perhaps non-working individuals with home-equity seeking lower home prices elsewhere.\n",
    "\n",
    "To better understand how housing and income affects affordability, let's plot a trendline:"
   ]
  },
  {
   "cell_type": "code",
   "execution_count": null,
   "metadata": {
    "allow_embed": false,
    "cell_id": "1866104fb0d24c8d8971a4d9787a5721",
    "deepnote_cell_type": "code",
    "deepnote_to_be_reexecuted": false,
    "execution_millis": 1247,
    "execution_start": 1676947879434,
    "source_hash": "b2882382",
    "tags": []
   },
   "outputs": [],
   "source": [
    "fig = create_scatter(df=sf_2022_df,c='afi',x='Median Household Income', y='Median Home Value',\n",
    "                    facet_col='State', facet_col_wrap=2, trendline='ols', trendline_scope=\"overall\",\n",
    "                    ttl='SF Home Value by Household Income in 2022', lab={'afi':'Affordability<br>Index'})\n",
    "\n",
    "fig.update_layout(coloraxis_colorbar=dict(dtick=5, ticksuffix=\" pts\", len=.95, y=.45, x=1.01), title_x=0.5, title_y=0.88)\n",
    "fig.for_each_annotation(lambda a: a.update(text=a.text.split(\"=\")[-1]))\n",
    "fig.update_traces(textposition='top center', marker=dict(size=12))\n",
    "fig = add_anno(fig, x=0.02, y=-0.21, t=f\"\"\"\n",
    "Data Sources: ACS 5 Yr from Census.gov, Equifax Utilities from Gale Business DemographicsNow,<br>\n",
    "and Zillow Home Index Value from Zillow.com | Data Collected in Jan 2023 | Visualizations via Plotly 5.10.0 in Feb 2023\"\"\")\n",
    "fig.show(config=px_config)"
   ]
  },
  {
   "cell_type": "markdown",
   "metadata": {
    "cell_id": "50bc75dd76f2415382f9aaa6797dc208",
    "deepnote_cell_type": "markdown",
    "tags": []
   },
   "source": [
    "As shown above, althought the two move quite closely and are positively correlated, affordability seems to be the most impacted by housing prices. Let's display this using Sutter and Stanislaus counties:\n",
    "\n",
    "- County: Affordability | Housing | Income\n",
    "- Sutter: 78.9 | 443k | \\\\$62.1k\n",
    "- Stanislaus : 77.8 | 464k | \\\\$64.1k\n",
    "\n",
    "Sutter's affordability is 1.4% greater than that of Stanislaus despite its income being 3.1% lower. Housing however is 4.5% cheaper in Sutter, driving the strength in affordability. This logic is present in the composite index weightings.\n",
    "\n",
    "Knowing that housing has a greater impact than income, let's filter the greatest growth in MHV and how it impacted affordability:"
   ]
  },
  {
   "cell_type": "code",
   "execution_count": null,
   "metadata": {
    "allow_embed": false,
    "cell_id": "8e1fe77d3b2548a28a1eac3f7920f4c1",
    "deepnote_cell_type": "code",
    "deepnote_table_loading": false,
    "deepnote_table_state": {
     "filters": [],
     "pageIndex": 0,
     "pageSize": 10,
     "sortBy": []
    },
    "deepnote_to_be_reexecuted": false,
    "execution_millis": 422,
    "execution_start": 1676947880276,
    "source_hash": "454eda39",
    "tags": []
   },
   "outputs": [],
   "source": [
    "sf_diff_2yr.sort_values(['MHV_pct'], ascending=False).head(10)"
   ]
  },
  {
   "cell_type": "markdown",
   "metadata": {
    "cell_id": "cf5f455bc2e2439b913ee2060f0827b5",
    "deepnote_cell_type": "markdown",
    "tags": []
   },
   "source": [
    "As expected, all counties with large housing value growth fell in affordability. Although in many cases, the decline was tapered by an increase in MHI (as was the case for Merced county).\n",
    "\n",
    "Now let's confirm our donut effect assumptions by visualizing it in a choropleth map of the Bay. Let's first look at Affordability in 2022:"
   ]
  },
  {
   "cell_type": "code",
   "execution_count": null,
   "metadata": {
    "cell_id": "d08943b4881c4841ae3a4ed209a31773",
    "deepnote_cell_type": "code",
    "deepnote_to_be_reexecuted": false,
    "execution_millis": 4312,
    "execution_start": 1676947880278,
    "source_hash": "53e92cff",
    "tags": []
   },
   "outputs": [],
   "source": [
    "# Regional Choropleth\n",
    "# AFI 2022\n",
    "\n",
    "cs = [(0, color_scale[0]), \n",
    "      (.4, '#7287a1'), \n",
    "      (.65, color_scale[1]), \n",
    "      (.85, '#ffd118'), \n",
    "      (1, color_scale[2])]\n",
    "\n",
    "fig = create_choropleth(sf_2022_df, \n",
    "                        c=\"afi\",\n",
    "                        h=hover_basic,\n",
    "                        bm=False,\n",
    "                        ttl=\"SF Affordability Index 2022\",\n",
    "                        lab={'afi':'Affordability<br>Index'}, \n",
    "                        c_scale=cs,\n",
    "                        r_scale=sf_afi)\n",
    "\n",
    "fig = update_lo(fig, dt=5, ts=\" pts\", tx=0.54, ty=0.93)\n",
    "fig = add_anno(fig,x=0.35,y=0.08,t=f\"\"\"\n",
    "Data Sources: Equifax Utilities from Gale Business DemographicsNow,<br>\n",
    "ACS 5 Yr from Census.gov, Zillow Home Index Value from Zillow.com<br>\n",
    "Data Collected in Jan 2023 | Visualizations via Plotly 5.10.0 in Feb 2023\"\"\")\n",
    "fig.show(config=px_config)"
   ]
  },
  {
   "cell_type": "markdown",
   "metadata": {
    "cell_id": "16671735c94c4ace980b7e0b040533d4",
    "deepnote_cell_type": "markdown",
    "tags": []
   },
   "source": [
    "In 2022, lower affordability is concentrated around the San Francisco coast, with inland counties more affordable. Let's see how affordability shifted from 2020 to 2022:"
   ]
  },
  {
   "cell_type": "code",
   "execution_count": null,
   "metadata": {
    "cell_id": "d84b774d2bd14a6bb0771da9c888ad76",
    "deepnote_cell_type": "code",
    "deepnote_to_be_reexecuted": false,
    "execution_millis": 3719,
    "execution_start": 1676947882400,
    "source_hash": "6e417077",
    "tags": []
   },
   "outputs": [],
   "source": [
    "# Regional Choropleth\n",
    "# AFI Difference Between 2022-2020\n",
    "# The results are the points difference between 2022 - 2020\n",
    "\n",
    "cs = [(0, color_scale[0]), \n",
    "      (cpr_sf_afi_diff[2], '#7287a1'), \n",
    "      (cpr_sf_afi_diff[0], color_scale[1]), \n",
    "      (cpr_sf_afi_diff[1], '#ffd118'), \n",
    "      (1, color_scale[2])]\n",
    "\n",
    "fig = create_choropleth(sf_diff_2yr, \n",
    "                        c=\"afi\",\n",
    "                        h=hover_basic,\n",
    "                        bm=False,\n",
    "                        ttl=\"SF Bay Affordability Index Change<br>As Points from 2020 to 2022\",\n",
    "                        lab={'afi':'Affordability<br>Index Change<br>Points'}, \n",
    "                        c_scale=cs,\n",
    "                        r_scale=sf_afi_diff)\n",
    "\n",
    "fig = update_lo(fig, dt=2, ts=\" pts\", tx=0.54, ty=0.93)\n",
    "fig = add_anno(fig,x=0.35,y=0.08,t=f\"\"\"\n",
    "Data Sources: Equifax Utilities from Gale Business DemographicsNow,<br>\n",
    "ACS 5 Yr from Census.gov, Zillow Home Index Value from Zillow.com<br>\n",
    "Data Collected in Jan 2023 | Visualizations via Plotly 5.10.0 in Feb 2023\"\"\")\n",
    "fig.show(config=px_config)"
   ]
  },
  {
   "cell_type": "markdown",
   "metadata": {
    "cell_id": "e1b433e0bee143519fcbc1d8704bb2b9",
    "deepnote_cell_type": "markdown",
    "tags": []
   },
   "source": [
    "As discussed previously, counties such as San Mateo and Santa Clara increased in Affordability as their salary growth exceeded surrounding counties, while their home values grew at a pace slower than surrounding areas. Nearby lower-cost counties such as Santa Cruz and Marin county decreased in affordability the most.\n",
    "\n",
    "Let's now see if this is driven by housing as discussed previously:"
   ]
  },
  {
   "cell_type": "code",
   "execution_count": null,
   "metadata": {
    "cell_id": "0e42077fea4b446ca95d15bfb4b31548",
    "deepnote_cell_type": "code",
    "deepnote_to_be_reexecuted": false,
    "execution_millis": 3593,
    "execution_start": 1676947884851,
    "source_hash": "750d0e73",
    "tags": []
   },
   "outputs": [],
   "source": [
    "# Regional Choropleth\n",
    "# Median Home Value 2022\n",
    "\n",
    "cs = [(0, color_scale[0]), \n",
    "      (cpr_sf_mhv_diff[2], '#7287a1'), \n",
    "      (cpr_sf_mhv_diff[0], color_scale[1]), \n",
    "      (cpr_sf_mhv_diff[1], '#ffd118'), \n",
    "      (1, color_scale[2])]\n",
    "\n",
    "fig = create_choropleth(df[(df.Year == 2022) & (df.FIPS.isin(sf_fips))], \n",
    "                        c=\"Median Home Value\",\n",
    "                        bm=False,\n",
    "                        ttl=\"SF Bay Median Home Value in 2022\",\n",
    "                        lab={'Median Home Value':'Median<br>Home Value'}, \n",
    "                        c_scale=cs,\n",
    "                        r_scale=sf_median_home_value)\n",
    "\n",
    "fig = update_lo(fig, dt=100000, ts=\"\", tp=\"$\", tx=0.54, ty=0.91)\n",
    "fig = add_anno(fig, x=0.35, y=0.1, t=f\"\"\"\n",
    "Data Sources: Zillow Home Index Value from Zillow.com<br>\n",
    "Data Collected in Jan 2023 | Visualizations via Plotly 5.10.0 in Feb 2023\"\"\")\n",
    "fig.show(config=px_config)"
   ]
  },
  {
   "cell_type": "markdown",
   "metadata": {
    "cell_id": "79aa68b47ceb4109b689cd85dd46c0ef",
    "deepnote_cell_type": "markdown",
    "tags": []
   },
   "source": [
    "As expected, the housing choropleth matches the affordability choropleth closely. Let's explore the change in housing costs:"
   ]
  },
  {
   "cell_type": "code",
   "execution_count": null,
   "metadata": {
    "cell_id": "0df0a9f6b28941c1ba558d42d736bc55",
    "deepnote_cell_type": "code",
    "deepnote_to_be_reexecuted": false,
    "execution_millis": 3584,
    "execution_start": 1676947887717,
    "source_hash": "87857696",
    "tags": []
   },
   "outputs": [],
   "source": [
    "# Regional Choropleth\n",
    "# Change in Median Home Value from 2020 to 2022\n",
    "\n",
    "cs = [(0, color_scale[0]), \n",
    "      (cpr_sf_mhv_diff[2], '#7287a1'), \n",
    "      (cpr_sf_mhv_diff[0], color_scale[1]), \n",
    "      (cpr_sf_mhv_diff[1], '#ffd118'), \n",
    "      (1, color_scale[2])]\n",
    "\n",
    "fig = create_choropleth(sf_diff_2yr, \n",
    "                        c=\"Median Home Value\",\n",
    "                        h=hover_basic,\n",
    "                        bm=False,\n",
    "                        ttl=\"SF Bay Change in Median Home Value<br>From 2020 to 2022\",\n",
    "                        lab={'Median Home Value':'Changes to Median<br>Home Value in USD'}, \n",
    "                        c_scale=cs,\n",
    "                        r_scale=sf_median_home_value_diff)\n",
    "\n",
    "fig = update_lo(fig, dt=50000, ts=\"\", tp=\"$\", tx=0.54, ty=0.91)\n",
    "fig = add_anno(fig, x=0.35, y=0.1, t=f\"\"\"\n",
    "Data Sources: Zillow Home Index Value from Zillow.com<br>\n",
    "Data Collected in Jan 2023 | Visualizations via Plotly 5.10.0 in Feb 2023\"\"\")\n",
    "fig.show(config=px_config)"
   ]
  },
  {
   "cell_type": "markdown",
   "metadata": {
    "cell_id": "337b67183d74418882259e86e6cb75aa",
    "deepnote_cell_type": "markdown",
    "tags": []
   },
   "source": [
    "Home values averaged 32% growth across the Bay from 2020-2022. San Francisco, however, only grew 10% during that time, with Marin county to the North growing 34%. Surprisingly, Marin county incomes also fell 4% during this same time period. This suggests that remote workers are not the only cohorts driving the donut effect. Lower-paid property owners leaving urban centers such as San Francisco also contributed to the donut effect, driving home prices in some cases to match those of the urban centers themselves.\n",
    "\n"
   ]
  },
  {
   "cell_type": "markdown",
   "metadata": {
    "cell_id": "588a35a439cb443d9ec7e0adfc8ca4f5",
    "deepnote_cell_type": "markdown",
    "tags": []
   },
   "source": [
    "<hr style=\"border:1px solid gray\">"
   ]
  },
  {
   "cell_type": "markdown",
   "metadata": {
    "cell_id": "6d7346d5e3d34c12a66a6e032590182d",
    "deepnote_cell_type": "markdown",
    "tags": []
   },
   "source": [
    "### Summary"
   ]
  },
  {
   "cell_type": "markdown",
   "metadata": {
    "cell_id": "3dce9c8b6e734a36a73d02133c8bee87",
    "deepnote_cell_type": "markdown",
    "tags": []
   },
   "source": [
    "National and regional analysis shows movement towards a decrease in affordability in exurb counties and increases in affordability in city cores, as shown in New York City and San Francisco donut effects. The question that now arises is whether this trend will sustain itself despite [rising interest rates](https://www.bankrate.com/real-estate/how-fed-rate-hike-affects-housing/) accompanied by an increasing number of [available housing inventory](https://fred.stlouisfed.org/series/MSACSR) on the market. With return-to-workplace requirements and changes in macro-economic policies, future analysis should observe whether the affordability trend will continue, or whether a housing value retraction will take place in suburbs and exurbs."
   ]
  },
  {
   "cell_type": "markdown",
   "metadata": {
    "created_in_deepnote_cell": true,
    "deepnote_cell_type": "markdown",
    "tags": []
   },
   "source": [
    "<a style='text-decoration:none;line-height:16px;display:flex;color:#5B5B62;padding:10px;justify-content:end;' href='https://deepnote.com?utm_source=created-in-deepnote-cell&projectId=295bb911-c56a-4f18-9d98-f03c8b82d5f2' target=\"_blank\">\n",
    "<img alt='Created in deepnote.com' style='display:inline;max-height:16px;margin:0px;margin-right:7.5px;' src='data:image/svg+xml;base64,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' > </img>\n",
    "Created in <span style='font-weight:600;margin-left:4px;'>Deepnote</span></a>"
   ]
  }
 ],
 "metadata": {
  "deepnote": {},
  "deepnote_execution_queue": [],
  "deepnote_notebook_id": "3cf15d853c3c4779bc81e8cf9d6bdb83",
  "kernelspec": {
   "display_name": "Python 3",
   "language": "python",
   "name": "python3"
  },
  "language_info": {
   "codemirror_mode": {
    "name": "ipython",
    "version": 3
   },
   "file_extension": ".py",
   "mimetype": "text/x-python",
   "name": "python",
   "nbconvert_exporter": "python",
   "pygments_lexer": "ipython3",
   "version": "3.8.8"
  }
 },
 "nbformat": 4,
 "nbformat_minor": 1
}
