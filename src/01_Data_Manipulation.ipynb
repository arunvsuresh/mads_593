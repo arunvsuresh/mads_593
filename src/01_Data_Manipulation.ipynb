{
 "cells": [
  {
   "cell_type": "markdown",
   "metadata": {
    "cell_id": "f76acc097b874f488e563f1bb2465cca",
    "deepnote_cell_type": "markdown",
    "tags": []
   },
   "source": [
    "# Data Manipulation Notebook\n",
    "by Arun Suresh, Nick Wheatley and James Conner"
   ]
  },
  {
   "cell_type": "markdown",
   "metadata": {
    "cell_id": "72c7f57d67ae4d98b636b44d3dafe183",
    "deepnote_cell_type": "markdown",
    "deepnote_to_be_reexecuted": false,
    "execution_millis": 21,
    "execution_start": 1676938466480,
    "source_hash": "f92143b8",
    "tags": []
   },
   "source": [
    "<hr style=\"border:2px solid gray\">"
   ]
  },
  {
   "cell_type": "markdown",
   "metadata": {
    "cell_id": "d31ed6f724124c89a2d01ee19bb1b13f",
    "deepnote_cell_type": "markdown",
    "tags": []
   },
   "source": [
    "##### This notebook will showcase the various data manipulation techniques used to clean and transform our main datasets (Zillow, ACS, Equifax) into working datasets for use."
   ]
  },
  {
   "cell_type": "markdown",
   "metadata": {
    "cell_id": "76dff764b4e94c17855bb24515812cbd",
    "deepnote_cell_type": "markdown",
    "tags": []
   },
   "source": [
    "<hr style=\"border:1px solid gray\">"
   ]
  },
  {
   "cell_type": "markdown",
   "metadata": {
    "cell_id": "68e3742dc2dd49bd816a641434cf2d3b",
    "deepnote_cell_type": "markdown",
    "tags": []
   },
   "source": [
    "## Additional Notebooks\n",
    "\n",
    "**[Data Merging and Index Creation](02_Data_Merging_and_Index_Creation.ipynb)**\n",
    "\n",
    "**[Data Analysis](03_Analysis.ipynb)**"
   ]
  },
  {
   "cell_type": "markdown",
   "metadata": {
    "cell_id": "6a891e5a78b24562b3a6300fb0ab56df",
    "deepnote_cell_type": "markdown",
    "tags": []
   },
   "source": [
    "<hr style=\"border:1px solid gray\">"
   ]
  },
  {
   "cell_type": "markdown",
   "metadata": {
    "cell_id": "ac7e8e54e1ff4ab88fa4498452d0d35e",
    "deepnote_cell_type": "markdown",
    "tags": []
   },
   "source": [
    "## Notebook Setup"
   ]
  },
  {
   "cell_type": "markdown",
   "metadata": {
    "cell_id": "42aed000438c485ca34c52d9c1ee8d50",
    "deepnote_cell_type": "markdown",
    "tags": []
   },
   "source": [
    "### Set Up the Environment\n",
    "\n",
    "Ensure that the environment has consistent versions of the required libraries."
   ]
  },
  {
   "cell_type": "code",
   "execution_count": 1,
   "metadata": {
    "cell_id": "da73b3d10fd94e57addd2ddf5d4d0278",
    "deepnote_cell_type": "code",
    "deepnote_to_be_reexecuted": false,
    "execution_millis": 1267,
    "execution_start": 1676947751371,
    "source_hash": "ca73bb9",
    "tags": []
   },
   "outputs": [
    {
     "name": "stdout",
     "output_type": "stream",
     "text": [
      "Missing or different libraries.\n",
      "Installing required libraries/versions.\n"
     ]
    },
    {
     "name": "stderr",
     "output_type": "stream",
     "text": [
      "ERROR: pip's dependency resolver does not currently take into account all the packages that are installed. This behaviour is the source of the following dependency conflicts.\n",
      "yfinance 0.2.10 requires pandas>=1.3.0, but you have pandas 1.2.5 which is incompatible.\n",
      "scipy 1.6.2 requires numpy<1.23.0,>=1.16.5, but you have numpy 1.23.4 which is incompatible.\n",
      "fastparquet 2023.1.0 requires pandas>=1.5.0, but you have pandas 1.2.5 which is incompatible.\n"
     ]
    }
   ],
   "source": [
    "import sys\n",
    "# Pandas required for dataframes\n",
    "# Numpy required for pandas\n",
    "# Pyarrow installed to write/read parquet files\n",
    "# Pip upgrade required due to pandas wheel build issues\n",
    "\n",
    "required_libs = ['pandas==1.2.5', 'numpy==1.23.4', 'pyarrow==9.0.0']\n",
    "required_libs_str = \" \".join(required_libs)\n",
    "\n",
    "current_libs = !{sys.executable} -m pip freeze\n",
    "                    \n",
    "if len(set(required_libs) - set(current_libs)) != 0:\n",
    "    print(\"Missing or different libraries.\")\n",
    "    print(\"Installing required libraries/versions.\")\n",
    "    !{sys.executable} -m pip install --upgrade pip -q \n",
    "    !{sys.executable} -m pip install -q {required_libs_str}\n",
    "else:\n",
    "    print(\"Libraries and versions match.\")"
   ]
  },
  {
   "cell_type": "markdown",
   "metadata": {
    "cell_id": "fab15da48c2943a3ad85fa6f0d6a654b",
    "deepnote_cell_type": "markdown",
    "tags": []
   },
   "source": [
    "### Import Libraries/Modules"
   ]
  },
  {
   "cell_type": "code",
   "execution_count": 2,
   "metadata": {
    "cell_id": "ffb7f67a38d7456187311f7b5b444194",
    "deepnote_cell_type": "code",
    "deepnote_to_be_reexecuted": false,
    "execution_millis": 3,
    "execution_start": 1676947752640,
    "source_hash": "683fc364",
    "tags": []
   },
   "outputs": [],
   "source": [
    "import os\n",
    "import pandas as pd\n",
    "import numpy as np\n",
    "from collections import defaultdict"
   ]
  },
  {
   "cell_type": "markdown",
   "metadata": {
    "cell_id": "879e22e957224816a8c98f785732574b",
    "deepnote_cell_type": "markdown",
    "tags": []
   },
   "source": [
    "<hr style=\"border:1px solid gray\">"
   ]
  },
  {
   "cell_type": "markdown",
   "metadata": {
    "cell_id": "dbc0d0180bba491a84c976c02592705e",
    "deepnote_cell_type": "markdown",
    "tags": []
   },
   "source": [
    "### Data Manipulation"
   ]
  },
  {
   "cell_type": "markdown",
   "metadata": {
    "cell_id": "c24289ffd951487189321f9968268c63",
    "deepnote_cell_type": "markdown",
    "tags": []
   },
   "source": [
    "#### Zillow"
   ]
  },
  {
   "cell_type": "markdown",
   "metadata": {
    "cell_id": "840de6e2704c40898836ae5a558378e0",
    "deepnote_cell_type": "markdown",
    "tags": []
   },
   "source": [
    "Let's first start with our Zillow data. For our analysis, we used Zillow's ZHVI (Zillow Home Value Index) dataset, which provides typical home values per county going back all the way to 2000. Median Home Values composed a large part (weight) of our Affordability Index, a metric we created as a means to measure housing affordability on a per-county basis. We'll get into further detail about the indices used in our analysis in a separate notebook. "
   ]
  },
  {
   "cell_type": "markdown",
   "metadata": {
    "cell_id": "7b5a269d43054863968889e071552bb2",
    "deepnote_cell_type": "markdown",
    "tags": []
   },
   "source": [
    "##### Read files"
   ]
  },
  {
   "cell_type": "markdown",
   "metadata": {
    "cell_id": "893eb7ab75c84346aaa4e2adebf9faed",
    "deepnote_cell_type": "markdown",
    "tags": []
   },
   "source": [
    "Each dataset was downloaded as a CSV to start. Here we also download a file containing full US state names to replace Zillow's abbreviated State names."
   ]
  },
  {
   "cell_type": "code",
   "execution_count": 3,
   "metadata": {
    "cell_id": "4e982fbad52a4a6baf6c27e5a4adf9f1",
    "deepnote_cell_type": "code",
    "deepnote_to_be_reexecuted": false,
    "execution_millis": 291,
    "execution_start": 1676947752645,
    "source_hash": "a50a603a",
    "tags": []
   },
   "outputs": [],
   "source": [
    "# read in data files\n",
    "zillow = pd.read_csv('data/Zillow_All_Homes_TimeSeries_Smoothed_Seasonally_Adjusted_By_County.csv')\n",
    "state_names = pd.read_parquet('data/state_names.parquet')"
   ]
  },
  {
   "cell_type": "markdown",
   "metadata": {
    "cell_id": "3165f088bbc541858027588dd2e987f0",
    "deepnote_cell_type": "markdown",
    "tags": []
   },
   "source": [
    "Let's inspect the head to see how the data is constructed."
   ]
  },
  {
   "cell_type": "code",
   "execution_count": 4,
   "metadata": {
    "cell_id": "6945ed79a90d42838f6c2b177bc41919",
    "deepnote_cell_type": "code",
    "deepnote_to_be_reexecuted": false,
    "execution_millis": 560,
    "execution_start": 1676947752973,
    "source_hash": "5e4b426d",
    "tags": []
   },
   "outputs": [
    {
     "data": {
      "text/html": [
       "<div>\n",
       "<style scoped>\n",
       "    .dataframe tbody tr th:only-of-type {\n",
       "        vertical-align: middle;\n",
       "    }\n",
       "\n",
       "    .dataframe tbody tr th {\n",
       "        vertical-align: top;\n",
       "    }\n",
       "\n",
       "    .dataframe thead th {\n",
       "        text-align: right;\n",
       "    }\n",
       "</style>\n",
       "<table border=\"1\" class=\"dataframe\">\n",
       "  <thead>\n",
       "    <tr style=\"text-align: right;\">\n",
       "      <th></th>\n",
       "      <th>RegionID</th>\n",
       "      <th>SizeRank</th>\n",
       "      <th>RegionName</th>\n",
       "      <th>RegionType</th>\n",
       "      <th>StateName</th>\n",
       "      <th>State</th>\n",
       "      <th>Metro</th>\n",
       "      <th>StateCodeFIPS</th>\n",
       "      <th>MunicipalCodeFIPS</th>\n",
       "      <th>2000-01-31</th>\n",
       "      <th>...</th>\n",
       "      <th>2022-02-28</th>\n",
       "      <th>2022-03-31</th>\n",
       "      <th>2022-04-30</th>\n",
       "      <th>2022-05-31</th>\n",
       "      <th>2022-06-30</th>\n",
       "      <th>2022-07-31</th>\n",
       "      <th>2022-08-31</th>\n",
       "      <th>2022-09-30</th>\n",
       "      <th>2022-10-31</th>\n",
       "      <th>2022-11-30</th>\n",
       "    </tr>\n",
       "  </thead>\n",
       "  <tbody>\n",
       "    <tr>\n",
       "      <th>0</th>\n",
       "      <td>3101</td>\n",
       "      <td>0</td>\n",
       "      <td>Los Angeles County</td>\n",
       "      <td>county</td>\n",
       "      <td>CA</td>\n",
       "      <td>CA</td>\n",
       "      <td>Los Angeles-Long Beach-Anaheim, CA</td>\n",
       "      <td>6</td>\n",
       "      <td>37</td>\n",
       "      <td>216545.0</td>\n",
       "      <td>...</td>\n",
       "      <td>832178.0</td>\n",
       "      <td>846832.0</td>\n",
       "      <td>864584.0</td>\n",
       "      <td>879885.0</td>\n",
       "      <td>881568.0</td>\n",
       "      <td>881064.0</td>\n",
       "      <td>867874.0</td>\n",
       "      <td>857204.0</td>\n",
       "      <td>845637.0</td>\n",
       "      <td>843637.0</td>\n",
       "    </tr>\n",
       "    <tr>\n",
       "      <th>1</th>\n",
       "      <td>139</td>\n",
       "      <td>1</td>\n",
       "      <td>Cook County</td>\n",
       "      <td>county</td>\n",
       "      <td>IL</td>\n",
       "      <td>IL</td>\n",
       "      <td>Chicago-Naperville-Elgin, IL-IN-WI</td>\n",
       "      <td>17</td>\n",
       "      <td>31</td>\n",
       "      <td>174229.0</td>\n",
       "      <td>...</td>\n",
       "      <td>299175.0</td>\n",
       "      <td>301732.0</td>\n",
       "      <td>303877.0</td>\n",
       "      <td>307321.0</td>\n",
       "      <td>310111.0</td>\n",
       "      <td>312096.0</td>\n",
       "      <td>312582.0</td>\n",
       "      <td>313144.0</td>\n",
       "      <td>313615.0</td>\n",
       "      <td>314365.0</td>\n",
       "    </tr>\n",
       "  </tbody>\n",
       "</table>\n",
       "<p>2 rows × 284 columns</p>\n",
       "</div>"
      ],
      "text/plain": [
       "   RegionID  SizeRank          RegionName RegionType StateName State  \\\n",
       "0      3101         0  Los Angeles County     county        CA    CA   \n",
       "1       139         1         Cook County     county        IL    IL   \n",
       "\n",
       "                                Metro  StateCodeFIPS  MunicipalCodeFIPS  \\\n",
       "0  Los Angeles-Long Beach-Anaheim, CA              6                 37   \n",
       "1  Chicago-Naperville-Elgin, IL-IN-WI             17                 31   \n",
       "\n",
       "   2000-01-31  ...  2022-02-28  2022-03-31  2022-04-30  2022-05-31  \\\n",
       "0    216545.0  ...    832178.0    846832.0    864584.0    879885.0   \n",
       "1    174229.0  ...    299175.0    301732.0    303877.0    307321.0   \n",
       "\n",
       "   2022-06-30  2022-07-31  2022-08-31  2022-09-30  2022-10-31  2022-11-30  \n",
       "0    881568.0    881064.0    867874.0    857204.0    845637.0    843637.0  \n",
       "1    310111.0    312096.0    312582.0    313144.0    313615.0    314365.0  \n",
       "\n",
       "[2 rows x 284 columns]"
      ]
     },
     "execution_count": 4,
     "metadata": {},
     "output_type": "execute_result"
    }
   ],
   "source": [
    "zillow.head(2)"
   ]
  },
  {
   "cell_type": "markdown",
   "metadata": {
    "cell_id": "dc19a787bb264040ad4084e8df664b38",
    "deepnote_cell_type": "markdown",
    "tags": []
   },
   "source": [
    "##### Transforming the Data"
   ]
  },
  {
   "cell_type": "markdown",
   "metadata": {
    "cell_id": "9a0b9faaf4c94865bdca41c946bc2781",
    "deepnote_cell_type": "markdown",
    "tags": []
   },
   "source": [
    "As you can see, our data is constructed in a wide-format, with each month-year combination being its own column, not very informative for our purposes. This makes it hard to group and aggregate and ultimately merge our data on State, County, and Year so we'll have to melt our data from wide to long. \n",
    "\n",
    "In addition, part of our analysis and visualizations require the use of FIPS codes to identify different counties. Because some FIPS codes have pre-pended 0's, here we pad the State FIPS and Municipal FIPS with 0's as CSV files tend to truncate them upon reading. Let's also drop non-informative columns such as *SizeRank, RegionType, and RegionID* and only work with years 2016 and beyond. "
   ]
  },
  {
   "cell_type": "code",
   "execution_count": 5,
   "metadata": {
    "cell_id": "f144655995ce444ca59d00566ed05423",
    "deepnote_cell_type": "code",
    "deepnote_to_be_reexecuted": false,
    "execution_millis": 98,
    "execution_start": 1676947753507,
    "source_hash": "ca6551e",
    "tags": []
   },
   "outputs": [],
   "source": [
    "# rename 'RegionName' column to 'County' for merging purposes \n",
    "zillow = zillow.rename(columns={'RegionName': 'County'})\n",
    "\n",
    "# limit years to 2016 onwards to focus on 2017-2022 timeframe\n",
    "years = \\\n",
    "[str(year) for year in range(2000, 2016)]\n",
    "\n",
    "cols_to_drop = \\\n",
    "[col for col in zillow.columns for year in years if year in col]\n",
    "\n",
    "\n",
    "# do not drop existing zillow fips columns, \n",
    "# but make a combine/padded column with state fips and municipal fips, \n",
    "# add municipal fips to state fips\n",
    "# add zfill to the str to help create FIPS codes\n",
    "\n",
    "zillow['Fips'] = \\\n",
    "zillow['StateCodeFIPS'].astype('str').str.zfill(2) + zillow['MunicipalCodeFIPS'].astype('str').str.zfill(3)\n",
    "\n",
    "# drop non-informative columns not used for analysis\n",
    "cols_to_drop\\\n",
    ".extend(['SizeRank', 'RegionType', 'StateName', 'RegionID', 'Metro'])\n",
    "zillow = zillow.drop(columns=cols_to_drop)\n",
    "\n",
    "# convert zillow df from wide to long for easy merging & comparison of feature columns\n",
    "zillow = \\\n",
    "zillow.melt(id_vars=['County', 'State', 'StateCodeFIPS', 'MunicipalCodeFIPS', 'Fips'], var_name='Year', \\\n",
    "value_name='Home Value')\n",
    "\n",
    "zillow['Year'] = zillow['Year'].apply(lambda x: x[:4])\n",
    "zillow.Year = zillow.Year.astype('int')"
   ]
  },
  {
   "cell_type": "markdown",
   "metadata": {
    "cell_id": "c3f2258d98d84a11aa5f85d2c07ba2d0",
    "deepnote_cell_type": "markdown",
    "deepnote_to_be_reexecuted": false,
    "execution_millis": 137,
    "execution_start": 1676743299583,
    "source_hash": "20bc4f34",
    "tags": []
   },
   "source": [
    "##### Split-Apply-Combine"
   ]
  },
  {
   "cell_type": "markdown",
   "metadata": {
    "cell_id": "af6e66969b2446d499b13a0f27979f11",
    "deepnote_cell_type": "markdown",
    "tags": []
   },
   "source": [
    "Our data came in month-year combinations, e.g. 11/2021, but we only want one datapoint (median home value) per year since we are looking at yearly variations to housing affordability around the pandemic years, so let's group our Zillow columns and take the Median Home Value. Finally we convert the grouped series to a dataframe. "
   ]
  },
  {
   "cell_type": "code",
   "execution_count": 6,
   "metadata": {
    "cell_id": "e8521dbacdc546cca7d2008e3e8e7c9a",
    "deepnote_cell_type": "code",
    "deepnote_table_loading": false,
    "deepnote_table_state": {
     "filters": [],
     "pageIndex": 9,
     "pageSize": 10,
     "sortBy": []
    },
    "deepnote_to_be_reexecuted": false,
    "execution_millis": 83,
    "execution_start": 1676947753623,
    "source_hash": "a8304968",
    "tags": []
   },
   "outputs": [],
   "source": [
    "# group zillow df by all columns except for Home Value in order \n",
    "# to take median home value by county/state/year/fips codes\n",
    "# and convert to new dataframe\n",
    "\n",
    "zillow = \\\n",
    "zillow.groupby(['County', 'State', 'Year', 'StateCodeFIPS', \\\n",
    "'MunicipalCodeFIPS', 'Fips'])\\\n",
    "['Home Value'].median().to_frame('Median Home Value')\n",
    "\n",
    "# reset index to re-align columns\n",
    "zillow = zillow.reset_index()"
   ]
  },
  {
   "cell_type": "markdown",
   "metadata": {
    "cell_id": "972fe23569b540caa72340aa88036cc0",
    "deepnote_cell_type": "markdown",
    "tags": []
   },
   "source": [
    "Inspecting the head again, now we see each County, State, and Year combination has a unique Median Home Value associated with it."
   ]
  },
  {
   "cell_type": "code",
   "execution_count": 7,
   "metadata": {
    "cell_id": "36714df024144b72b3f0fafd367df2aa",
    "deepnote_cell_type": "code",
    "deepnote_to_be_reexecuted": false,
    "execution_millis": 23,
    "execution_start": 1676947753710,
    "source_hash": "99cfc4fc",
    "tags": []
   },
   "outputs": [
    {
     "data": {
      "text/html": [
       "<div>\n",
       "<style scoped>\n",
       "    .dataframe tbody tr th:only-of-type {\n",
       "        vertical-align: middle;\n",
       "    }\n",
       "\n",
       "    .dataframe tbody tr th {\n",
       "        vertical-align: top;\n",
       "    }\n",
       "\n",
       "    .dataframe thead th {\n",
       "        text-align: right;\n",
       "    }\n",
       "</style>\n",
       "<table border=\"1\" class=\"dataframe\">\n",
       "  <thead>\n",
       "    <tr style=\"text-align: right;\">\n",
       "      <th></th>\n",
       "      <th>County</th>\n",
       "      <th>State</th>\n",
       "      <th>Year</th>\n",
       "      <th>StateCodeFIPS</th>\n",
       "      <th>MunicipalCodeFIPS</th>\n",
       "      <th>Fips</th>\n",
       "      <th>Median Home Value</th>\n",
       "    </tr>\n",
       "  </thead>\n",
       "  <tbody>\n",
       "    <tr>\n",
       "      <th>0</th>\n",
       "      <td>Abbeville County</td>\n",
       "      <td>SC</td>\n",
       "      <td>2016</td>\n",
       "      <td>45</td>\n",
       "      <td>1</td>\n",
       "      <td>45001</td>\n",
       "      <td>99338.5</td>\n",
       "    </tr>\n",
       "    <tr>\n",
       "      <th>1</th>\n",
       "      <td>Abbeville County</td>\n",
       "      <td>SC</td>\n",
       "      <td>2017</td>\n",
       "      <td>45</td>\n",
       "      <td>1</td>\n",
       "      <td>45001</td>\n",
       "      <td>102073.5</td>\n",
       "    </tr>\n",
       "    <tr>\n",
       "      <th>2</th>\n",
       "      <td>Abbeville County</td>\n",
       "      <td>SC</td>\n",
       "      <td>2018</td>\n",
       "      <td>45</td>\n",
       "      <td>1</td>\n",
       "      <td>45001</td>\n",
       "      <td>114003.0</td>\n",
       "    </tr>\n",
       "    <tr>\n",
       "      <th>3</th>\n",
       "      <td>Abbeville County</td>\n",
       "      <td>SC</td>\n",
       "      <td>2019</td>\n",
       "      <td>45</td>\n",
       "      <td>1</td>\n",
       "      <td>45001</td>\n",
       "      <td>120961.5</td>\n",
       "    </tr>\n",
       "    <tr>\n",
       "      <th>4</th>\n",
       "      <td>Abbeville County</td>\n",
       "      <td>SC</td>\n",
       "      <td>2020</td>\n",
       "      <td>45</td>\n",
       "      <td>1</td>\n",
       "      <td>45001</td>\n",
       "      <td>126615.0</td>\n",
       "    </tr>\n",
       "    <tr>\n",
       "      <th>5</th>\n",
       "      <td>Abbeville County</td>\n",
       "      <td>SC</td>\n",
       "      <td>2021</td>\n",
       "      <td>45</td>\n",
       "      <td>1</td>\n",
       "      <td>45001</td>\n",
       "      <td>143518.0</td>\n",
       "    </tr>\n",
       "    <tr>\n",
       "      <th>6</th>\n",
       "      <td>Abbeville County</td>\n",
       "      <td>SC</td>\n",
       "      <td>2022</td>\n",
       "      <td>45</td>\n",
       "      <td>1</td>\n",
       "      <td>45001</td>\n",
       "      <td>165914.0</td>\n",
       "    </tr>\n",
       "  </tbody>\n",
       "</table>\n",
       "</div>"
      ],
      "text/plain": [
       "             County State  Year  StateCodeFIPS  MunicipalCodeFIPS   Fips  \\\n",
       "0  Abbeville County    SC  2016             45                  1  45001   \n",
       "1  Abbeville County    SC  2017             45                  1  45001   \n",
       "2  Abbeville County    SC  2018             45                  1  45001   \n",
       "3  Abbeville County    SC  2019             45                  1  45001   \n",
       "4  Abbeville County    SC  2020             45                  1  45001   \n",
       "5  Abbeville County    SC  2021             45                  1  45001   \n",
       "6  Abbeville County    SC  2022             45                  1  45001   \n",
       "\n",
       "   Median Home Value  \n",
       "0            99338.5  \n",
       "1           102073.5  \n",
       "2           114003.0  \n",
       "3           120961.5  \n",
       "4           126615.0  \n",
       "5           143518.0  \n",
       "6           165914.0  "
      ]
     },
     "execution_count": 7,
     "metadata": {},
     "output_type": "execute_result"
    }
   ],
   "source": [
    "zillow.head(7)"
   ]
  },
  {
   "cell_type": "markdown",
   "metadata": {
    "cell_id": "01032ef664d341648f15eff82ff0def9",
    "deepnote_cell_type": "markdown",
    "tags": []
   },
   "source": [
    "##### String Manipulation"
   ]
  },
  {
   "cell_type": "markdown",
   "metadata": {
    "cell_id": "c4845ca8c17e48a79dd88d0fde966474",
    "deepnote_cell_type": "markdown",
    "tags": []
   },
   "source": [
    "Because the other main datasets, Equifax and ACS, contain full state names, let's replace the abbreviated state names with the full ones for Zillow (to ease with merging on State) along with other string manipulations to strip white space and fix county names. "
   ]
  },
  {
   "cell_type": "code",
   "execution_count": 8,
   "metadata": {
    "cell_id": "ee9690e3cb974690a49254d72d8c96b5",
    "deepnote_cell_type": "code",
    "deepnote_to_be_reexecuted": false,
    "execution_millis": 155,
    "execution_start": 1676947753744,
    "source_hash": "ce018050",
    "tags": []
   },
   "outputs": [],
   "source": [
    "# use state_names df to replace abbreviated zillow state names to full state names\n",
    "state_names['state'] = state_names['state'].str.strip()\n",
    "state_names['code'] = state_names['code'].str.strip()\n",
    "\n",
    "zillow['State'] = \\\n",
    "zillow['State'].replace(list(state_names['code']), \\\n",
    "list(state_names['state']))\n",
    "\n",
    "zillow['State'] = zillow['State'].str.strip()\n",
    "\n",
    "# Apply string manipulations to fix county names and get rid of the word 'County'.\n",
    "# Louisiana and Alaska don't use 'County' to delineate municipalities but rather\n",
    "# 'Parish' and 'Borough' respectively. So let's get rid of 'Parish' and 'Borough'. \n",
    "zillow['County'] = \\\n",
    "zillow['County'].str.replace(\"County\", \"\", regex=False)\n",
    "\n",
    "zillow['County'] = \\\n",
    "zillow['County'].mask(zillow['State'] == 'Alaska', \\\n",
    "zillow['County'].str.replace('Borough', ''))\n",
    "\n",
    "zillow['County'] = \\\n",
    "zillow['County'].mask(zillow['State'] == 'Louisiana', \\\n",
    "zillow['County'].str.replace('Parish', ''))\n",
    "\n",
    "zillow['County'] = zillow['County'].str.strip()\n",
    "\n",
    "# Further inspection of county names resulted in misspelled/inconsistent County names.\n",
    "# Let's fix that here.\n",
    "zillow.County = zillow.County.str.replace(\"De Kalb\", \"DeKalb\")\n",
    "zillow.County = zillow.County.str.replace(\"Dekalb\", \"DeKalb\")\n",
    "zillow.County = zillow.County.str.replace(\"La Salle\", \"LaSalle\")\n",
    "zillow.County = zillow.County.str.replace(\"Dewitt\", \"DeWitt\")\n",
    "zillow.County = zillow.County.str.replace(\"De Soto\", \"DeSoto\")\n",
    "zillow.County = zillow.County.str.replace(\"O Brien\", \"O'Brien\")"
   ]
  },
  {
   "cell_type": "markdown",
   "metadata": {
    "cell_id": "22d118d05bb04246870902979e879a0d",
    "deepnote_cell_type": "markdown",
    "tags": []
   },
   "source": [
    "Now, let's check for any nan values and any major outliers in the data."
   ]
  },
  {
   "cell_type": "code",
   "execution_count": 9,
   "metadata": {
    "cell_id": "9d7ebe2c15314165b1eadd4084ee46ad",
    "deepnote_cell_type": "code",
    "deepnote_to_be_reexecuted": false,
    "execution_millis": 10,
    "execution_start": 1676947753905,
    "source_hash": "54f42d6c",
    "tags": []
   },
   "outputs": [
    {
     "data": {
      "text/plain": [
       "Year\n",
       "2016    0.096413\n",
       "2017    0.077302\n",
       "2018    0.057270\n",
       "2019    0.034947\n",
       "2020    0.018631\n",
       "2021    0.010306\n",
       "2022    0.000000\n",
       "Name: Median Home Value, dtype: float64"
      ]
     },
     "execution_count": 9,
     "metadata": {},
     "output_type": "execute_result"
    }
   ],
   "source": [
    "# nan ratio is rather small, so dropping is fine here\n",
    "zillow.groupby(['Year'])['Median Home Value'].apply(lambda x: x.isna().sum() / x.count())"
   ]
  },
  {
   "cell_type": "code",
   "execution_count": 10,
   "metadata": {
    "cell_id": "faf8d503f6ce45a5a9fc51f66472b51d",
    "deepnote_cell_type": "code",
    "deepnote_to_be_reexecuted": false,
    "execution_millis": 18,
    "execution_start": 1676947753918,
    "source_hash": "3a010d5e",
    "tags": []
   },
   "outputs": [],
   "source": [
    "zillow = zillow.dropna()\n",
    "zillow.loc[:, 'Median Home Value'] = zillow['Median Home Value'].apply(lambda x: round(x, 2))"
   ]
  },
  {
   "cell_type": "code",
   "execution_count": 11,
   "metadata": {
    "cell_id": "799ebfab1b3845e19bfde6ee478af615",
    "deepnote_cell_type": "code",
    "deepnote_to_be_reexecuted": false,
    "execution_millis": 31,
    "execution_start": 1676947753941,
    "source_hash": "e9a205c2",
    "tags": []
   },
   "outputs": [
    {
     "data": {
      "text/plain": [
       "count    1.911600e+04\n",
       "mean     1.892444e+05\n",
       "std      1.321232e+05\n",
       "min      3.137600e+04\n",
       "25%      1.125035e+05\n",
       "50%      1.543960e+05\n",
       "75%      2.236511e+05\n",
       "max      2.317702e+06\n",
       "Name: Median Home Value, dtype: float64"
      ]
     },
     "execution_count": 11,
     "metadata": {},
     "output_type": "execute_result"
    }
   ],
   "source": [
    "zillow['Median Home Value'].describe()"
   ]
  },
  {
   "cell_type": "code",
   "execution_count": 12,
   "metadata": {
    "cell_id": "70b8ff9b710841f19325b5a8b80cdb5b",
    "deepnote_cell_type": "code",
    "deepnote_to_be_reexecuted": false,
    "execution_millis": 15,
    "execution_start": 1676947753973,
    "source_hash": "4df05595",
    "tags": []
   },
   "outputs": [],
   "source": [
    "# write file to parquet to maintain the dtypes and for faster read/write\n",
    "zillow.to_parquet('data/zillow.parquet')"
   ]
  },
  {
   "cell_type": "markdown",
   "metadata": {
    "cell_id": "74389adddcdf4a95b6836f221e46de8a",
    "deepnote_cell_type": "markdown",
    "deepnote_to_be_reexecuted": false,
    "execution_millis": 0,
    "execution_start": 1676920505867,
    "source_hash": "a573596f",
    "tags": []
   },
   "source": [
    "#### Equifax"
   ]
  },
  {
   "cell_type": "markdown",
   "metadata": {
    "cell_id": "bda69fc22a364d9eba66d69adb1b63e6",
    "deepnote_cell_type": "markdown",
    "deepnote_to_be_reexecuted": false,
    "execution_millis": 0,
    "execution_start": 1676679412671,
    "source_hash": "b623e53d",
    "tags": []
   },
   "source": [
    "Now, onto the Equifax data. The Equifax dataset used provides county level shelter and utilities data for the year 2022 and their respective projections for the year 2027. Utilities such as gas and electricity are provided, but for the purposes of our analysis, we will take the sum of all utilities on a county/state/year level. Total utilties form another component of our main Affordability Index metric used to measure housing affordability. "
   ]
  },
  {
   "cell_type": "markdown",
   "metadata": {
    "cell_id": "cf3da95d272e4f17bbc13518a5017076",
    "deepnote_cell_type": "markdown",
    "deepnote_to_be_reexecuted": false,
    "execution_millis": 0,
    "execution_start": 1676921216881,
    "source_hash": "c5f121bc",
    "tags": []
   },
   "source": [
    "##### Read files"
   ]
  },
  {
   "cell_type": "markdown",
   "metadata": {
    "cell_id": "ef865aafa0bd4935bbabc6990585ce77",
    "deepnote_cell_type": "markdown",
    "tags": []
   },
   "source": [
    "Here we're reading the Zillow data as well since we're using the Zillow counties as the base counties for our analysis, since Zillow contains the home values."
   ]
  },
  {
   "cell_type": "code",
   "execution_count": 13,
   "metadata": {
    "cell_id": "942445dee33a40c096f301ba46fff051",
    "deepnote_cell_type": "code",
    "deepnote_to_be_reexecuted": false,
    "execution_millis": 46,
    "execution_start": 1676947753991,
    "source_hash": "1571c1f1",
    "tags": []
   },
   "outputs": [],
   "source": [
    "zillow = pd.read_parquet('data/zillow.parquet')\n",
    "equifax = \\\n",
    "pd.read_csv('data/Equifax_Consumer_Expenditure_Shelter_Utilities_Detail_Comparisons.csv')"
   ]
  },
  {
   "cell_type": "markdown",
   "metadata": {
    "cell_id": "5e88cd437b344a64bef8ee02ad250472",
    "deepnote_cell_type": "markdown",
    "tags": []
   },
   "source": [
    "Again, let's inspect the head to see how the data is constructed. "
   ]
  },
  {
   "cell_type": "code",
   "execution_count": 14,
   "metadata": {
    "cell_id": "3f90159f320248c4aa8af43044c8abcd",
    "deepnote_cell_type": "code",
    "deepnote_to_be_reexecuted": false,
    "execution_millis": 30,
    "execution_start": 1676947754085,
    "source_hash": "4ac2258e",
    "tags": []
   },
   "outputs": [
    {
     "data": {
      "text/html": [
       "<div>\n",
       "<style scoped>\n",
       "    .dataframe tbody tr th:only-of-type {\n",
       "        vertical-align: middle;\n",
       "    }\n",
       "\n",
       "    .dataframe tbody tr th {\n",
       "        vertical-align: top;\n",
       "    }\n",
       "\n",
       "    .dataframe thead th {\n",
       "        text-align: right;\n",
       "    }\n",
       "</style>\n",
       "<table border=\"1\" class=\"dataframe\">\n",
       "  <thead>\n",
       "    <tr style=\"text-align: right;\">\n",
       "      <th></th>\n",
       "      <th>State</th>\n",
       "      <th>County</th>\n",
       "      <th>Year</th>\n",
       "      <th>Total Households</th>\n",
       "      <th>Average Household Income</th>\n",
       "      <th>Median Household Income</th>\n",
       "      <th>Total Shelter</th>\n",
       "      <th>Mortgage Interest</th>\n",
       "      <th>Mortgage Interest</th>\n",
       "      <th>Mortgage Interest.1</th>\n",
       "      <th>...</th>\n",
       "      <th>Property Management Fees</th>\n",
       "      <th>Housing For Someone At School</th>\n",
       "      <th>Lodging Away From Home</th>\n",
       "      <th>Electricity</th>\n",
       "      <th>Fuel Oil</th>\n",
       "      <th>Natural Gas</th>\n",
       "      <th>Septic Tank Cleaning</th>\n",
       "      <th>Trash And Garbage Collection</th>\n",
       "      <th>Water And Sewage</th>\n",
       "      <th>Cellular Phone Service</th>\n",
       "    </tr>\n",
       "  </thead>\n",
       "  <tbody>\n",
       "    <tr>\n",
       "      <th>0</th>\n",
       "      <td>Alabama</td>\n",
       "      <td>Autauga</td>\n",
       "      <td>2022</td>\n",
       "      <td>21,948</td>\n",
       "      <td>$76,021</td>\n",
       "      <td>$60,199</td>\n",
       "      <td>$9,749.22</td>\n",
       "      <td>$2,501.76</td>\n",
       "      <td>$2,435.16</td>\n",
       "      <td>$66.60</td>\n",
       "      <td>...</td>\n",
       "      <td>$99.91</td>\n",
       "      <td>$48.40</td>\n",
       "      <td>$169.74</td>\n",
       "      <td>$1,799.45</td>\n",
       "      <td>$31.12</td>\n",
       "      <td>$254.27</td>\n",
       "      <td>$6.61</td>\n",
       "      <td>$199.30</td>\n",
       "      <td>$531.61</td>\n",
       "      <td>$1,310.46</td>\n",
       "    </tr>\n",
       "    <tr>\n",
       "      <th>1</th>\n",
       "      <td>Alabama</td>\n",
       "      <td>Baldwin</td>\n",
       "      <td>2022</td>\n",
       "      <td>94,231</td>\n",
       "      <td>$84,952</td>\n",
       "      <td>$58,644</td>\n",
       "      <td>$10,313.66</td>\n",
       "      <td>$2,554.75</td>\n",
       "      <td>$2,479.48</td>\n",
       "      <td>$75.27</td>\n",
       "      <td>...</td>\n",
       "      <td>$117.66</td>\n",
       "      <td>$51.77</td>\n",
       "      <td>$188.50</td>\n",
       "      <td>$1,850.59</td>\n",
       "      <td>$32.77</td>\n",
       "      <td>$257.41</td>\n",
       "      <td>$7.21</td>\n",
       "      <td>$203.25</td>\n",
       "      <td>$538.04</td>\n",
       "      <td>$1,312.10</td>\n",
       "    </tr>\n",
       "    <tr>\n",
       "      <th>2</th>\n",
       "      <td>Alabama</td>\n",
       "      <td>Barbour</td>\n",
       "      <td>2022</td>\n",
       "      <td>9,485</td>\n",
       "      <td>$53,115</td>\n",
       "      <td>$38,535</td>\n",
       "      <td>$7,660.23</td>\n",
       "      <td>$1,782.69</td>\n",
       "      <td>$1,737.90</td>\n",
       "      <td>$44.79</td>\n",
       "      <td>...</td>\n",
       "      <td>$77.36</td>\n",
       "      <td>$28.61</td>\n",
       "      <td>$123.81</td>\n",
       "      <td>$1,560.99</td>\n",
       "      <td>$24.14</td>\n",
       "      <td>$212.78</td>\n",
       "      <td>$5.98</td>\n",
       "      <td>$178.79</td>\n",
       "      <td>$451.92</td>\n",
       "      <td>$1,099.28</td>\n",
       "    </tr>\n",
       "    <tr>\n",
       "      <th>3</th>\n",
       "      <td>Alabama</td>\n",
       "      <td>Bibb</td>\n",
       "      <td>2022</td>\n",
       "      <td>7,878</td>\n",
       "      <td>$60,331</td>\n",
       "      <td>$50,337</td>\n",
       "      <td>$9,163.69</td>\n",
       "      <td>$2,265.62</td>\n",
       "      <td>$2,204.02</td>\n",
       "      <td>$61.60</td>\n",
       "      <td>...</td>\n",
       "      <td>$94.39</td>\n",
       "      <td>$43.88</td>\n",
       "      <td>$155.50</td>\n",
       "      <td>$1,751.56</td>\n",
       "      <td>$29.78</td>\n",
       "      <td>$240.92</td>\n",
       "      <td>$6.50</td>\n",
       "      <td>$195.68</td>\n",
       "      <td>$510.20</td>\n",
       "      <td>$1,249.50</td>\n",
       "    </tr>\n",
       "    <tr>\n",
       "      <th>4</th>\n",
       "      <td>Alabama</td>\n",
       "      <td>Blount</td>\n",
       "      <td>2022</td>\n",
       "      <td>22,261</td>\n",
       "      <td>$69,606</td>\n",
       "      <td>$55,747</td>\n",
       "      <td>$9,517.74</td>\n",
       "      <td>$2,397.33</td>\n",
       "      <td>$2,332.70</td>\n",
       "      <td>$64.63</td>\n",
       "      <td>...</td>\n",
       "      <td>$100.30</td>\n",
       "      <td>$46.65</td>\n",
       "      <td>$165.43</td>\n",
       "      <td>$1,787.76</td>\n",
       "      <td>$31.18</td>\n",
       "      <td>$249.19</td>\n",
       "      <td>$6.75</td>\n",
       "      <td>$198.24</td>\n",
       "      <td>$526.79</td>\n",
       "      <td>$1,286.02</td>\n",
       "    </tr>\n",
       "  </tbody>\n",
       "</table>\n",
       "<p>5 rows × 24 columns</p>\n",
       "</div>"
      ],
      "text/plain": [
       "     State   County  Year Total Households  Average Household Income  \\\n",
       "0  Alabama  Autauga  2022            21,948                  $76,021   \n",
       "1  Alabama  Baldwin  2022            94,231                  $84,952   \n",
       "2  Alabama  Barbour  2022             9,485                  $53,115   \n",
       "3  Alabama     Bibb  2022             7,878                  $60,331   \n",
       "4  Alabama   Blount  2022            22,261                  $69,606   \n",
       "\n",
       "  Median Household Income Total Shelter Mortgage Interest  \\\n",
       "0                 $60,199     $9,749.22         $2,501.76   \n",
       "1                 $58,644    $10,313.66         $2,554.75   \n",
       "2                 $38,535     $7,660.23         $1,782.69   \n",
       "3                 $50,337     $9,163.69         $2,265.62   \n",
       "4                 $55,747     $9,517.74         $2,397.33   \n",
       "\n",
       "     Mortgage Interest    Mortgage Interest.1  ... Property Management Fees  \\\n",
       "0            $2,435.16                 $66.60  ...                   $99.91   \n",
       "1            $2,479.48                 $75.27  ...                  $117.66   \n",
       "2            $1,737.90                 $44.79  ...                   $77.36   \n",
       "3            $2,204.02                 $61.60  ...                   $94.39   \n",
       "4            $2,332.70                 $64.63  ...                  $100.30   \n",
       "\n",
       "  Housing For Someone At School Lodging Away From Home Electricity Fuel Oil   \\\n",
       "0                        $48.40                $169.74   $1,799.45    $31.12   \n",
       "1                        $51.77                $188.50   $1,850.59    $32.77   \n",
       "2                        $28.61                $123.81   $1,560.99    $24.14   \n",
       "3                        $43.88                $155.50   $1,751.56    $29.78   \n",
       "4                        $46.65                $165.43   $1,787.76    $31.18   \n",
       "\n",
       "  Natural Gas Septic Tank Cleaning Trash And Garbage Collection  \\\n",
       "0     $254.27                $6.61                      $199.30   \n",
       "1     $257.41                $7.21                      $203.25   \n",
       "2     $212.78                $5.98                      $178.79   \n",
       "3     $240.92                $6.50                      $195.68   \n",
       "4     $249.19                $6.75                      $198.24   \n",
       "\n",
       "  Water And Sewage Cellular Phone Service  \n",
       "0          $531.61              $1,310.46  \n",
       "1          $538.04              $1,312.10  \n",
       "2          $451.92              $1,099.28  \n",
       "3          $510.20              $1,249.50  \n",
       "4          $526.79              $1,286.02  \n",
       "\n",
       "[5 rows x 24 columns]"
      ]
     },
     "execution_count": 14,
     "metadata": {},
     "output_type": "execute_result"
    }
   ],
   "source": [
    "equifax.head()"
   ]
  },
  {
   "cell_type": "markdown",
   "metadata": {
    "cell_id": "674a818aa9a446088cb32c9c72104606",
    "deepnote_cell_type": "markdown",
    "tags": []
   },
   "source": [
    "##### Transforming the Data"
   ]
  },
  {
   "cell_type": "markdown",
   "metadata": {
    "cell_id": "323e34ac5a8b451f98196a2b74e7e743",
    "deepnote_cell_type": "markdown",
    "tags": []
   },
   "source": [
    "The Equifax data came in fairly ordered, so all that's needed are string manipulations to fix county names, summing each individual utility cost to form a \"Total Utility Costs\" metric and dropping uninformative columns, e.g. *Mortgage Interest*, for the purposes of our analysis. We say \"uninformative\" in this case, because while *Mortgage Interest* is part of overall shelter costs, we believe this metric is more subject to vary due to actions taken by the Fed and/or the US government rather than pure market forces. Mortgage rates around the pandemic timeframe (2020-2022) didn't change all that much so we assume that leaving them out of the affordability index doesn't change the overall results. We understand that this is a potential limitation and assumption in our analysis, and we highlight that in our report as a proposed future consideration/next steps. "
   ]
  },
  {
   "cell_type": "code",
   "execution_count": 15,
   "metadata": {
    "cell_id": "536c3d87d583429ea13c472cf5043c9e",
    "deepnote_cell_type": "code",
    "deepnote_to_be_reexecuted": false,
    "execution_millis": 118,
    "execution_start": 1676947754121,
    "source_hash": "1d76c678",
    "tags": []
   },
   "outputs": [],
   "source": [
    "# list unique zillow counties to filter Equifax data on\n",
    "counties_to_include = list(zillow['County'].unique())\n",
    "# drop extra mortgage interest & property tax cols as well as avg household income\n",
    "equifax = equifax.drop(equifax.columns[[4, 8, 9, 11, 12]], axis=1)\n",
    "\n",
    "# fix spelling State names\n",
    "equifax.State.replace(\"Conneticut\",\"Connecticut\", inplace=True)\n",
    "equifax.State.replace(\"Deleware\",\"Delaware\", inplace=True)\n",
    "\n",
    "equifax.loc[(equifax.State == 'Louisiana') & (equifax.County == 'La Salle'), 'County'] = \"LaSalle\"\n",
    "equifax.County = equifax.County.str.replace(\"De Witt\", \"DeWitt\")\n",
    "equifax.County = equifax.County.str.replace(\"De Soto\", \"DeSoto\")\n",
    "\n",
    "# manipulate string columns in order to add all utilities to create total utility costs\n",
    "equifax['Median Household Income'] = \\\n",
    "equifax['Median Household Income'].str.replace(\"$\", \"\", regex=False).str.replace(\",\", \"\", regex=False).astype(\"float\")\n",
    "\n",
    "equifax['Total Households '] = \\\n",
    "equifax['Total Households '].str.replace(\"$\", \"\", regex=False).str.replace(\",\", \"\", regex=False).astype(\"float\")\n",
    "\n",
    "equifax['Total Shelter'] = \\\n",
    "equifax['Total Shelter'].str.replace(\"$\", \"\", regex=False).str.replace(\",\", \"\", regex=False).astype(\"float\")\n",
    "\n",
    "equifax.iloc[:, 6:] = \\\n",
    "equifax.iloc[:, 6:].applymap(lambda x: x.replace(\"$\", \"\").replace(\",\", \"\")).astype('float')\n",
    "\n",
    "# sum all utility costs to form a Total Utility Costs field\n",
    "equifax['Total Utility Costs'] = equifax.iloc[:, 6:].sum(axis=1)\n",
    "equifax = equifax.drop(columns=['Total Shelter'])\n",
    "equifax['Total Utility Costs'] = equifax['Total Utility Costs'].apply(lambda x: round(x, 2))\n",
    "\n",
    "# rows 552 & 2410 contain nan values for the year 2022, so let's drop them\n",
    "equifax = equifax.drop([552, 2410])\n",
    "\n",
    "# fix county and state strings\n",
    "equifax['County'] = equifax['County'].str.strip()\n",
    "equifax['State'] = equifax['State'].str.strip()\n",
    "\n",
    "# remove the word 'County', 'Parish', 'Borough' from the end of County field name\n",
    "equifax['County'] = equifax['County'].apply(lambda x: x.replace(\"County\", \"\")).str.strip()\n",
    "equifax['County'] = equifax['County'].apply(lambda x: x.replace(\"Parish\", \"\")).str.strip()\n",
    "equifax['County'] = equifax['County'].apply(lambda x: x.replace(\"Borough\", \"\")).str.strip()\n",
    "\n",
    "# filter equifax data to only include counties housed in the zillow dataset\n",
    "equifax = equifax[equifax['County'].isin(counties_to_include)]\n"
   ]
  },
  {
   "cell_type": "markdown",
   "metadata": {
    "cell_id": "ff22f702f41c43c8b2989941533689b1",
    "deepnote_cell_type": "markdown",
    "tags": []
   },
   "source": [
    "Let's inspect our 2022 for any nan or outliers. Since 2027 data only provides projections of utilities costs and not data on household income, we have a high percentage of nans as shown below. But we'll leave those nans, since we will use our 2027 utilties data further down to backwards interpolate 2022-2017 utilities data."
   ]
  },
  {
   "cell_type": "code",
   "execution_count": 16,
   "metadata": {
    "cell_id": "f950ac92513b4bfb8a6f89a74a2b144d",
    "deepnote_cell_type": "code",
    "deepnote_to_be_reexecuted": false,
    "execution_millis": 24,
    "execution_start": 1676947754241,
    "source_hash": "3dfd019b",
    "tags": []
   },
   "outputs": [
    {
     "data": {
      "text/plain": [
       "'2022 nans'"
      ]
     },
     "metadata": {},
     "output_type": "display_data"
    },
    {
     "data": {
      "text/plain": [
       "State                            0.0\n",
       "County                           0.0\n",
       "Year                             0.0\n",
       "Total Households                 0.0\n",
       "Median Household Income          0.0\n",
       "Mortgage Interest                0.0\n",
       "Property Taxes                   0.0\n",
       "Rental Costs                     0.0\n",
       "Property Management Fees         0.0\n",
       "Housing For Someone At School    0.0\n",
       "Lodging Away From Home           0.0\n",
       "Electricity                      0.0\n",
       "Fuel Oil                         0.0\n",
       "Natural Gas                      0.0\n",
       "Septic Tank Cleaning             0.0\n",
       "Trash And Garbage Collection     0.0\n",
       "Water And Sewage                 0.0\n",
       "Cellular Phone Service           0.0\n",
       "Total Utility Costs              0.0\n",
       "dtype: float64"
      ]
     },
     "metadata": {},
     "output_type": "display_data"
    },
    {
     "data": {
      "text/plain": [
       "'2027 nans'"
      ]
     },
     "metadata": {},
     "output_type": "display_data"
    },
    {
     "data": {
      "text/plain": [
       "State                            0.000000\n",
       "County                           0.000000\n",
       "Year                             0.000000\n",
       "Total Households                 0.499914\n",
       "Median Household Income          0.499914\n",
       "Mortgage Interest                0.000000\n",
       "Property Taxes                   0.000000\n",
       "Rental Costs                     0.000000\n",
       "Property Management Fees         0.000000\n",
       "Housing For Someone At School    0.000000\n",
       "Lodging Away From Home           0.000000\n",
       "Electricity                      0.000000\n",
       "Fuel Oil                         0.000000\n",
       "Natural Gas                      0.000000\n",
       "Septic Tank Cleaning             0.000000\n",
       "Trash And Garbage Collection     0.000000\n",
       "Water And Sewage                 0.000000\n",
       "Cellular Phone Service           0.000000\n",
       "Total Utility Costs              0.000000\n",
       "dtype: float64"
      ]
     },
     "metadata": {},
     "output_type": "display_data"
    }
   ],
   "source": [
    "# make sure 2022 data is clean. \n",
    "display('2022 nans')\n",
    "display(equifax.loc[equifax['Year'] == 2022].isna().sum() / equifax.shape[0])\n",
    "display('2027 nans')\n",
    "display(equifax.loc[equifax['Year'] == 2027].isna().sum() / equifax.shape[0])\n"
   ]
  },
  {
   "cell_type": "code",
   "execution_count": 17,
   "metadata": {
    "cell_id": "4858529e22724624bc5aa1126d4e9f75",
    "deepnote_cell_type": "code",
    "deepnote_to_be_reexecuted": false,
    "execution_millis": 28,
    "execution_start": 1676947754269,
    "source_hash": "b59f9ee9",
    "tags": []
   },
   "outputs": [
    {
     "data": {
      "text/html": [
       "<div>\n",
       "<style scoped>\n",
       "    .dataframe tbody tr th:only-of-type {\n",
       "        vertical-align: middle;\n",
       "    }\n",
       "\n",
       "    .dataframe tbody tr th {\n",
       "        vertical-align: top;\n",
       "    }\n",
       "\n",
       "    .dataframe thead th {\n",
       "        text-align: right;\n",
       "    }\n",
       "</style>\n",
       "<table border=\"1\" class=\"dataframe\">\n",
       "  <thead>\n",
       "    <tr style=\"text-align: right;\">\n",
       "      <th></th>\n",
       "      <th>Median Household Income</th>\n",
       "      <th>Total Utility Costs</th>\n",
       "    </tr>\n",
       "  </thead>\n",
       "  <tbody>\n",
       "    <tr>\n",
       "      <th>count</th>\n",
       "      <td>2917.000000</td>\n",
       "      <td>2917.000000</td>\n",
       "    </tr>\n",
       "    <tr>\n",
       "      <th>mean</th>\n",
       "      <td>57091.487144</td>\n",
       "      <td>9218.027384</td>\n",
       "    </tr>\n",
       "    <tr>\n",
       "      <th>std</th>\n",
       "      <td>14437.125627</td>\n",
       "      <td>1572.796275</td>\n",
       "    </tr>\n",
       "    <tr>\n",
       "      <th>min</th>\n",
       "      <td>25932.000000</td>\n",
       "      <td>5557.020000</td>\n",
       "    </tr>\n",
       "    <tr>\n",
       "      <th>25%</th>\n",
       "      <td>47317.000000</td>\n",
       "      <td>8061.370000</td>\n",
       "    </tr>\n",
       "    <tr>\n",
       "      <th>50%</th>\n",
       "      <td>54715.000000</td>\n",
       "      <td>9187.150000</td>\n",
       "    </tr>\n",
       "    <tr>\n",
       "      <th>75%</th>\n",
       "      <td>63450.000000</td>\n",
       "      <td>10022.990000</td>\n",
       "    </tr>\n",
       "    <tr>\n",
       "      <th>max</th>\n",
       "      <td>140868.000000</td>\n",
       "      <td>15600.980000</td>\n",
       "    </tr>\n",
       "  </tbody>\n",
       "</table>\n",
       "</div>"
      ],
      "text/plain": [
       "       Median Household Income  Total Utility Costs\n",
       "count              2917.000000          2917.000000\n",
       "mean              57091.487144          9218.027384\n",
       "std               14437.125627          1572.796275\n",
       "min               25932.000000          5557.020000\n",
       "25%               47317.000000          8061.370000\n",
       "50%               54715.000000          9187.150000\n",
       "75%               63450.000000         10022.990000\n",
       "max              140868.000000         15600.980000"
      ]
     },
     "execution_count": 17,
     "metadata": {},
     "output_type": "execute_result"
    }
   ],
   "source": [
    "equifax.loc[equifax['Year'] == 2022, ['Median Household Income', 'Total Utility Costs']].describe()"
   ]
  },
  {
   "cell_type": "code",
   "execution_count": 18,
   "metadata": {
    "cell_id": "bab955a0c4594e27b840290091cdfaad",
    "deepnote_cell_type": "code",
    "deepnote_to_be_reexecuted": false,
    "execution_millis": 22,
    "execution_start": 1676947754299,
    "source_hash": "59716118",
    "tags": []
   },
   "outputs": [],
   "source": [
    "# write out equifax data to parquet to maintain dtypes and for faster read/write\n",
    "equifax_filepath = 'data/equifax.parquet'\n",
    "equifax.to_parquet(equifax_filepath)"
   ]
  },
  {
   "cell_type": "markdown",
   "metadata": {
    "cell_id": "04950773e26746b5bd713e733093a836",
    "deepnote_cell_type": "markdown",
    "tags": []
   },
   "source": [
    "#### ACS"
   ]
  },
  {
   "cell_type": "markdown",
   "metadata": {
    "cell_id": "96eb27b689f04f178443404f8a24b323",
    "deepnote_cell_type": "markdown",
    "deepnote_to_be_reexecuted": false,
    "execution_millis": 2,
    "execution_start": 1676679417278,
    "source_hash": "b623e53d",
    "tags": []
   },
   "source": [
    "Finally, onto the ACS data. ACS (American Community Survey) provides census data such as household income by demographic and age on a county level. The income field used formed the last main part of our affordability index metric, the main metric measuring housing affordability in our analysis. "
   ]
  },
  {
   "cell_type": "markdown",
   "metadata": {
    "cell_id": "5a80fc893d324e34af114b9000f508bc",
    "deepnote_cell_type": "markdown",
    "tags": []
   },
   "source": [
    "##### Setup file list for concatentation and build helper functions to concat and clean data"
   ]
  },
  {
   "cell_type": "code",
   "execution_count": 19,
   "metadata": {
    "cell_id": "3e8e2febf5fc4755903559f50a39da63",
    "deepnote_cell_type": "code",
    "deepnote_to_be_reexecuted": false,
    "execution_millis": 2,
    "execution_start": 1676947754323,
    "source_hash": "16c0e7e8",
    "tags": []
   },
   "outputs": [],
   "source": [
    "year_files = \\\n",
    "['ACSST5Y2016.csv', 'ACSST5Y2017.csv', 'ACSST5Y2018.csv', 'ACSST5Y2019.csv', 'ACSST5Y2020.csv','ACSST5Y2021.csv']"
   ]
  },
  {
   "cell_type": "markdown",
   "metadata": {
    "cell_id": "9c9c9b8cee25486f921003cf5d7a31f0",
    "deepnote_cell_type": "markdown",
    "tags": []
   },
   "source": [
    "Let's build up our ACS data. We've constructed our file list above, which contains all the individual CSV files representing each year we're measuring. Below we'll create a helper function to concat all the ACS year files (each year from 2016 to 2021) into one dataset"
   ]
  },
  {
   "cell_type": "code",
   "execution_count": 20,
   "metadata": {
    "cell_id": "c465fb6bcc5440a09de4ed003f391f8d",
    "deepnote_cell_type": "code",
    "deepnote_to_be_reexecuted": false,
    "execution_millis": 4,
    "execution_start": 1676947754329,
    "source_hash": "a40f5d82",
    "tags": []
   },
   "outputs": [],
   "source": [
    "def append_acs_data(year_files):\n",
    "    '''\n",
    "        Loops through each CSV year file and reads it into a dataframe\n",
    "        Concatenates each dataframe into a final df\n",
    "\n",
    "        year_files: list containing each CSV year file\n",
    "        returns: final, concatenated dataframe\n",
    "    '''\n",
    "    \n",
    "    types = defaultdict(str, income='float')\n",
    "    # loop through each year in the year file list and read CSV into a df\n",
    "    for year in year_files:\n",
    "        if '2016' in year:\n",
    "            acs_5_year_2016 = pd.read_csv('data/' + year, dtype=types, keep_default_na=False)\n",
    "            acs_5_year_2016['Year'] = 2016\n",
    "        elif '2017' in year:\n",
    "            acs_5_year_2017 = pd.read_csv('data/' + year, dtype=types, keep_default_na=False)\n",
    "            acs_5_year_2017['Year'] = 2017\n",
    "        elif '2018' in year:\n",
    "            acs_5_year_2018 = pd.read_csv('data/' + year, dtype=types, keep_default_na=False)\n",
    "            acs_5_year_2018['Year'] = 2018\n",
    "        elif '2019' in year:\n",
    "            acs_5_year_2019 = pd.read_csv('data/' + year, dtype=types, keep_default_na=False)\n",
    "            acs_5_year_2019['Year'] = 2019\n",
    "        elif '2020' in year:\n",
    "            acs_5_year_2020 = pd.read_csv('data/' + year, dtype=types, keep_default_na=False)\n",
    "            acs_5_year_2020['Year'] = 2020\n",
    "        elif '2021' in year:\n",
    "            acs_5_year_2021 = pd.read_csv('data/' + year, dtype=types, keep_default_na=False)\n",
    "            acs_5_year_2021['Year'] = 2021\n",
    "        else:\n",
    "            return print(\"Something went wrong\")\n",
    "    # concat all year df's into one\n",
    "    final_df = pd.concat([acs_5_year_2016, acs_5_year_2017, acs_5_year_2018, acs_5_year_2019, acs_5_year_2020, acs_5_year_2021])     \n",
    "    # reset index so each index ranges from 0 to len of df\n",
    "    final_df = final_df.reset_index()\n",
    "    return final_df"
   ]
  },
  {
   "cell_type": "markdown",
   "metadata": {
    "cell_id": "71bc685d4b584943ab829662826ed2b7",
    "deepnote_cell_type": "markdown",
    "tags": []
   },
   "source": [
    "Now, let's create a function to clean the concatenated dataset by only keeping Median Income, State & County. We'll melt our data from wide to long as each column represented a different county (not helpful when trying to merge by State/County/Year) and clean our County and State strings."
   ]
  },
  {
   "cell_type": "code",
   "execution_count": 21,
   "metadata": {
    "cell_id": "36a327a31bfa4a05af414af243e7a40b",
    "deepnote_cell_type": "code",
    "deepnote_to_be_reexecuted": false,
    "execution_millis": 17,
    "execution_start": 1676947754341,
    "source_hash": "792ec6c3",
    "tags": []
   },
   "outputs": [],
   "source": [
    "def clean_acs_data(df):\n",
    "\n",
    "    '''\n",
    "        Filters concatenated df by only selecting Median Income, Year, \n",
    "        and Label (Grouping) column containing Households\n",
    "        \n",
    "        Cleans State and County strings \n",
    "\n",
    "        df: final concatenated df\n",
    "        returns: cleaned, final concatenated df\n",
    "    '''\n",
    "    \n",
    "    df['Label (Grouping)'] = df['Label (Grouping)'].str.strip()\n",
    "\n",
    "    cols = [col for col in df.columns if '!!Median income (dollars)!!Estimate' in col or 'Label (Grouping)' in col or 'Year' in col]\n",
    "    df = df[cols]\n",
    "\n",
    "    df_median_household_income = df[df['Label (Grouping)'] == 'Households']\n",
    "\n",
    "    df_median_household_income = \\\n",
    "    df_median_household_income.melt(id_vars=['Label (Grouping)', 'Year'], var_name='County', value_name='Median Household Income')\n",
    "\n",
    "    df_median_household_income['County'] = \\\n",
    "    df_median_household_income['County'].str.replace(\"!!Median income (dollars)!!Estimate\", \"\", regex=False)\n",
    "\n",
    "    df_median_household_income['State'] = \\\n",
    "    df_median_household_income['County'].str.split(\",\").apply(lambda x: x[1].strip())\n",
    "\n",
    "    df_median_household_income['County'] = \\\n",
    "    df_median_household_income['County'].str.split(\",\").apply(lambda x: x[0].strip()).str.replace(\"County\", \"\", regex=False).str.strip()\n",
    "\n",
    "    df_median_household_income['Median Household Income'] = \\\n",
    "    df_median_household_income['Median Household Income'].str.replace(\",\", \"\").str.extract(\"([0-9]+)\").astype('float')\n",
    "\n",
    "    return df_median_household_income"
   ]
  },
  {
   "cell_type": "markdown",
   "metadata": {
    "cell_id": "783bcaea5a464923a2358a8c289137ac",
    "deepnote_cell_type": "markdown",
    "tags": []
   },
   "source": [
    "Below we'll handle the fixing of specific County names such as getting rid of  'Borough' and 'Parish' from Alaska and Louisiana respectively."
   ]
  },
  {
   "cell_type": "code",
   "execution_count": 22,
   "metadata": {
    "cell_id": "93b39637af794f999f1fd1fe119702da",
    "deepnote_cell_type": "code",
    "deepnote_to_be_reexecuted": false,
    "execution_millis": 35853,
    "execution_start": 1676947754374,
    "source_hash": "c7a7b52",
    "tags": []
   },
   "outputs": [],
   "source": [
    "acs = clean_acs_data(append_acs_data(year_files))\n",
    "\n",
    "acs['County'] = \\\n",
    "acs['County'].mask(acs['State'] == 'Alaska', acs['County'].str.replace('Borough', '')).str.strip()\n",
    "\n",
    "acs['County'] = \\\n",
    "acs['County'].mask(acs['State'] == 'Alaska', acs['County'].str.replace('Municipality', '')).str.strip()\n",
    "\n",
    "acs['County'] = \\\n",
    "acs['County'].mask(acs['State'] == 'Louisiana', acs['County'].str.replace('Parish', '')).str.strip()\n",
    "\n",
    "acs['County'] = acs['County'].str.replace(\"De Witt\", \"DeWitt\")\n",
    "acs['County'] = acs['County'].str.replace(\"De Soto\", \"DeSoto\")\n",
    "\n",
    "# filter our final ACS dataset to only include counties within the Zillow dataset\n",
    "acs = acs[acs['County'].isin(counties_to_include)]\n",
    "\n",
    "# drop the label grouping field as the Median Income field contains the household income value\n",
    "acs = acs.drop(columns=['Label (Grouping)'])\n"
   ]
  },
  {
   "cell_type": "markdown",
   "metadata": {
    "cell_id": "7b839196d8314d16b349f034bd2c8362",
    "deepnote_cell_type": "markdown",
    "tags": []
   },
   "source": [
    "Let's inspect our ACS data for any nans or outliers"
   ]
  },
  {
   "cell_type": "code",
   "execution_count": 23,
   "metadata": {
    "cell_id": "0c2e8ae2c1a344e08c07b795aaad3dab",
    "deepnote_cell_type": "code",
    "deepnote_to_be_reexecuted": false,
    "execution_millis": 38,
    "execution_start": 1676947790231,
    "source_hash": "9cef9b17",
    "tags": []
   },
   "outputs": [
    {
     "data": {
      "text/plain": [
       "'ACS nans'"
      ]
     },
     "metadata": {},
     "output_type": "display_data"
    },
    {
     "data": {
      "text/plain": [
       "0.00011498217776244682"
      ]
     },
     "metadata": {},
     "output_type": "display_data"
    },
    {
     "data": {
      "text/html": [
       "<div>\n",
       "<style scoped>\n",
       "    .dataframe tbody tr th:only-of-type {\n",
       "        vertical-align: middle;\n",
       "    }\n",
       "\n",
       "    .dataframe tbody tr th {\n",
       "        vertical-align: top;\n",
       "    }\n",
       "\n",
       "    .dataframe thead th {\n",
       "        text-align: right;\n",
       "    }\n",
       "</style>\n",
       "<table border=\"1\" class=\"dataframe\">\n",
       "  <thead>\n",
       "    <tr style=\"text-align: right;\">\n",
       "      <th></th>\n",
       "      <th>Year</th>\n",
       "      <th>Median Household Income</th>\n",
       "    </tr>\n",
       "  </thead>\n",
       "  <tbody>\n",
       "    <tr>\n",
       "      <th>count</th>\n",
       "      <td>17394.000000</td>\n",
       "      <td>17392.000000</td>\n",
       "    </tr>\n",
       "    <tr>\n",
       "      <th>mean</th>\n",
       "      <td>2018.500000</td>\n",
       "      <td>52655.691927</td>\n",
       "    </tr>\n",
       "    <tr>\n",
       "      <th>std</th>\n",
       "      <td>1.707874</td>\n",
       "      <td>14239.890162</td>\n",
       "    </tr>\n",
       "    <tr>\n",
       "      <th>min</th>\n",
       "      <td>2016.000000</td>\n",
       "      <td>18972.000000</td>\n",
       "    </tr>\n",
       "    <tr>\n",
       "      <th>25%</th>\n",
       "      <td>2017.000000</td>\n",
       "      <td>43209.750000</td>\n",
       "    </tr>\n",
       "    <tr>\n",
       "      <th>50%</th>\n",
       "      <td>2018.500000</td>\n",
       "      <td>50825.500000</td>\n",
       "    </tr>\n",
       "    <tr>\n",
       "      <th>75%</th>\n",
       "      <td>2020.000000</td>\n",
       "      <td>59196.250000</td>\n",
       "    </tr>\n",
       "    <tr>\n",
       "      <th>max</th>\n",
       "      <td>2021.000000</td>\n",
       "      <td>156821.000000</td>\n",
       "    </tr>\n",
       "  </tbody>\n",
       "</table>\n",
       "</div>"
      ],
      "text/plain": [
       "               Year  Median Household Income\n",
       "count  17394.000000             17392.000000\n",
       "mean    2018.500000             52655.691927\n",
       "std        1.707874             14239.890162\n",
       "min     2016.000000             18972.000000\n",
       "25%     2017.000000             43209.750000\n",
       "50%     2018.500000             50825.500000\n",
       "75%     2020.000000             59196.250000\n",
       "max     2021.000000            156821.000000"
      ]
     },
     "metadata": {},
     "output_type": "display_data"
    }
   ],
   "source": [
    "display('ACS nans')\n",
    "display(acs[acs.isna().any(axis=1)].shape[0] / acs.shape[0])\n",
    "display(acs.describe())"
   ]
  },
  {
   "cell_type": "markdown",
   "metadata": {
    "cell_id": "b4c7fa46ad034edcb8743dd8637e7159",
    "deepnote_cell_type": "markdown",
    "tags": []
   },
   "source": [
    "The nan percentage is very small, so let's drop nan's here. We'll also write our file out to parquet."
   ]
  },
  {
   "cell_type": "code",
   "execution_count": 24,
   "metadata": {
    "cell_id": "6a11ae2be9d943c594b21273b71bd652",
    "deepnote_cell_type": "code",
    "deepnote_to_be_reexecuted": false,
    "execution_millis": 24,
    "execution_start": 1676947790278,
    "source_hash": "99863f08",
    "tags": []
   },
   "outputs": [],
   "source": [
    "acs = acs.dropna()\n",
    "\n",
    "acs_filepath = 'data/acs_5_year.parquet'\n",
    "acs.to_parquet(acs_filepath)"
   ]
  },
  {
   "cell_type": "markdown",
   "metadata": {
    "created_in_deepnote_cell": true,
    "deepnote_cell_type": "markdown",
    "tags": []
   },
   "source": [
    "<a style='text-decoration:none;line-height:16px;display:flex;color:#5B5B62;padding:10px;justify-content:end;' href='https://deepnote.com?utm_source=created-in-deepnote-cell&projectId=295bb911-c56a-4f18-9d98-f03c8b82d5f2' target=\"_blank\">\n",
    "<img alt='Created in deepnote.com' style='display:inline;max-height:16px;margin:0px;margin-right:7.5px;' src='data:image/svg+xml;base64,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' > </img>\n",
    "Created in <span style='font-weight:600;margin-left:4px;'>Deepnote</span></a>"
   ]
  }
 ],
 "metadata": {
  "deepnote": {},
  "deepnote_execution_queue": [],
  "deepnote_notebook_id": "55ba6cfdce3646dc962c88f28911afaa",
  "deepnote_persisted_session": {
   "createdAt": "2023-02-21T01:16:42.110Z"
  },
  "kernelspec": {
   "display_name": "Python 3",
   "language": "python",
   "name": "python3"
  },
  "language_info": {
   "codemirror_mode": {
    "name": "ipython",
    "version": 3
   },
   "file_extension": ".py",
   "mimetype": "text/x-python",
   "name": "python",
   "nbconvert_exporter": "python",
   "pygments_lexer": "ipython3",
   "version": "3.8.8"
  }
 },
 "nbformat": 4,
 "nbformat_minor": 1
}
