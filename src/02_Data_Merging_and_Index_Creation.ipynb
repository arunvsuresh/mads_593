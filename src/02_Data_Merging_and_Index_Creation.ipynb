{
 "cells": [
  {
   "cell_type": "markdown",
   "metadata": {
    "cell_id": "e5e5c465247547a5beebb8c6edcbd038",
    "deepnote_cell_type": "markdown",
    "tags": []
   },
   "source": [
    "# Data Merging/Index Creation\n",
    "by Arun Suresh, Nick Wheatley and James Conner"
   ]
  },
  {
   "cell_type": "markdown",
   "metadata": {
    "cell_id": "593410ea8089408ab7d9fccc0ea023c1",
    "deepnote_cell_type": "markdown",
    "tags": []
   },
   "source": [
    "<hr style=\"border:2px solid gray\">"
   ]
  },
  {
   "cell_type": "markdown",
   "metadata": {
    "cell_id": "a1b3c0f71a45434aad164e061cd28136",
    "deepnote_cell_type": "markdown",
    "tags": []
   },
   "source": [
    "##### This notebook highlights how we merged our main data sources (Zillow, ACS, Equifax) and created the indexes that formed the core of our affordability index, used for measuring housing affordability nation-wide and regionally in NYC and SF. "
   ]
  },
  {
   "cell_type": "markdown",
   "metadata": {
    "cell_id": "c8c760289f064361b5faeb4ea6edcc9c",
    "deepnote_cell_type": "markdown",
    "tags": []
   },
   "source": [
    "<hr style=\"border:1px solid gray\">"
   ]
  },
  {
   "cell_type": "markdown",
   "metadata": {
    "cell_id": "84db3415855e4b8195857a009d339251",
    "deepnote_cell_type": "markdown",
    "tags": []
   },
   "source": [
    "## Additional Notebooks\n",
    "\n",
    "**[Data Manipulation](01_Data_Manipulation.ipynb)**\n",
    "\n",
    "**[Data Analysis](03_Analysis.ipynb)**"
   ]
  },
  {
   "cell_type": "markdown",
   "metadata": {
    "cell_id": "7abbaa76cf59459bac4490ac6f79454c",
    "deepnote_cell_type": "markdown",
    "tags": []
   },
   "source": [
    "<hr style=\"border:1px solid gray\">"
   ]
  },
  {
   "cell_type": "markdown",
   "metadata": {
    "cell_id": "c814972ef05d4752b2ca20cac3ec044c",
    "deepnote_cell_type": "markdown",
    "tags": []
   },
   "source": [
    "### Set Up the Environment\n",
    "\n",
    "Ensure that the environment has consistent versions of the required libraries."
   ]
  },
  {
   "cell_type": "code",
   "execution_count": 1,
   "metadata": {
    "cell_id": "1b5f0730cbc84fe79e2130ba0c5792d9",
    "deepnote_cell_type": "code",
    "deepnote_to_be_reexecuted": false,
    "execution_millis": 1019,
    "execution_start": 1676947812051,
    "source_hash": "6ef2ec2a",
    "tags": []
   },
   "outputs": [
    {
     "name": "stdout",
     "output_type": "stream",
     "text": [
      "Missing or different libraries.\n",
      "Installing required libraries/versions.\n"
     ]
    }
   ],
   "source": [
    "import sys\n",
    "# Plotly is required for the graphs\n",
    "# Kaleido is required to export graph images\n",
    "# Pandas required for dataframes\n",
    "# Numpy required for pandas\n",
    "# Pyarrow installed to write/read parquet files\n",
    "# Pip upgrade required due to pandas wheel build issues\n",
    "\n",
    "required_libs = ['pandas==1.2.5', 'numpy==1.23.4', 'plotly==5.10.0', 'pyarrow==9.0.0', 'kaleido==0.2.1']\n",
    "required_libs_str = \" \".join(required_libs)\n",
    "\n",
    "current_libs = !{sys.executable} -m pip freeze\n",
    "                    \n",
    "if len(set(required_libs) - set(current_libs)) != 0:\n",
    "    print(\"Missing or different libraries.\")\n",
    "    print(\"Installing required libraries/versions.\")\n",
    "    !{sys.executable} -m pip install --upgrade pip -q \n",
    "    !{sys.executable} -m pip install -q {required_libs_str}\n",
    "else:\n",
    "    print(\"Libraries and versions match.\")"
   ]
  },
  {
   "cell_type": "markdown",
   "metadata": {
    "cell_id": "ef1dad3b3e0244a188e3aadab5c40700",
    "deepnote_cell_type": "markdown",
    "tags": []
   },
   "source": [
    "### Import Libraries/Modules"
   ]
  },
  {
   "cell_type": "code",
   "execution_count": 2,
   "metadata": {
    "cell_id": "1d7513d2cd604c079701c3cb9fa3a2f1",
    "deepnote_cell_type": "code",
    "deepnote_to_be_reexecuted": false,
    "execution_millis": 2,
    "execution_start": 1676947813083,
    "source_hash": "683fc364",
    "tags": []
   },
   "outputs": [],
   "source": [
    "import os\n",
    "import pandas as pd\n",
    "import numpy as np\n",
    "from collections import defaultdict"
   ]
  },
  {
   "cell_type": "markdown",
   "metadata": {
    "cell_id": "6306df56abef4ac19debb9ecf5b5c552",
    "deepnote_cell_type": "markdown",
    "tags": []
   },
   "source": [
    "### Load Data"
   ]
  },
  {
   "cell_type": "markdown",
   "metadata": {
    "cell_id": "761a8fdd8a824c7998b8a2a3d0339ce2",
    "deepnote_cell_type": "markdown",
    "tags": []
   },
   "source": [
    "Read in all necessary files. Here, we also read in a FIPS dataset, which contains county-level identifiers. We will use these FIPS codes further down in our analysis as well as our visuals."
   ]
  },
  {
   "cell_type": "code",
   "execution_count": 3,
   "metadata": {
    "cell_id": "393a922ddc0f4574b714ef1fd09dc9d5",
    "deepnote_cell_type": "code",
    "deepnote_to_be_reexecuted": false,
    "execution_millis": 175,
    "execution_start": 1676947813127,
    "source_hash": "ca189c99",
    "tags": []
   },
   "outputs": [],
   "source": [
    "acs = pd.read_parquet('data/acs_5_year.parquet')\n",
    "equifax = pd.read_parquet('data/equifax.parquet')\n",
    "zillow = pd.read_parquet('data/zillow.parquet')\n",
    "fips = pd.read_parquet('data/fips.parquet')"
   ]
  },
  {
   "cell_type": "markdown",
   "metadata": {
    "cell_id": "21ff026937334a988ff127115589f83e",
    "deepnote_cell_type": "markdown",
    "tags": []
   },
   "source": [
    "<hr style=\"border:1px solid gray\">"
   ]
  },
  {
   "cell_type": "markdown",
   "metadata": {
    "cell_id": "912ca85434f446bea5c14310819cc645",
    "deepnote_cell_type": "markdown",
    "tags": []
   },
   "source": [
    "### Merging and Index Creation"
   ]
  },
  {
   "cell_type": "markdown",
   "metadata": {
    "cell_id": "f8b0375eebcf49b88275d2a2db95c1ba",
    "deepnote_cell_type": "markdown",
    "tags": []
   },
   "source": [
    "Let's fix our FIPS codes which identify each county in the US"
   ]
  },
  {
   "cell_type": "code",
   "execution_count": 4,
   "metadata": {
    "cell_id": "5c063dbdc5df442eae92c7651a21cbb8",
    "deepnote_cell_type": "code",
    "deepnote_to_be_reexecuted": false,
    "execution_millis": 1,
    "execution_start": 1676947813351,
    "source_hash": "31577492",
    "tags": []
   },
   "outputs": [],
   "source": [
    "# fips data contains county level codes to distinguish each county from each other\n",
    "fips.columns = ['State', 'County', 'StateCodeFIPS', 'MunicipalCodeFIPS', 'FIPS']\n",
    "\n",
    "#prepend 0's to fips to offset earlier truncation since the read-in truncates leading 0's\n",
    "fips['StateCodeFIPS'] = fips['StateCodeFIPS'].astype('str').str.zfill(2)\n",
    "fips['MunicipalCodeFIPS'] = fips['MunicipalCodeFIPS'].astype('str').str.zfill(3)\n",
    "fips['FIPS'] = fips['FIPS'].astype('str').str.zfill(5)"
   ]
  },
  {
   "cell_type": "markdown",
   "metadata": {
    "cell_id": "1da19b1a95954e8e874e45853549322c",
    "deepnote_cell_type": "markdown",
    "tags": []
   },
   "source": [
    "##### Merge datasets"
   ]
  },
  {
   "cell_type": "markdown",
   "metadata": {
    "cell_id": "d802351312784f0db3bce81d743dfa72",
    "deepnote_cell_type": "markdown",
    "tags": []
   },
   "source": [
    "Each data source contains State and County fields which we are using as our main fields to merge on. This will align all measurable indicators such as Home Value and Income along State and County lines. We will use this final dataset to create our National and Regional (SF & NYC) narrative. Initially, we merge our Equifax and ACS data on County, State, Year, and Median Household Income using an \"outer\" merge. From there, we merge on the Zillow dataset on County, State, and Year using an \"outer\" merge. Finally, we merge on our FIPS dataset using a \"left\" merge. We use an outer merge for our main datasets as they each contain different columns and we want to get a holistic picture of our merged dataset. "
   ]
  },
  {
   "cell_type": "code",
   "execution_count": 5,
   "metadata": {
    "cell_id": "a6713246557b4a3b9cfb128f895d426d",
    "deepnote_cell_type": "code",
    "deepnote_to_be_reexecuted": false,
    "execution_millis": 48,
    "execution_start": 1676947813352,
    "source_hash": "a0e17fe4",
    "tags": []
   },
   "outputs": [],
   "source": [
    "# Merge equifax, acs and zillow along County, State, Year \n",
    "equifax_acs_merge = \\\n",
    "acs.merge(equifax, how='outer', \\\n",
    "on=['County', 'State', 'Year', 'Median Household Income'])\n",
    "\n",
    "df = equifax_acs_merge.merge(zillow, how='outer', on=['County', 'State', 'Year'])\n",
    "df.columns = [x.strip() for x in df.columns]\n",
    "\n",
    "# Merge FIPS into the dataframe\n",
    "col_list = ['Fips','MunicipalCodeFIPS', 'StateCodeFIPS']\n",
    "df = df.drop(col_list, axis=1).sort_values(['State','County','Year']).merge(right=fips, on=['State','County'], how='left')\n"
   ]
  },
  {
   "cell_type": "markdown",
   "metadata": {
    "cell_id": "1a5f1b3ca0ad434b946de7f969055335",
    "deepnote_cell_type": "markdown",
    "tags": []
   },
   "source": [
    "Let's inspect the data for completeness"
   ]
  },
  {
   "cell_type": "code",
   "execution_count": 6,
   "metadata": {
    "cell_id": "ec944d9c7aa942ee84024fa713b5cb0e",
    "deepnote_cell_type": "code",
    "deepnote_table_invalid": false,
    "deepnote_table_loading": false,
    "deepnote_table_state": {
     "filters": [],
     "pageIndex": 0,
     "pageSize": 10,
     "sortBy": []
    },
    "deepnote_to_be_reexecuted": false,
    "execution_millis": 3,
    "execution_start": 1676947813438,
    "source_hash": "564df79f",
    "tags": []
   },
   "outputs": [
    {
     "data": {
      "text/html": [
       "<div>\n",
       "<style scoped>\n",
       "    .dataframe tbody tr th:only-of-type {\n",
       "        vertical-align: middle;\n",
       "    }\n",
       "\n",
       "    .dataframe tbody tr th {\n",
       "        vertical-align: top;\n",
       "    }\n",
       "\n",
       "    .dataframe thead th {\n",
       "        text-align: right;\n",
       "    }\n",
       "</style>\n",
       "<table border=\"1\" class=\"dataframe\">\n",
       "  <thead>\n",
       "    <tr style=\"text-align: right;\">\n",
       "      <th></th>\n",
       "      <th>State</th>\n",
       "      <th>County</th>\n",
       "    </tr>\n",
       "  </thead>\n",
       "  <tbody>\n",
       "    <tr>\n",
       "      <th>19476</th>\n",
       "      <td>Texas</td>\n",
       "      <td>DeWitt</td>\n",
       "    </tr>\n",
       "    <tr>\n",
       "      <th>21306</th>\n",
       "      <td>Virginia</td>\n",
       "      <td>Bristol</td>\n",
       "    </tr>\n",
       "    <tr>\n",
       "      <th>21339</th>\n",
       "      <td>Virginia</td>\n",
       "      <td>Buena Vista</td>\n",
       "    </tr>\n",
       "    <tr>\n",
       "      <th>21421</th>\n",
       "      <td>Virginia</td>\n",
       "      <td>Covington</td>\n",
       "    </tr>\n",
       "    <tr>\n",
       "      <th>21627</th>\n",
       "      <td>Virginia</td>\n",
       "      <td>Hampton</td>\n",
       "    </tr>\n",
       "    <tr>\n",
       "      <th>21738</th>\n",
       "      <td>Virginia</td>\n",
       "      <td>Lexington</td>\n",
       "    </tr>\n",
       "    <tr>\n",
       "      <th>21862</th>\n",
       "      <td>Virginia</td>\n",
       "      <td>Norfolk</td>\n",
       "    </tr>\n",
       "    <tr>\n",
       "      <th>21995</th>\n",
       "      <td>Virginia</td>\n",
       "      <td>Radford City</td>\n",
       "    </tr>\n",
       "    <tr>\n",
       "      <th>22066</th>\n",
       "      <td>Virginia</td>\n",
       "      <td>Salem</td>\n",
       "    </tr>\n",
       "    <tr>\n",
       "      <th>22130</th>\n",
       "      <td>Virginia</td>\n",
       "      <td>Suffolk</td>\n",
       "    </tr>\n",
       "    <tr>\n",
       "      <th>22201</th>\n",
       "      <td>Virginia</td>\n",
       "      <td>Williamsburg</td>\n",
       "    </tr>\n",
       "  </tbody>\n",
       "</table>\n",
       "</div>"
      ],
      "text/plain": [
       "          State        County\n",
       "19476     Texas        DeWitt\n",
       "21306  Virginia       Bristol\n",
       "21339  Virginia   Buena Vista\n",
       "21421  Virginia     Covington\n",
       "21627  Virginia       Hampton\n",
       "21738  Virginia     Lexington\n",
       "21862  Virginia       Norfolk\n",
       "21995  Virginia  Radford City\n",
       "22066  Virginia         Salem\n",
       "22130  Virginia       Suffolk\n",
       "22201  Virginia  Williamsburg"
      ]
     },
     "execution_count": 6,
     "metadata": {},
     "output_type": "execute_result"
    }
   ],
   "source": [
    "# Check FIPS codes within final df for completeness\n",
    "df[df.FIPS.isna()][['State','County']].drop_duplicates()"
   ]
  },
  {
   "cell_type": "code",
   "execution_count": 7,
   "metadata": {
    "cell_id": "5924feba9d9f4f06a2af945841351946",
    "deepnote_cell_type": "code",
    "deepnote_table_loading": false,
    "deepnote_table_state": {
     "filters": [],
     "pageIndex": 5,
     "pageSize": 10,
     "sortBy": []
    },
    "deepnote_to_be_reexecuted": false,
    "execution_millis": 3,
    "execution_start": 1676947813439,
    "source_hash": "8e2c7225",
    "tags": []
   },
   "outputs": [
    {
     "data": {
      "text/plain": [
       "Year\n",
       "2016    0.145777\n",
       "2017    0.125805\n",
       "2018    0.105244\n",
       "2019    0.082272\n",
       "2020    0.065568\n",
       "2021    0.057214\n",
       "2022    0.049595\n",
       "Name: Median Home Value, dtype: float64"
      ]
     },
     "execution_count": 7,
     "metadata": {},
     "output_type": "execute_result"
    }
   ],
   "source": [
    "# Median Home Value Nan pcts are minimal per year. \n",
    "# We are not using 2027 since 2027 doesn't have median home values.\n",
    "df[~df.Year.isin([2027])].groupby(['Year'])['Median Home Value'].apply(lambda x: x.isna().sum() / x.count())"
   ]
  },
  {
   "cell_type": "code",
   "execution_count": 8,
   "metadata": {
    "cell_id": "06748016a74a4de9be8c526c1db0f490",
    "deepnote_cell_type": "code",
    "deepnote_to_be_reexecuted": false,
    "execution_millis": 2,
    "execution_start": 1676947813484,
    "source_hash": "5e3015d7",
    "tags": []
   },
   "outputs": [
    {
     "data": {
      "text/plain": [
       "Year\n",
       "2022    0.022969\n",
       "2027    0.000000\n",
       "Name: Total Utility Costs, dtype: float64"
      ]
     },
     "execution_count": 8,
     "metadata": {},
     "output_type": "execute_result"
    }
   ],
   "source": [
    "# Total Utility Costs Nan pcts are minimal per year. \n",
    "# Using only 2022 and 2027 since those are the only years we have data for\n",
    "df[df.Year.isin([2022, 2027])].groupby(['Year'])['Total Utility Costs'].apply(lambda x: x.isna().sum() / x.count())"
   ]
  },
  {
   "cell_type": "markdown",
   "metadata": {
    "cell_id": "cb58f13d3a1b48f1af0d0b1e6885ecca",
    "deepnote_cell_type": "markdown",
    "tags": []
   },
   "source": [
    "##### Transform Utilities data"
   ]
  },
  {
   "cell_type": "markdown",
   "metadata": {
    "cell_id": "421fbe21c26e476c96aa00e83e84265a",
    "deepnote_cell_type": "markdown",
    "tags": []
   },
   "source": [
    "As shown above, we have no utility cost data from equifax for years besides 2022 and their 2027 estimate. We will use the estimated growth to backwards interpolate data from years 2017-2022, assuming the same growth from 2022-2027, with even increments each year."
   ]
  },
  {
   "cell_type": "code",
   "execution_count": 9,
   "metadata": {
    "cell_id": "31a7ca9239244e1682d64cd276db2f50",
    "deepnote_cell_type": "code",
    "deepnote_to_be_reexecuted": false,
    "execution_millis": 45,
    "execution_start": 1676947813484,
    "source_hash": "d493acc1",
    "tags": []
   },
   "outputs": [
    {
     "data": {
      "text/html": [
       "<div>\n",
       "<style scoped>\n",
       "    .dataframe tbody tr th:only-of-type {\n",
       "        vertical-align: middle;\n",
       "    }\n",
       "\n",
       "    .dataframe tbody tr th {\n",
       "        vertical-align: top;\n",
       "    }\n",
       "\n",
       "    .dataframe thead th {\n",
       "        text-align: right;\n",
       "    }\n",
       "</style>\n",
       "<table border=\"1\" class=\"dataframe\">\n",
       "  <thead>\n",
       "    <tr style=\"text-align: right;\">\n",
       "      <th></th>\n",
       "      <th>State</th>\n",
       "      <th>County</th>\n",
       "      <th>utility_2022</th>\n",
       "      <th>utility_2017</th>\n",
       "      <th>utility_2018</th>\n",
       "      <th>utility_2019</th>\n",
       "      <th>utility_2020</th>\n",
       "      <th>utility_2021</th>\n",
       "    </tr>\n",
       "  </thead>\n",
       "  <tbody>\n",
       "    <tr>\n",
       "      <th>0</th>\n",
       "      <td>Alabama</td>\n",
       "      <td>Autauga</td>\n",
       "      <td>8614.24</td>\n",
       "      <td>6421.74</td>\n",
       "      <td>6860.240</td>\n",
       "      <td>7298.740</td>\n",
       "      <td>7737.240</td>\n",
       "      <td>8175.740</td>\n",
       "    </tr>\n",
       "    <tr>\n",
       "      <th>1</th>\n",
       "      <td>Alabama</td>\n",
       "      <td>Baldwin</td>\n",
       "      <td>9000.01</td>\n",
       "      <td>7086.79</td>\n",
       "      <td>7469.434</td>\n",
       "      <td>7852.078</td>\n",
       "      <td>8234.722</td>\n",
       "      <td>8617.366</td>\n",
       "    </tr>\n",
       "    <tr>\n",
       "      <th>2</th>\n",
       "      <td>Alabama</td>\n",
       "      <td>Barbour</td>\n",
       "      <td>6725.21</td>\n",
       "      <td>4956.61</td>\n",
       "      <td>5310.330</td>\n",
       "      <td>5664.050</td>\n",
       "      <td>6017.770</td>\n",
       "      <td>6371.490</td>\n",
       "    </tr>\n",
       "    <tr>\n",
       "      <th>3</th>\n",
       "      <td>Alabama</td>\n",
       "      <td>Bibb</td>\n",
       "      <td>8075.85</td>\n",
       "      <td>6077.23</td>\n",
       "      <td>6476.954</td>\n",
       "      <td>6876.678</td>\n",
       "      <td>7276.402</td>\n",
       "      <td>7676.126</td>\n",
       "    </tr>\n",
       "    <tr>\n",
       "      <th>4</th>\n",
       "      <td>Alabama</td>\n",
       "      <td>Blount</td>\n",
       "      <td>8431.41</td>\n",
       "      <td>6284.04</td>\n",
       "      <td>6713.514</td>\n",
       "      <td>7142.988</td>\n",
       "      <td>7572.462</td>\n",
       "      <td>8001.936</td>\n",
       "    </tr>\n",
       "  </tbody>\n",
       "</table>\n",
       "</div>"
      ],
      "text/plain": [
       "     State   County  utility_2022  utility_2017  utility_2018  utility_2019  \\\n",
       "0  Alabama  Autauga       8614.24       6421.74      6860.240      7298.740   \n",
       "1  Alabama  Baldwin       9000.01       7086.79      7469.434      7852.078   \n",
       "2  Alabama  Barbour       6725.21       4956.61      5310.330      5664.050   \n",
       "3  Alabama     Bibb       8075.85       6077.23      6476.954      6876.678   \n",
       "4  Alabama   Blount       8431.41       6284.04      6713.514      7142.988   \n",
       "\n",
       "   utility_2020  utility_2021  \n",
       "0      7737.240      8175.740  \n",
       "1      8234.722      8617.366  \n",
       "2      6017.770      6371.490  \n",
       "3      7276.402      7676.126  \n",
       "4      7572.462      8001.936  "
      ]
     },
     "execution_count": 9,
     "metadata": {},
     "output_type": "execute_result"
    }
   ],
   "source": [
    "# Fill missing utility data for 2017-2021 by backwards interpolating Equifax's 2027 growth \n",
    "group_cols = ['State','County']\n",
    "aggregate_var = 'Total Utility Costs'\n",
    "\n",
    "df_utility_2022 = df.loc[df.Year == 2022,group_cols + [aggregate_var]].rename(columns={\n",
    "    aggregate_var:'utility_2022'})\n",
    "\n",
    "df_utility_2027 = df.loc[df.Year == 2027,group_cols + [aggregate_var]].rename(columns={\n",
    "    aggregate_var:'utility_2027'})\n",
    "\n",
    "# Calculate the increase from 2022-2027, and apply that difference to 2022 to estimate 2017 costs\n",
    "df_utility = df_utility_2022.merge(df_utility_2027,on=group_cols,how='outer')\n",
    "df_utility['utility_difference'] = df_utility.utility_2027 - df_utility.utility_2022\n",
    "df_utility['utility_2017'] = df_utility.utility_2022 - df_utility.utility_difference\n",
    "df_utility['utility_increment'] = df_utility.utility_difference / 5\n",
    "\n",
    "# Calculate utility costs for each year from 2018-2022 using an even increment calculated above\n",
    "i = 1\n",
    "for year in [2018,2019,2020,2021]:\n",
    "    df_utility[f'utility_{year}'] = df_utility.utility_2017 + df_utility.utility_increment * i\n",
    "    i+=1\n",
    "\n",
    "df_utility.drop(['utility_difference','utility_increment','utility_2027'],axis=1,inplace=True)\n",
    "df_utility.head()"
   ]
  },
  {
   "cell_type": "markdown",
   "metadata": {
    "cell_id": "bfcfb341c53349f897229c8dc738af6c",
    "deepnote_cell_type": "markdown",
    "tags": []
   },
   "source": [
    "Let's melt the data for easy comparison along year, county, state lines"
   ]
  },
  {
   "cell_type": "code",
   "execution_count": 10,
   "metadata": {
    "cell_id": "3b9750a65bf64435a5ea5b42bdd2b6a6",
    "deepnote_cell_type": "code",
    "deepnote_to_be_reexecuted": false,
    "execution_millis": 26,
    "execution_start": 1676947813531,
    "source_hash": "61be763c",
    "tags": []
   },
   "outputs": [
    {
     "data": {
      "text/html": [
       "<div>\n",
       "<style scoped>\n",
       "    .dataframe tbody tr th:only-of-type {\n",
       "        vertical-align: middle;\n",
       "    }\n",
       "\n",
       "    .dataframe tbody tr th {\n",
       "        vertical-align: top;\n",
       "    }\n",
       "\n",
       "    .dataframe thead th {\n",
       "        text-align: right;\n",
       "    }\n",
       "</style>\n",
       "<table border=\"1\" class=\"dataframe\">\n",
       "  <thead>\n",
       "    <tr style=\"text-align: right;\">\n",
       "      <th></th>\n",
       "      <th>State</th>\n",
       "      <th>County</th>\n",
       "      <th>Year</th>\n",
       "      <th>Total Utility Costs</th>\n",
       "    </tr>\n",
       "  </thead>\n",
       "  <tbody>\n",
       "    <tr>\n",
       "      <th>0</th>\n",
       "      <td>Alabama</td>\n",
       "      <td>Autauga</td>\n",
       "      <td>2017</td>\n",
       "      <td>6421.74</td>\n",
       "    </tr>\n",
       "    <tr>\n",
       "      <th>1</th>\n",
       "      <td>Alabama</td>\n",
       "      <td>Baldwin</td>\n",
       "      <td>2017</td>\n",
       "      <td>7086.79</td>\n",
       "    </tr>\n",
       "    <tr>\n",
       "      <th>2</th>\n",
       "      <td>Alabama</td>\n",
       "      <td>Barbour</td>\n",
       "      <td>2017</td>\n",
       "      <td>4956.61</td>\n",
       "    </tr>\n",
       "    <tr>\n",
       "      <th>3</th>\n",
       "      <td>Alabama</td>\n",
       "      <td>Bibb</td>\n",
       "      <td>2017</td>\n",
       "      <td>6077.23</td>\n",
       "    </tr>\n",
       "    <tr>\n",
       "      <th>4</th>\n",
       "      <td>Alabama</td>\n",
       "      <td>Blount</td>\n",
       "      <td>2017</td>\n",
       "      <td>6284.04</td>\n",
       "    </tr>\n",
       "  </tbody>\n",
       "</table>\n",
       "</div>"
      ],
      "text/plain": [
       "     State   County  Year  Total Utility Costs\n",
       "0  Alabama  Autauga  2017              6421.74\n",
       "1  Alabama  Baldwin  2017              7086.79\n",
       "2  Alabama  Barbour  2017              4956.61\n",
       "3  Alabama     Bibb  2017              6077.23\n",
       "4  Alabama   Blount  2017              6284.04"
      ]
     },
     "execution_count": 10,
     "metadata": {},
     "output_type": "execute_result"
    }
   ],
   "source": [
    "# Convert utility dataset to tabular form\n",
    "value_cols = sorted(df_utility.columns[~df_utility.columns.isin(group_cols)].tolist())\n",
    "\n",
    "utility = df_utility.melt(id_vars=group_cols,value_vars=value_cols,var_name='Year',\n",
    "    value_name='Total Utility Costs')\n",
    "utility.Year = utility.Year.apply(lambda x: int(x[-4:]))\n",
    "utility.head()"
   ]
  },
  {
   "cell_type": "code",
   "execution_count": 11,
   "metadata": {
    "cell_id": "2ccde6b57b94422781b78f982b67017f",
    "deepnote_cell_type": "code",
    "deepnote_to_be_reexecuted": false,
    "execution_millis": 43,
    "execution_start": 1676947813566,
    "source_hash": "92125aed",
    "tags": []
   },
   "outputs": [
    {
     "data": {
      "text/html": [
       "<div>\n",
       "<style scoped>\n",
       "    .dataframe tbody tr th:only-of-type {\n",
       "        vertical-align: middle;\n",
       "    }\n",
       "\n",
       "    .dataframe tbody tr th {\n",
       "        vertical-align: top;\n",
       "    }\n",
       "\n",
       "    .dataframe thead th {\n",
       "        text-align: right;\n",
       "    }\n",
       "</style>\n",
       "<table border=\"1\" class=\"dataframe\">\n",
       "  <thead>\n",
       "    <tr style=\"text-align: right;\">\n",
       "      <th></th>\n",
       "      <th>Median Household Income</th>\n",
       "      <th>Median Home Value</th>\n",
       "      <th>Total Utility Costs</th>\n",
       "    </tr>\n",
       "    <tr>\n",
       "      <th>Year</th>\n",
       "      <th></th>\n",
       "      <th></th>\n",
       "      <th></th>\n",
       "    </tr>\n",
       "  </thead>\n",
       "  <tbody>\n",
       "    <tr>\n",
       "      <th>2017</th>\n",
       "      <td>49665.972059</td>\n",
       "      <td>165820.985411</td>\n",
       "      <td>6989.932683</td>\n",
       "    </tr>\n",
       "    <tr>\n",
       "      <th>2018</th>\n",
       "      <td>51516.148033</td>\n",
       "      <td>174287.153775</td>\n",
       "      <td>7435.472718</td>\n",
       "    </tr>\n",
       "    <tr>\n",
       "      <th>2019</th>\n",
       "      <td>53474.510866</td>\n",
       "      <td>181071.434110</td>\n",
       "      <td>7881.012753</td>\n",
       "    </tr>\n",
       "    <tr>\n",
       "      <th>2020</th>\n",
       "      <td>55079.587992</td>\n",
       "      <td>185792.665890</td>\n",
       "      <td>8326.552788</td>\n",
       "    </tr>\n",
       "    <tr>\n",
       "      <th>2021</th>\n",
       "      <td>58310.205243</td>\n",
       "      <td>211058.741827</td>\n",
       "      <td>8772.092823</td>\n",
       "    </tr>\n",
       "    <tr>\n",
       "      <th>2022</th>\n",
       "      <td>57091.487144</td>\n",
       "      <td>242690.486986</td>\n",
       "      <td>9218.027384</td>\n",
       "    </tr>\n",
       "  </tbody>\n",
       "</table>\n",
       "</div>"
      ],
      "text/plain": [
       "      Median Household Income  Median Home Value  Total Utility Costs\n",
       "Year                                                                 \n",
       "2017             49665.972059      165820.985411          6989.932683\n",
       "2018             51516.148033      174287.153775          7435.472718\n",
       "2019             53474.510866      181071.434110          7881.012753\n",
       "2020             55079.587992      185792.665890          8326.552788\n",
       "2021             58310.205243      211058.741827          8772.092823\n",
       "2022             57091.487144      242690.486986          9218.027384"
      ]
     },
     "execution_count": 11,
     "metadata": {},
     "output_type": "execute_result"
    }
   ],
   "source": [
    "# Merge utility dataset with income and median home value data\n",
    "df1 = df.loc[~df.Year.isin([2016,2027]),['State','County','Year','Median Household Income',\n",
    "    'Median Home Value', 'FIPS']].merge(utility,on=group_cols+['Year'],how='outer')\n",
    "df1.groupby('Year').mean()"
   ]
  },
  {
   "cell_type": "markdown",
   "metadata": {
    "cell_id": "dd751f795944478abeb11951e6a30b6c",
    "deepnote_cell_type": "markdown",
    "tags": []
   },
   "source": [
    "## Create Affordability Indexes\n",
    "\n",
    "With the data extracted and cleaned, we can now create the indexes key to our analysis. To better understand how affordability is changing each year, we determined a relative index across the US would best display the regional shift in home prices, income, and utility costs."
   ]
  },
  {
   "cell_type": "markdown",
   "metadata": {
    "cell_id": "ec09d093ac364086ba1aff8c274d3b2d",
    "deepnote_cell_type": "markdown",
    "tags": []
   },
   "source": [
    "<hr style=\"border:1px solid gray\">"
   ]
  },
  {
   "cell_type": "markdown",
   "metadata": {
    "cell_id": "1472103e54da4e068442f07469bc5ec9",
    "deepnote_cell_type": "markdown",
    "tags": []
   },
   "source": [
    "#### Sub-Indexes\n",
    "The main index we will use is an **affordability index** - a composite index comprised of the following sub-indexes:\n",
    "\n",
    "- **Income Index**\n",
    "- **Home Price Index**\n",
    "- **Utility Cost Index**\n",
    "\n",
    "Where the Income Index uses Median Household Income, the Home Price Index uses Median Home Value, and the Utility Cost Index uses Total Utility Costs. The objective of the indices is to portray less-costly values as more affordable. Thus, a higher index relates to greater affordability.\n",
    "\n",
    "The Income Index will use the following equation:\n",
    "&ensp;\n",
    "$$z_i = \\frac{x_i - min(x)}{max(x) - min(x)}$$\n",
    "&ensp;\n",
    "\n",
    "and the Home Price and Utility Cost indexes will use the equation below (1-index):\n",
    "\n",
    "&ensp;\n",
    "$$z_i = 1-\\frac{x_i - min(x)}{max(x) - min(x)}$$\n",
    "&ensp;\n",
    "\n",
    "where\n",
    "\n",
    "z is the index\n",
    "\n",
    "i is the region\n",
    "\n",
    "x is an index variable"
   ]
  },
  {
   "cell_type": "markdown",
   "metadata": {
    "cell_id": "ec1c768924724cad8dfb6cd3cba6c06d",
    "deepnote_cell_type": "markdown",
    "tags": []
   },
   "source": [
    "<hr style=\"border:1px solid gray\">"
   ]
  },
  {
   "cell_type": "markdown",
   "metadata": {
    "cell_id": "ff7c46b952884554a5e7148c3b28d67e",
    "deepnote_cell_type": "markdown",
    "tags": []
   },
   "source": [
    "#### Composite indexes\n",
    "\n",
    "The **Affordability Index** is a weighted average of these sub-indexes with the following weights:\n",
    "\n",
    "- Income Index (**25%**)\n",
    "- Housing Index (**70%**)\n",
    "- Utility Index (**5%**)\n",
    "\n",
    "We will create two versions of these indexes:\n",
    "1. price-based\n",
    "2. growth-based\n",
    "\n",
    "The price-based indexes will index based on the prices in its year. The growth-based indexes will use the percent of change from the 2020-2022 period (COVID years)."
   ]
  },
  {
   "cell_type": "code",
   "execution_count": 12,
   "metadata": {
    "cell_id": "3d33298734d94ce3a4d41b82303292d4",
    "deepnote_cell_type": "code",
    "deepnote_to_be_reexecuted": false,
    "execution_millis": 60,
    "execution_start": 1676947813613,
    "source_hash": "fc2fadbe",
    "tags": []
   },
   "outputs": [
    {
     "data": {
      "text/html": [
       "<div>\n",
       "<style scoped>\n",
       "    .dataframe tbody tr th:only-of-type {\n",
       "        vertical-align: middle;\n",
       "    }\n",
       "\n",
       "    .dataframe tbody tr th {\n",
       "        vertical-align: top;\n",
       "    }\n",
       "\n",
       "    .dataframe thead th {\n",
       "        text-align: right;\n",
       "    }\n",
       "</style>\n",
       "<table border=\"1\" class=\"dataframe\">\n",
       "  <thead>\n",
       "    <tr style=\"text-align: right;\">\n",
       "      <th></th>\n",
       "      <th>State</th>\n",
       "      <th>County</th>\n",
       "      <th>FIPS</th>\n",
       "      <th>median_income_2022</th>\n",
       "      <th>median_home_value_2022</th>\n",
       "      <th>utility_cost_2022</th>\n",
       "      <th>median_income_2020</th>\n",
       "      <th>median_home_value_2020</th>\n",
       "      <th>utility_cost_2020</th>\n",
       "      <th>Year</th>\n",
       "      <th>median_income_2yr_change_perc</th>\n",
       "      <th>median_home_value_2yr_change_perc</th>\n",
       "      <th>utility_cost_2yr_change_perc</th>\n",
       "    </tr>\n",
       "  </thead>\n",
       "  <tbody>\n",
       "    <tr>\n",
       "      <th>0</th>\n",
       "      <td>Alabama</td>\n",
       "      <td>Autauga</td>\n",
       "      <td>01001</td>\n",
       "      <td>60199.0</td>\n",
       "      <td>241820.0</td>\n",
       "      <td>8614.24</td>\n",
       "      <td>57982.0</td>\n",
       "      <td>210703.0</td>\n",
       "      <td>7737.240</td>\n",
       "      <td>2022</td>\n",
       "      <td>0.038236</td>\n",
       "      <td>0.147682</td>\n",
       "      <td>0.113348</td>\n",
       "    </tr>\n",
       "    <tr>\n",
       "      <th>1</th>\n",
       "      <td>Alabama</td>\n",
       "      <td>Baldwin</td>\n",
       "      <td>01003</td>\n",
       "      <td>58644.0</td>\n",
       "      <td>358700.0</td>\n",
       "      <td>9000.01</td>\n",
       "      <td>61756.0</td>\n",
       "      <td>251431.0</td>\n",
       "      <td>8234.722</td>\n",
       "      <td>2022</td>\n",
       "      <td>-0.050392</td>\n",
       "      <td>0.426634</td>\n",
       "      <td>0.092934</td>\n",
       "    </tr>\n",
       "    <tr>\n",
       "      <th>2</th>\n",
       "      <td>Alabama</td>\n",
       "      <td>Barbour</td>\n",
       "      <td>01005</td>\n",
       "      <td>38535.0</td>\n",
       "      <td>130835.0</td>\n",
       "      <td>6725.21</td>\n",
       "      <td>34990.0</td>\n",
       "      <td>101507.5</td>\n",
       "      <td>6017.770</td>\n",
       "      <td>2022</td>\n",
       "      <td>0.101315</td>\n",
       "      <td>0.288920</td>\n",
       "      <td>0.117558</td>\n",
       "    </tr>\n",
       "    <tr>\n",
       "      <th>3</th>\n",
       "      <td>Alabama</td>\n",
       "      <td>Bibb</td>\n",
       "      <td>01007</td>\n",
       "      <td>50337.0</td>\n",
       "      <td>176086.0</td>\n",
       "      <td>8075.85</td>\n",
       "      <td>51721.0</td>\n",
       "      <td>140536.5</td>\n",
       "      <td>7276.402</td>\n",
       "      <td>2022</td>\n",
       "      <td>-0.026759</td>\n",
       "      <td>0.252956</td>\n",
       "      <td>0.109869</td>\n",
       "    </tr>\n",
       "    <tr>\n",
       "      <th>4</th>\n",
       "      <td>Alabama</td>\n",
       "      <td>Blount</td>\n",
       "      <td>01009</td>\n",
       "      <td>55747.0</td>\n",
       "      <td>261835.0</td>\n",
       "      <td>8431.41</td>\n",
       "      <td>48922.0</td>\n",
       "      <td>218418.0</td>\n",
       "      <td>7572.462</td>\n",
       "      <td>2022</td>\n",
       "      <td>0.139508</td>\n",
       "      <td>0.198779</td>\n",
       "      <td>0.113430</td>\n",
       "    </tr>\n",
       "  </tbody>\n",
       "</table>\n",
       "</div>"
      ],
      "text/plain": [
       "     State   County   FIPS  median_income_2022  median_home_value_2022  \\\n",
       "0  Alabama  Autauga  01001             60199.0                241820.0   \n",
       "1  Alabama  Baldwin  01003             58644.0                358700.0   \n",
       "2  Alabama  Barbour  01005             38535.0                130835.0   \n",
       "3  Alabama     Bibb  01007             50337.0                176086.0   \n",
       "4  Alabama   Blount  01009             55747.0                261835.0   \n",
       "\n",
       "   utility_cost_2022  median_income_2020  median_home_value_2020  \\\n",
       "0            8614.24             57982.0                210703.0   \n",
       "1            9000.01             61756.0                251431.0   \n",
       "2            6725.21             34990.0                101507.5   \n",
       "3            8075.85             51721.0                140536.5   \n",
       "4            8431.41             48922.0                218418.0   \n",
       "\n",
       "   utility_cost_2020  Year  median_income_2yr_change_perc  \\\n",
       "0           7737.240  2022                       0.038236   \n",
       "1           8234.722  2022                      -0.050392   \n",
       "2           6017.770  2022                       0.101315   \n",
       "3           7276.402  2022                      -0.026759   \n",
       "4           7572.462  2022                       0.139508   \n",
       "\n",
       "   median_home_value_2yr_change_perc  utility_cost_2yr_change_perc  \n",
       "0                           0.147682                      0.113348  \n",
       "1                           0.426634                      0.092934  \n",
       "2                           0.288920                      0.117558  \n",
       "3                           0.252956                      0.109869  \n",
       "4                           0.198779                      0.113430  "
      ]
     },
     "execution_count": 12,
     "metadata": {},
     "output_type": "execute_result"
    }
   ],
   "source": [
    "# Create a 2022 - 2020 percent change dataframe for key metrics\n",
    "\n",
    "merge_columns = ['State','County','FIPS'] # For future merging\n",
    "\n",
    "index_rename = {\n",
    "    'Median Household Income':'median_income',\n",
    "    'Median Home Value':'median_home_value',\n",
    "    'Total Utility Costs':'utility_cost'\n",
    "}\n",
    "\n",
    "# Create dataframes for desired years\n",
    "df_2020 = df1.loc[df1.Year == 2020,merge_columns + list(index_rename.keys())].rename(\n",
    "    columns={k:v+'_2020' for k,v in index_rename.items()})\n",
    "df_2022 = df1.loc[df1.Year == 2022,merge_columns + list(index_rename.keys())].rename(\n",
    "    columns={k:v+'_2022' for k,v in index_rename.items()})\n",
    "\n",
    "# Merge data frames\n",
    "df_change = df_2022.merge(df_2020,on=merge_columns,how='outer')\n",
    "df_change['Year'] = 2022\n",
    "merge_columns.append('Year')\n",
    "\n",
    "# Calculate percent growth\n",
    "for kpi in list(index_rename.values()):\n",
    "    column_name = kpi+'_2yr_change_perc'\n",
    "    merge_columns.append(column_name) \n",
    "    df_change[column_name] = (df_change[kpi+'_2022'] / \n",
    "    df_change[kpi+'_2020']) - 1\n",
    "\n",
    "df_change.head()"
   ]
  },
  {
   "cell_type": "markdown",
   "metadata": {
    "cell_id": "d1b16d40ac5d4698a01a3de9f1948dac",
    "deepnote_cell_type": "markdown",
    "tags": []
   },
   "source": [
    "###### Modularize helper functions for indexing and creating a composite index:"
   ]
  },
  {
   "cell_type": "code",
   "execution_count": 13,
   "metadata": {
    "cell_id": "284b18bd8ef74e769c7eda04aa557789",
    "deepnote_cell_type": "code",
    "deepnote_to_be_reexecuted": false,
    "execution_millis": 0,
    "execution_start": 1676947813708,
    "source_hash": "5e69b26f",
    "tags": []
   },
   "outputs": [],
   "source": [
    "# Function to create consolidated index\n",
    "def create_weighted_index(data,composite_metric,base_metrics,weights):\n",
    "    \"\"\"\n",
    "    Creates a composite index calculated using a weighted average from passed\n",
    "    metrics and weights. \n",
    "\n",
    "    data: pandas DataFrame\n",
    "    composite_metric: string object indicating desired composite metric name\n",
    "    base_metrics: list object indicating the names of the desired weight variables\n",
    "    weights: dictionary object indicating the desired weights for weight variables with metric names as keys\n",
    "\n",
    "    returns: pandas DataFrame containing the new composite index\n",
    "    \"\"\"\n",
    "    data[composite_metric] = \\\n",
    "        data[base_metrics[0]] * weights[base_metrics[0]] + \\\n",
    "        data[base_metrics[1]] * weights[base_metrics[1]] + \\\n",
    "        data[base_metrics[2]] * weights[base_metrics[2]]\n",
    "\n",
    "    return data"
   ]
  },
  {
   "cell_type": "code",
   "execution_count": 14,
   "metadata": {
    "cell_id": "988e6f44a67d43a3a70c35f9a76e85b2",
    "deepnote_cell_type": "code",
    "deepnote_to_be_reexecuted": false,
    "execution_millis": 0,
    "execution_start": 1676947813710,
    "source_hash": "603cf121",
    "tags": []
   },
   "outputs": [],
   "source": [
    "# Function to create index\n",
    "def create_index(data,idx,indices,inverse):\n",
    "    \"\"\"\n",
    "    Creates an index using the formulas described in the markdown above.\n",
    "\n",
    "    data: pandas DataFrame\n",
    "    idx: string object indicating desired index name and the key for the indices dictionary\n",
    "    indices: dictionary object with index names as keys, and index base metrics (Total Utility Cost) as values\n",
    "    inverse: boolean object that determines whether to create a pure index or its inverse\n",
    "\n",
    "    returns: pandas DataFrame containing the new index\n",
    "    \"\"\"\n",
    "    if inverse:\n",
    "        data[idx] = \\\n",
    "                (1-(data[indices[idx]] - min(data[indices[idx]])) / \\\n",
    "                (max(data[indices[idx]]) - min(data[indices[idx]]))) * 100\n",
    "    else:\n",
    "        data[idx] = \\\n",
    "                (data[indices[idx]] - min(data[indices[idx]])) / \\\n",
    "                (max(data[indices[idx]]) - min(data[indices[idx]])) * 100\n",
    "    return data"
   ]
  },
  {
   "cell_type": "markdown",
   "metadata": {
    "cell_id": "c87d55802b4c446a98ee5fc196a2d953",
    "deepnote_cell_type": "markdown",
    "tags": []
   },
   "source": [
    "###### Create indexes:"
   ]
  },
  {
   "cell_type": "code",
   "execution_count": 15,
   "metadata": {
    "cell_id": "41189142d5b14ee4888f899a64ab22c9",
    "deepnote_cell_type": "code",
    "deepnote_to_be_reexecuted": false,
    "execution_millis": 197,
    "execution_start": 1676947813711,
    "source_hash": "5c35d7ca",
    "tags": []
   },
   "outputs": [
    {
     "data": {
      "text/html": [
       "<div>\n",
       "<style scoped>\n",
       "    .dataframe tbody tr th:only-of-type {\n",
       "        vertical-align: middle;\n",
       "    }\n",
       "\n",
       "    .dataframe tbody tr th {\n",
       "        vertical-align: top;\n",
       "    }\n",
       "\n",
       "    .dataframe thead th {\n",
       "        text-align: right;\n",
       "    }\n",
       "</style>\n",
       "<table border=\"1\" class=\"dataframe\">\n",
       "  <thead>\n",
       "    <tr style=\"text-align: right;\">\n",
       "      <th></th>\n",
       "      <th>State</th>\n",
       "      <th>County</th>\n",
       "      <th>Year</th>\n",
       "      <th>Median Household Income</th>\n",
       "      <th>Median Home Value</th>\n",
       "      <th>FIPS</th>\n",
       "      <th>Total Utility Costs</th>\n",
       "      <th>median_income_2yr_change_perc</th>\n",
       "      <th>median_home_value_2yr_change_perc</th>\n",
       "      <th>utility_cost_2yr_change_perc</th>\n",
       "      <th>...</th>\n",
       "      <th>income_growth_index</th>\n",
       "      <th>home_price_index</th>\n",
       "      <th>home_price_growth_index</th>\n",
       "      <th>utility_cost_index</th>\n",
       "      <th>utility_cost_growth_index</th>\n",
       "      <th>afi_unscaled</th>\n",
       "      <th>afi_growth_unscaled</th>\n",
       "      <th>afi</th>\n",
       "      <th>afi_growth</th>\n",
       "      <th>total_cost_index</th>\n",
       "    </tr>\n",
       "  </thead>\n",
       "  <tbody>\n",
       "    <tr>\n",
       "      <th>0</th>\n",
       "      <td>Alabama</td>\n",
       "      <td>Autauga</td>\n",
       "      <td>2017</td>\n",
       "      <td>55317.0</td>\n",
       "      <td>187609.5</td>\n",
       "      <td>01001</td>\n",
       "      <td>6421.74</td>\n",
       "      <td>NaN</td>\n",
       "      <td>NaN</td>\n",
       "      <td>NaN</td>\n",
       "      <td>...</td>\n",
       "      <td>NaN</td>\n",
       "      <td>90.210190</td>\n",
       "      <td>NaN</td>\n",
       "      <td>74.792821</td>\n",
       "      <td>NaN</td>\n",
       "      <td>75.056574</td>\n",
       "      <td>NaN</td>\n",
       "      <td>90.156833</td>\n",
       "      <td>NaN</td>\n",
       "      <td>87.126716</td>\n",
       "    </tr>\n",
       "    <tr>\n",
       "      <th>6</th>\n",
       "      <td>Alabama</td>\n",
       "      <td>Baldwin</td>\n",
       "      <td>2017</td>\n",
       "      <td>52562.0</td>\n",
       "      <td>198738.0</td>\n",
       "      <td>01003</td>\n",
       "      <td>7086.79</td>\n",
       "      <td>NaN</td>\n",
       "      <td>NaN</td>\n",
       "      <td>NaN</td>\n",
       "      <td>...</td>\n",
       "      <td>NaN</td>\n",
       "      <td>89.509337</td>\n",
       "      <td>NaN</td>\n",
       "      <td>66.883281</td>\n",
       "      <td>NaN</td>\n",
       "      <td>73.546202</td>\n",
       "      <td>NaN</td>\n",
       "      <td>87.821904</td>\n",
       "      <td>NaN</td>\n",
       "      <td>84.984125</td>\n",
       "    </tr>\n",
       "    <tr>\n",
       "      <th>12</th>\n",
       "      <td>Alabama</td>\n",
       "      <td>Barbour</td>\n",
       "      <td>2017</td>\n",
       "      <td>33368.0</td>\n",
       "      <td>NaN</td>\n",
       "      <td>01005</td>\n",
       "      <td>4956.61</td>\n",
       "      <td>NaN</td>\n",
       "      <td>NaN</td>\n",
       "      <td>NaN</td>\n",
       "      <td>...</td>\n",
       "      <td>NaN</td>\n",
       "      <td>NaN</td>\n",
       "      <td>NaN</td>\n",
       "      <td>92.217835</td>\n",
       "      <td>NaN</td>\n",
       "      <td>NaN</td>\n",
       "      <td>NaN</td>\n",
       "      <td>NaN</td>\n",
       "      <td>NaN</td>\n",
       "      <td>NaN</td>\n",
       "    </tr>\n",
       "    <tr>\n",
       "      <th>18</th>\n",
       "      <td>Alabama</td>\n",
       "      <td>Bibb</td>\n",
       "      <td>2017</td>\n",
       "      <td>43404.0</td>\n",
       "      <td>122391.0</td>\n",
       "      <td>01007</td>\n",
       "      <td>6077.23</td>\n",
       "      <td>NaN</td>\n",
       "      <td>NaN</td>\n",
       "      <td>NaN</td>\n",
       "      <td>...</td>\n",
       "      <td>NaN</td>\n",
       "      <td>94.317536</td>\n",
       "      <td>NaN</td>\n",
       "      <td>78.890131</td>\n",
       "      <td>NaN</td>\n",
       "      <td>75.437033</td>\n",
       "      <td>NaN</td>\n",
       "      <td>90.744996</td>\n",
       "      <td>NaN</td>\n",
       "      <td>91.232055</td>\n",
       "    </tr>\n",
       "    <tr>\n",
       "      <th>24</th>\n",
       "      <td>Alabama</td>\n",
       "      <td>Blount</td>\n",
       "      <td>2017</td>\n",
       "      <td>47412.0</td>\n",
       "      <td>187903.0</td>\n",
       "      <td>01009</td>\n",
       "      <td>6284.04</td>\n",
       "      <td>NaN</td>\n",
       "      <td>NaN</td>\n",
       "      <td>NaN</td>\n",
       "      <td>...</td>\n",
       "      <td>NaN</td>\n",
       "      <td>90.191706</td>\n",
       "      <td>NaN</td>\n",
       "      <td>76.430508</td>\n",
       "      <td>NaN</td>\n",
       "      <td>73.334205</td>\n",
       "      <td>NaN</td>\n",
       "      <td>87.494172</td>\n",
       "      <td>NaN</td>\n",
       "      <td>87.439466</td>\n",
       "    </tr>\n",
       "  </tbody>\n",
       "</table>\n",
       "<p>5 rows × 21 columns</p>\n",
       "</div>"
      ],
      "text/plain": [
       "      State   County  Year  Median Household Income  Median Home Value   FIPS  \\\n",
       "0   Alabama  Autauga  2017                  55317.0           187609.5  01001   \n",
       "6   Alabama  Baldwin  2017                  52562.0           198738.0  01003   \n",
       "12  Alabama  Barbour  2017                  33368.0                NaN  01005   \n",
       "18  Alabama     Bibb  2017                  43404.0           122391.0  01007   \n",
       "24  Alabama   Blount  2017                  47412.0           187903.0  01009   \n",
       "\n",
       "    Total Utility Costs  median_income_2yr_change_perc  \\\n",
       "0               6421.74                            NaN   \n",
       "6               7086.79                            NaN   \n",
       "12              4956.61                            NaN   \n",
       "18              6077.23                            NaN   \n",
       "24              6284.04                            NaN   \n",
       "\n",
       "    median_home_value_2yr_change_perc  utility_cost_2yr_change_perc  ...  \\\n",
       "0                                 NaN                           NaN  ...   \n",
       "6                                 NaN                           NaN  ...   \n",
       "12                                NaN                           NaN  ...   \n",
       "18                                NaN                           NaN  ...   \n",
       "24                                NaN                           NaN  ...   \n",
       "\n",
       "    income_growth_index  home_price_index  home_price_growth_index  \\\n",
       "0                   NaN         90.210190                      NaN   \n",
       "6                   NaN         89.509337                      NaN   \n",
       "12                  NaN               NaN                      NaN   \n",
       "18                  NaN         94.317536                      NaN   \n",
       "24                  NaN         90.191706                      NaN   \n",
       "\n",
       "    utility_cost_index  utility_cost_growth_index  afi_unscaled  \\\n",
       "0            74.792821                        NaN     75.056574   \n",
       "6            66.883281                        NaN     73.546202   \n",
       "12           92.217835                        NaN           NaN   \n",
       "18           78.890131                        NaN     75.437033   \n",
       "24           76.430508                        NaN     73.334205   \n",
       "\n",
       "    afi_growth_unscaled        afi  afi_growth  total_cost_index  \n",
       "0                   NaN  90.156833         NaN         87.126716  \n",
       "6                   NaN  87.821904         NaN         84.984125  \n",
       "12                  NaN        NaN         NaN               NaN  \n",
       "18                  NaN  90.744996         NaN         91.232055  \n",
       "24                  NaN  87.494172         NaN         87.439466  \n",
       "\n",
       "[5 rows x 21 columns]"
      ]
     },
     "execution_count": 15,
     "metadata": {},
     "output_type": "execute_result"
    }
   ],
   "source": [
    "# Merge percent change dataframe with main\n",
    "df1b = df1.merge(df_change[merge_columns],on=merge_columns[:4],how='left')\n",
    "\n",
    "\n",
    "# Create dictionary of indexes and their base metrics\n",
    "indices = {\n",
    "    'income_index':'Median Household Income',\n",
    "    'income_growth_index':'median_income_2yr_change_perc',\n",
    "    'home_price_index':'Median Home Value',\n",
    "    'home_price_growth_index':'median_home_value_2yr_change_perc',\n",
    "    'utility_cost_index':'Total Utility Costs',\n",
    "    'utility_cost_growth_index':'utility_cost_2yr_change_perc'\n",
    "}\n",
    "\n",
    "# Create dictionary of sub-index weights for the composite \"affordability\" index\n",
    "afi_weights = {\n",
    "    'income_index':0.25,\n",
    "    'utility_cost_index':0.05,\n",
    "    'home_price_index':0.70,\n",
    "    'income_growth_index':0.25,\n",
    "    'utility_cost_growth_index':0.05,\n",
    "    'home_price_growth_index':0.70\n",
    "}\n",
    "\n",
    "# Calculate individual indexes by year\n",
    "years = sorted(df1b.Year.unique())\n",
    "dfs = []\n",
    "for y in years:\n",
    "    df_tmp = df1b.loc[df1b.Year == y].copy() # Create temporary DataFrame sliced by the current year\n",
    "    \n",
    "    # Create sub-indexes\n",
    "    i = 0\n",
    "    for idx in indices.keys():\n",
    "        if idx in ['income_index','income_growth_index']:\n",
    "            df_tmp = create_index(df_tmp,idx,indices,inverse=False)\n",
    " \n",
    "        else:\n",
    "            # For cost-related indices, subtract one from the calculation to give lower costs a higher index\n",
    "            df_tmp = create_index(df_tmp,idx,indices,inverse=True)\n",
    "\n",
    "    # Create composite price-based index\n",
    "    df_tmp = create_weighted_index(\n",
    "        df_tmp,\n",
    "        'afi_unscaled',\n",
    "        ['income_index','utility_cost_index','home_price_index'],\n",
    "        afi_weights\n",
    "        )\n",
    "\n",
    "    # Create composite growth-based index\n",
    "    df_tmp = create_weighted_index(\n",
    "        df_tmp,\n",
    "        'afi_growth_unscaled',\n",
    "        ['income_growth_index','utility_cost_growth_index','home_price_growth_index'],\n",
    "        afi_weights\n",
    "        )\n",
    "\n",
    "    # Scale the composite indexes between 0-100 by re-indexing them\n",
    "    df_tmp = create_index(df_tmp,'afi',{'afi':'afi_unscaled'},inverse=False)\n",
    "    df_tmp = create_index(df_tmp,'afi_growth',{'afi_growth':'afi_growth_unscaled'},inverse=False)\n",
    "\n",
    "    # Create a total cost index using just home price and utility costs.\n",
    "    df_tmp['total_cost_index'] = \\\n",
    "        df_tmp.home_price_index * 0.8 + \\\n",
    "        df_tmp.utility_cost_index * 0.2\n",
    "    \n",
    "    dfs.append(df_tmp)\n",
    "\n",
    "df2 = pd.concat(dfs)\n",
    "\n",
    "df2.head()"
   ]
  },
  {
   "cell_type": "code",
   "execution_count": 16,
   "metadata": {
    "cell_id": "3724f218d56946f195cb920d40481d5f",
    "deepnote_cell_type": "code",
    "deepnote_to_be_reexecuted": false,
    "execution_millis": 42,
    "execution_start": 1676947813903,
    "source_hash": "6f8000fc",
    "tags": []
   },
   "outputs": [],
   "source": [
    "# Write to disk\n",
    "df2.to_parquet(\"data/merged_dataframe.parquet\")"
   ]
  },
  {
   "cell_type": "markdown",
   "metadata": {
    "created_in_deepnote_cell": true,
    "deepnote_cell_type": "markdown",
    "tags": []
   },
   "source": [
    "<a style='text-decoration:none;line-height:16px;display:flex;color:#5B5B62;padding:10px;justify-content:end;' href='https://deepnote.com?utm_source=created-in-deepnote-cell&projectId=295bb911-c56a-4f18-9d98-f03c8b82d5f2' target=\"_blank\">\n",
    "<img alt='Created in deepnote.com' style='display:inline;max-height:16px;margin:0px;margin-right:7.5px;' src='data:image/svg+xml;base64,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' > </img>\n",
    "Created in <span style='font-weight:600;margin-left:4px;'>Deepnote</span></a>"
   ]
  }
 ],
 "metadata": {
  "deepnote": {},
  "deepnote_execution_queue": [],
  "deepnote_notebook_id": "bbd720c0fd3b4241bb3e77878478e612",
  "kernelspec": {
   "display_name": "Python 3",
   "language": "python",
   "name": "python3"
  },
  "language_info": {
   "codemirror_mode": {
    "name": "ipython",
    "version": 3
   },
   "file_extension": ".py",
   "mimetype": "text/x-python",
   "name": "python",
   "nbconvert_exporter": "python",
   "pygments_lexer": "ipython3",
   "version": "3.8.8"
  }
 },
 "nbformat": 4,
 "nbformat_minor": 1
}
